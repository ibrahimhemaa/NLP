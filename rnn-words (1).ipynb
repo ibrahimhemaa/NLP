{
 "cells": [
  {
   "cell_type": "code",
   "execution_count": 1,
   "id": "1a857891",
   "metadata": {
    "_cell_guid": "50683336-15d2-4359-8f32-84ca4737c1b0",
    "_uuid": "e363f170-201d-45c3-82a6-5d3a14479ccf",
    "execution": {
     "iopub.execute_input": "2024-05-10T16:02:43.338758Z",
     "iopub.status.busy": "2024-05-10T16:02:43.338280Z",
     "iopub.status.idle": "2024-05-10T16:02:59.617790Z",
     "shell.execute_reply": "2024-05-10T16:02:59.616448Z"
    },
    "papermill": {
     "duration": 16.29468,
     "end_time": "2024-05-10T16:02:59.620058",
     "exception": false,
     "start_time": "2024-05-10T16:02:43.325378",
     "status": "completed"
    },
    "tags": []
   },
   "outputs": [
    {
     "name": "stdout",
     "output_type": "stream",
     "text": [
      "Collecting wikipedia\r\n",
      "  Downloading wikipedia-1.4.0.tar.gz (27 kB)\r\n",
      "  Preparing metadata (setup.py) ... \u001b[?25l-\b \bdone\r\n",
      "\u001b[?25hRequirement already satisfied: beautifulsoup4 in /opt/conda/lib/python3.10/site-packages (from wikipedia) (4.12.2)\r\n",
      "Requirement already satisfied: requests<3.0.0,>=2.0.0 in /opt/conda/lib/python3.10/site-packages (from wikipedia) (2.31.0)\r\n",
      "Requirement already satisfied: charset-normalizer<4,>=2 in /opt/conda/lib/python3.10/site-packages (from requests<3.0.0,>=2.0.0->wikipedia) (3.3.2)\r\n",
      "Requirement already satisfied: idna<4,>=2.5 in /opt/conda/lib/python3.10/site-packages (from requests<3.0.0,>=2.0.0->wikipedia) (3.6)\r\n",
      "Requirement already satisfied: urllib3<3,>=1.21.1 in /opt/conda/lib/python3.10/site-packages (from requests<3.0.0,>=2.0.0->wikipedia) (1.26.18)\r\n",
      "Requirement already satisfied: certifi>=2017.4.17 in /opt/conda/lib/python3.10/site-packages (from requests<3.0.0,>=2.0.0->wikipedia) (2024.2.2)\r\n",
      "Requirement already satisfied: soupsieve>1.2 in /opt/conda/lib/python3.10/site-packages (from beautifulsoup4->wikipedia) (2.5)\r\n",
      "Building wheels for collected packages: wikipedia\r\n",
      "  Building wheel for wikipedia (setup.py) ... \u001b[?25l-\b \b\\\b \bdone\r\n",
      "\u001b[?25h  Created wheel for wikipedia: filename=wikipedia-1.4.0-py3-none-any.whl size=11678 sha256=3bb0fd5dca1c5f80ca4b9e502370a1cebb0002a6d634726674305c40ed8ec875\r\n",
      "  Stored in directory: /root/.cache/pip/wheels/5e/b6/c5/93f3dec388ae76edc830cb42901bb0232504dfc0df02fc50de\r\n",
      "Successfully built wikipedia\r\n",
      "Installing collected packages: wikipedia\r\n",
      "Successfully installed wikipedia-1.4.0\r\n",
      "Note: you may need to restart the kernel to use updated packages.\n"
     ]
    }
   ],
   "source": [
    "pip install wikipedia"
   ]
  },
  {
   "cell_type": "code",
   "execution_count": 2,
   "id": "a115ba4b",
   "metadata": {
    "_cell_guid": "1b57088f-923a-4f8c-9843-feb68178e38c",
    "_uuid": "ff8d92dd-4897-49f6-b113-a9db71642f22",
    "collapsed": false,
    "execution": {
     "iopub.execute_input": "2024-05-10T16:02:59.645391Z",
     "iopub.status.busy": "2024-05-10T16:02:59.644860Z",
     "iopub.status.idle": "2024-05-10T16:03:02.977348Z",
     "shell.execute_reply": "2024-05-10T16:03:02.976133Z"
    },
    "jupyter": {
     "outputs_hidden": false
    },
    "papermill": {
     "duration": 3.346678,
     "end_time": "2024-05-10T16:03:02.979123",
     "exception": true,
     "start_time": "2024-05-10T16:02:59.632445",
     "status": "failed"
    },
    "tags": []
   },
   "outputs": [
    {
     "name": "stdout",
     "output_type": "stream",
     "text": [
      "Page 'Machine learning' does not exist.\n"
     ]
    },
    {
     "ename": "WikipediaException",
     "evalue": "An unknown error occured: \"Search is currently too busy. Please try again later.\". Please report it on GitHub!",
     "output_type": "error",
     "traceback": [
      "\u001b[0;31m---------------------------------------------------------------------------\u001b[0m",
      "\u001b[0;31mWikipediaException\u001b[0m                        Traceback (most recent call last)",
      "Cell \u001b[0;32mIn[2], line 28\u001b[0m\n\u001b[1;32m     25\u001b[0m     pages \u001b[38;5;241m=\u001b[39m wikipedia\u001b[38;5;241m.\u001b[39msearch(title, results\u001b[38;5;241m=\u001b[39mnum_pages_per_topic, suggestion\u001b[38;5;241m=\u001b[39m\u001b[38;5;28;01mFalse\u001b[39;00m)\n\u001b[1;32m     27\u001b[0m     \u001b[38;5;66;03m# Store the title and content in the dictionary\u001b[39;00m\n\u001b[0;32m---> 28\u001b[0m     documents[title] \u001b[38;5;241m=\u001b[39m \u001b[38;5;124m\"\u001b[39m\u001b[38;5;130;01m\\n\u001b[39;00m\u001b[38;5;124m\"\u001b[39m\u001b[38;5;241m.\u001b[39mjoin([wikipedia\u001b[38;5;241m.\u001b[39mpage(page)\u001b[38;5;241m.\u001b[39mcontent \u001b[38;5;28;01mfor\u001b[39;00m page \u001b[38;5;129;01min\u001b[39;00m pages])\n\u001b[1;32m     29\u001b[0m \u001b[38;5;28;01mexcept\u001b[39;00m wikipedia\u001b[38;5;241m.\u001b[39mexceptions\u001b[38;5;241m.\u001b[39mPageError:\n\u001b[1;32m     30\u001b[0m     \u001b[38;5;28mprint\u001b[39m(\u001b[38;5;124m\"\u001b[39m\u001b[38;5;124mPage \u001b[39m\u001b[38;5;124m'\u001b[39m\u001b[38;5;132;01m{}\u001b[39;00m\u001b[38;5;124m'\u001b[39m\u001b[38;5;124m does not exist.\u001b[39m\u001b[38;5;124m\"\u001b[39m\u001b[38;5;241m.\u001b[39mformat(title))\n",
      "Cell \u001b[0;32mIn[2], line 28\u001b[0m, in \u001b[0;36m<listcomp>\u001b[0;34m(.0)\u001b[0m\n\u001b[1;32m     25\u001b[0m     pages \u001b[38;5;241m=\u001b[39m wikipedia\u001b[38;5;241m.\u001b[39msearch(title, results\u001b[38;5;241m=\u001b[39mnum_pages_per_topic, suggestion\u001b[38;5;241m=\u001b[39m\u001b[38;5;28;01mFalse\u001b[39;00m)\n\u001b[1;32m     27\u001b[0m     \u001b[38;5;66;03m# Store the title and content in the dictionary\u001b[39;00m\n\u001b[0;32m---> 28\u001b[0m     documents[title] \u001b[38;5;241m=\u001b[39m \u001b[38;5;124m\"\u001b[39m\u001b[38;5;130;01m\\n\u001b[39;00m\u001b[38;5;124m\"\u001b[39m\u001b[38;5;241m.\u001b[39mjoin([\u001b[43mwikipedia\u001b[49m\u001b[38;5;241;43m.\u001b[39;49m\u001b[43mpage\u001b[49m\u001b[43m(\u001b[49m\u001b[43mpage\u001b[49m\u001b[43m)\u001b[49m\u001b[38;5;241m.\u001b[39mcontent \u001b[38;5;28;01mfor\u001b[39;00m page \u001b[38;5;129;01min\u001b[39;00m pages])\n\u001b[1;32m     29\u001b[0m \u001b[38;5;28;01mexcept\u001b[39;00m wikipedia\u001b[38;5;241m.\u001b[39mexceptions\u001b[38;5;241m.\u001b[39mPageError:\n\u001b[1;32m     30\u001b[0m     \u001b[38;5;28mprint\u001b[39m(\u001b[38;5;124m\"\u001b[39m\u001b[38;5;124mPage \u001b[39m\u001b[38;5;124m'\u001b[39m\u001b[38;5;132;01m{}\u001b[39;00m\u001b[38;5;124m'\u001b[39m\u001b[38;5;124m does not exist.\u001b[39m\u001b[38;5;124m\"\u001b[39m\u001b[38;5;241m.\u001b[39mformat(title))\n",
      "File \u001b[0;32m/opt/conda/lib/python3.10/site-packages/wikipedia/wikipedia.py:270\u001b[0m, in \u001b[0;36mpage\u001b[0;34m(title, pageid, auto_suggest, redirect, preload)\u001b[0m\n\u001b[1;32m    268\u001b[0m \u001b[38;5;28;01mif\u001b[39;00m title \u001b[38;5;129;01mis\u001b[39;00m \u001b[38;5;129;01mnot\u001b[39;00m \u001b[38;5;28;01mNone\u001b[39;00m:\n\u001b[1;32m    269\u001b[0m   \u001b[38;5;28;01mif\u001b[39;00m auto_suggest:\n\u001b[0;32m--> 270\u001b[0m     results, suggestion \u001b[38;5;241m=\u001b[39m \u001b[43msearch\u001b[49m\u001b[43m(\u001b[49m\u001b[43mtitle\u001b[49m\u001b[43m,\u001b[49m\u001b[43m \u001b[49m\u001b[43mresults\u001b[49m\u001b[38;5;241;43m=\u001b[39;49m\u001b[38;5;241;43m1\u001b[39;49m\u001b[43m,\u001b[49m\u001b[43m \u001b[49m\u001b[43msuggestion\u001b[49m\u001b[38;5;241;43m=\u001b[39;49m\u001b[38;5;28;43;01mTrue\u001b[39;49;00m\u001b[43m)\u001b[49m\n\u001b[1;32m    271\u001b[0m     \u001b[38;5;28;01mtry\u001b[39;00m:\n\u001b[1;32m    272\u001b[0m       title \u001b[38;5;241m=\u001b[39m suggestion \u001b[38;5;129;01mor\u001b[39;00m results[\u001b[38;5;241m0\u001b[39m]\n",
      "File \u001b[0;32m/opt/conda/lib/python3.10/site-packages/wikipedia/util.py:28\u001b[0m, in \u001b[0;36mcache.__call__\u001b[0;34m(self, *args, **kwargs)\u001b[0m\n\u001b[1;32m     26\u001b[0m   ret \u001b[38;5;241m=\u001b[39m \u001b[38;5;28mself\u001b[39m\u001b[38;5;241m.\u001b[39m_cache[key]\n\u001b[1;32m     27\u001b[0m \u001b[38;5;28;01melse\u001b[39;00m:\n\u001b[0;32m---> 28\u001b[0m   ret \u001b[38;5;241m=\u001b[39m \u001b[38;5;28mself\u001b[39m\u001b[38;5;241m.\u001b[39m_cache[key] \u001b[38;5;241m=\u001b[39m \u001b[38;5;28;43mself\u001b[39;49m\u001b[38;5;241;43m.\u001b[39;49m\u001b[43mfn\u001b[49m\u001b[43m(\u001b[49m\u001b[38;5;241;43m*\u001b[39;49m\u001b[43margs\u001b[49m\u001b[43m,\u001b[49m\u001b[43m \u001b[49m\u001b[38;5;241;43m*\u001b[39;49m\u001b[38;5;241;43m*\u001b[39;49m\u001b[43mkwargs\u001b[49m\u001b[43m)\u001b[49m\n\u001b[1;32m     30\u001b[0m \u001b[38;5;28;01mreturn\u001b[39;00m ret\n",
      "File \u001b[0;32m/opt/conda/lib/python3.10/site-packages/wikipedia/wikipedia.py:109\u001b[0m, in \u001b[0;36msearch\u001b[0;34m(query, results, suggestion)\u001b[0m\n\u001b[1;32m    107\u001b[0m     \u001b[38;5;28;01mraise\u001b[39;00m HTTPTimeoutError(query)\n\u001b[1;32m    108\u001b[0m   \u001b[38;5;28;01melse\u001b[39;00m:\n\u001b[0;32m--> 109\u001b[0m     \u001b[38;5;28;01mraise\u001b[39;00m WikipediaException(raw_results[\u001b[38;5;124m'\u001b[39m\u001b[38;5;124merror\u001b[39m\u001b[38;5;124m'\u001b[39m][\u001b[38;5;124m'\u001b[39m\u001b[38;5;124minfo\u001b[39m\u001b[38;5;124m'\u001b[39m])\n\u001b[1;32m    111\u001b[0m search_results \u001b[38;5;241m=\u001b[39m (d[\u001b[38;5;124m'\u001b[39m\u001b[38;5;124mtitle\u001b[39m\u001b[38;5;124m'\u001b[39m] \u001b[38;5;28;01mfor\u001b[39;00m d \u001b[38;5;129;01min\u001b[39;00m raw_results[\u001b[38;5;124m'\u001b[39m\u001b[38;5;124mquery\u001b[39m\u001b[38;5;124m'\u001b[39m][\u001b[38;5;124m'\u001b[39m\u001b[38;5;124msearch\u001b[39m\u001b[38;5;124m'\u001b[39m])\n\u001b[1;32m    113\u001b[0m \u001b[38;5;28;01mif\u001b[39;00m suggestion:\n",
      "\u001b[0;31mWikipediaException\u001b[0m: An unknown error occured: \"Search is currently too busy. Please try again later.\". Please report it on GitHub!"
     ]
    }
   ],
   "source": [
    "import wikipedia\n",
    "\n",
    "# Set a custom user agent to comply with Wikipedia's policy\n",
    "wikipedia.set_user_agent(\"My Wikipedia Scraping Bot (youremail@example.com)\")\n",
    "\n",
    "# List of Wikipedia page titles\n",
    "page_titles = [\n",
    "    \"Machine learning\",\n",
    "    \"Deep learning\",\n",
    "    \"Natural Language Processing\", \n",
    "    \"Recurrent neural network\", \n",
    "    \"Convolutional neural network\", \n",
    "]\n",
    "\n",
    "# Dictionary to store page titles and their content\n",
    "documents = {}\n",
    "\n",
    "# Number of pages to fetch for each document topic\n",
    "num_pages_per_topic = 10\n",
    "\n",
    "# Fetch content for each page\n",
    "for title in page_titles:\n",
    "    try:\n",
    "        # Fetch the page content\n",
    "        pages = wikipedia.search(title, results=num_pages_per_topic, suggestion=False)\n",
    "\n",
    "        # Store the title and content in the dictionary\n",
    "        documents[title] = \"\\n\".join([wikipedia.page(page).content for page in pages])\n",
    "    except wikipedia.exceptions.PageError:\n",
    "        print(\"Page '{}' does not exist.\".format(title))\n",
    "    except wikipedia.exceptions.DisambiguationError as e:\n",
    "        print(\"Page '{}' is a disambiguation page. Skipping.\".format(title))\n",
    "\n",
    "# Combine all content into one string\n",
    "all_content = \"\\n\".join(documents.values())\n",
    "\n",
    "# Print the combined content\n",
    "print(\"Combined Content:\")\n",
    "print(all_content[:500])  # Print only the first 500 characters for demonstration"
   ]
  },
  {
   "cell_type": "code",
   "execution_count": null,
   "id": "0fce0365",
   "metadata": {
    "_cell_guid": "48735371-1372-4105-8a5d-4e9f3dc43317",
    "_uuid": "8f18558d-8827-4bc0-b0bd-c2bcc8bfe3f0",
    "collapsed": false,
    "execution": {
     "iopub.execute_input": "2024-05-10T14:27:41.021902Z",
     "iopub.status.busy": "2024-05-10T14:27:41.021412Z",
     "iopub.status.idle": "2024-05-10T14:27:41.028939Z",
     "shell.execute_reply": "2024-05-10T14:27:41.027962Z",
     "shell.execute_reply.started": "2024-05-10T14:27:41.021875Z"
    },
    "jupyter": {
     "outputs_hidden": false
    },
    "papermill": {
     "duration": null,
     "end_time": null,
     "exception": null,
     "start_time": null,
     "status": "pending"
    },
    "tags": []
   },
   "outputs": [],
   "source": [
    "len(all_content)"
   ]
  },
  {
   "cell_type": "code",
   "execution_count": null,
   "id": "764b5a59",
   "metadata": {
    "_cell_guid": "6e722155-9d8b-4f0b-a30a-9f93ee6e6856",
    "_uuid": "ea9b70b1-51eb-466d-8acc-6201dde36487",
    "execution": {
     "iopub.execute_input": "2024-05-10T14:27:41.032129Z",
     "iopub.status.busy": "2024-05-10T14:27:41.031793Z",
     "iopub.status.idle": "2024-05-10T14:27:52.387627Z",
     "shell.execute_reply": "2024-05-10T14:27:52.386651Z",
     "shell.execute_reply.started": "2024-05-10T14:27:41.032101Z"
    },
    "papermill": {
     "duration": null,
     "end_time": null,
     "exception": null,
     "start_time": null,
     "status": "pending"
    },
    "tags": []
   },
   "outputs": [],
   "source": [
    "import re\n",
    "import numpy as np\n",
    "import nltk\n",
    "import spacy\n",
    "\n",
    "from spacy.cli import download\n",
    "from spacy import load\n",
    "import warnings\n",
    "\n",
    "import nltk\n",
    "from nltk.tokenize import word_tokenize, sent_tokenize\n",
    "from nltk.corpus import stopwords\n",
    "from nltk.stem import WordNetLemmatizer\n",
    "from nltk.stem import PorterStemmer"
   ]
  },
  {
   "cell_type": "code",
   "execution_count": null,
   "id": "6968aeee",
   "metadata": {
    "execution": {
     "iopub.execute_input": "2024-05-10T14:27:52.389404Z",
     "iopub.status.busy": "2024-05-10T14:27:52.388854Z",
     "iopub.status.idle": "2024-05-10T14:27:53.101825Z",
     "shell.execute_reply": "2024-05-10T14:27:53.100852Z",
     "shell.execute_reply.started": "2024-05-10T14:27:52.389369Z"
    },
    "papermill": {
     "duration": null,
     "end_time": null,
     "exception": null,
     "start_time": null,
     "status": "pending"
    },
    "tags": []
   },
   "outputs": [],
   "source": [
    "nltk.download('stopwords')\n",
    "nltk.download('omw-1.4')\n",
    "nltk.download('wordnet2022')"
   ]
  },
  {
   "cell_type": "code",
   "execution_count": null,
   "id": "0df366e3",
   "metadata": {
    "execution": {
     "iopub.execute_input": "2024-05-10T14:27:53.103309Z",
     "iopub.status.busy": "2024-05-10T14:27:53.103037Z",
     "iopub.status.idle": "2024-05-10T14:27:53.113339Z",
     "shell.execute_reply": "2024-05-10T14:27:53.112457Z",
     "shell.execute_reply.started": "2024-05-10T14:27:53.103286Z"
    },
    "papermill": {
     "duration": null,
     "end_time": null,
     "exception": null,
     "start_time": null,
     "status": "pending"
    },
    "tags": []
   },
   "outputs": [],
   "source": [
    "class preprocessing:\n",
    "    def __init__(self,text):\n",
    "        self.text=text\n",
    "        self.words=None\n",
    "    def clear(self):\n",
    "        clean = re.compile('<.*?>')\n",
    "        self.text =  re.sub(clean, '', self.text)\n",
    "        self.text= re.sub(r\"[^a-zA-Z]\",\" \",self.text)\n",
    "        self.text = re.sub(r'\\s+', ' ', self.text)\n",
    "    def Normalization(self):\n",
    "        self.text=self.text.lower()\n",
    "#         print(self.text)\n",
    "    def Tokenization(self):\n",
    "        self.words = word_tokenize(self.text)\n",
    "#         print(self.words)\n",
    "    def del_stop_words(self):\n",
    "        stop_words = set(stopwords.words('english'))\n",
    "        self.words=[word for word in self.words if (word not in stop_words)]\n",
    "        \n",
    "    def stemming(self):\n",
    "        stemmer = PorterStemmer()\n",
    "        self.words = [stemmer.stem(word) for word in self.words]\n",
    "    def unique_words(self):\n",
    "        self.words = list(set(self.words))\n",
    "        return self.words\n",
    "    def return_string(self):\n",
    "        return ' '.join(self.words)\n",
    "    def del_char (self):\n",
    "        self.words=[word for word in self.words if (len(word)>1)]\n",
    "        return self.words"
   ]
  },
  {
   "cell_type": "code",
   "execution_count": null,
   "id": "53e8b3ff",
   "metadata": {
    "execution": {
     "iopub.execute_input": "2024-05-10T14:27:53.114916Z",
     "iopub.status.busy": "2024-05-10T14:27:53.114569Z",
     "iopub.status.idle": "2024-05-10T14:27:53.129152Z",
     "shell.execute_reply": "2024-05-10T14:27:53.128315Z",
     "shell.execute_reply.started": "2024-05-10T14:27:53.114885Z"
    },
    "papermill": {
     "duration": null,
     "end_time": null,
     "exception": null,
     "start_time": null,
     "status": "pending"
    },
    "tags": []
   },
   "outputs": [],
   "source": [
    "def clean_document (document):\n",
    "    cleaner = preprocessing(document)\n",
    "    cleaner.clear()\n",
    "    cleaner.Tokenization()\n",
    "    cleaner.Normalization()\n",
    "    cleaner.del_stop_words()\n",
    "    cleaner.stemming()\n",
    "    cleaner.del_char()\n",
    "    output = cleaner.return_string()\n",
    "    return output"
   ]
  },
  {
   "cell_type": "code",
   "execution_count": null,
   "id": "7ca85b4a",
   "metadata": {
    "_cell_guid": "94813c7a-9932-447a-ab4c-dbf3ce457767",
    "_uuid": "153be9cc-109c-4276-bdc7-263ededfffae",
    "collapsed": false,
    "execution": {
     "iopub.execute_input": "2024-05-10T14:27:53.131064Z",
     "iopub.status.busy": "2024-05-10T14:27:53.130391Z",
     "iopub.status.idle": "2024-05-10T14:27:57.022283Z",
     "shell.execute_reply": "2024-05-10T14:27:57.021516Z",
     "shell.execute_reply.started": "2024-05-10T14:27:53.131032Z"
    },
    "jupyter": {
     "outputs_hidden": false
    },
    "papermill": {
     "duration": null,
     "end_time": null,
     "exception": null,
     "start_time": null,
     "status": "pending"
    },
    "tags": []
   },
   "outputs": [],
   "source": [
    "clear = clean_document(all_content)"
   ]
  },
  {
   "cell_type": "code",
   "execution_count": null,
   "id": "3e7342a4",
   "metadata": {
    "_cell_guid": "c5fd9771-f53d-479d-af24-68f048517e7e",
    "_uuid": "229634be-1834-4523-b049-ae729f5c543c",
    "collapsed": false,
    "execution": {
     "iopub.execute_input": "2024-05-10T14:27:57.023803Z",
     "iopub.status.busy": "2024-05-10T14:27:57.023438Z",
     "iopub.status.idle": "2024-05-10T14:27:57.029843Z",
     "shell.execute_reply": "2024-05-10T14:27:57.028961Z",
     "shell.execute_reply.started": "2024-05-10T14:27:57.023773Z"
    },
    "jupyter": {
     "outputs_hidden": false
    },
    "papermill": {
     "duration": null,
     "end_time": null,
     "exception": null,
     "start_time": null,
     "status": "pending"
    },
    "tags": []
   },
   "outputs": [],
   "source": [
    "clear[:1200]"
   ]
  },
  {
   "cell_type": "code",
   "execution_count": null,
   "id": "1ae22d01",
   "metadata": {
    "_cell_guid": "48555db6-e4a7-4e4a-af90-3105124fde51",
    "_uuid": "d1edeb82-560c-4dce-be57-becbf3b56997",
    "collapsed": false,
    "execution": {
     "iopub.execute_input": "2024-05-10T14:27:57.034689Z",
     "iopub.status.busy": "2024-05-10T14:27:57.034283Z",
     "iopub.status.idle": "2024-05-10T14:27:57.051286Z",
     "shell.execute_reply": "2024-05-10T14:27:57.050477Z",
     "shell.execute_reply.started": "2024-05-10T14:27:57.034665Z"
    },
    "jupyter": {
     "outputs_hidden": false
    },
    "papermill": {
     "duration": null,
     "end_time": null,
     "exception": null,
     "start_time": null,
     "status": "pending"
    },
    "tags": []
   },
   "outputs": [],
   "source": [
    "words = set(clear.split())  # Unique characters in input text\n",
    "words_to_indices = dict((c, i) for i, c in enumerate(words))  # Character to index mapping\n",
    "indices_to_words = dict((i, c) for i, c in enumerate(words))  # Index to character mapping"
   ]
  },
  {
   "cell_type": "code",
   "execution_count": null,
   "id": "c216b934",
   "metadata": {
    "_cell_guid": "a4bb4699-5050-495d-9af8-d754cd0326f4",
    "_uuid": "bb93b499-7a6c-46ba-ba47-0116cdd0e17a",
    "execution": {
     "iopub.execute_input": "2024-05-10T14:27:57.052431Z",
     "iopub.status.busy": "2024-05-10T14:27:57.052188Z",
     "iopub.status.idle": "2024-05-10T14:27:57.093511Z",
     "shell.execute_reply": "2024-05-10T14:27:57.092672Z",
     "shell.execute_reply.started": "2024-05-10T14:27:57.052410Z"
    },
    "papermill": {
     "duration": null,
     "end_time": null,
     "exception": null,
     "start_time": null,
     "status": "pending"
    },
    "tags": []
   },
   "outputs": [],
   "source": [
    "indices_to_words"
   ]
  },
  {
   "cell_type": "code",
   "execution_count": null,
   "id": "0aa3fdb7",
   "metadata": {
    "_cell_guid": "b400ecfc-2fcd-422e-87b3-9b5396e3fc84",
    "_uuid": "c768bf82-d08b-4861-b668-b8b4b4a03b4a",
    "collapsed": false,
    "execution": {
     "iopub.execute_input": "2024-05-10T14:27:57.094793Z",
     "iopub.status.busy": "2024-05-10T14:27:57.094527Z",
     "iopub.status.idle": "2024-05-10T14:27:57.100618Z",
     "shell.execute_reply": "2024-05-10T14:27:57.099740Z",
     "shell.execute_reply.started": "2024-05-10T14:27:57.094770Z"
    },
    "jupyter": {
     "outputs_hidden": false
    },
    "papermill": {
     "duration": null,
     "end_time": null,
     "exception": null,
     "start_time": null,
     "status": "pending"
    },
    "tags": []
   },
   "outputs": [],
   "source": [
    "len(indices_to_words)"
   ]
  },
  {
   "cell_type": "code",
   "execution_count": null,
   "id": "12f90c15",
   "metadata": {
    "_cell_guid": "47a11483-9057-4e62-a4e8-e441887841c5",
    "_uuid": "70ee0c0d-63ad-404d-8174-d436852e280b",
    "collapsed": false,
    "execution": {
     "iopub.execute_input": "2024-05-10T14:27:57.102309Z",
     "iopub.status.busy": "2024-05-10T14:27:57.101996Z",
     "iopub.status.idle": "2024-05-10T14:27:57.108937Z",
     "shell.execute_reply": "2024-05-10T14:27:57.108104Z",
     "shell.execute_reply.started": "2024-05-10T14:27:57.102281Z"
    },
    "jupyter": {
     "outputs_hidden": false
    },
    "papermill": {
     "duration": null,
     "end_time": null,
     "exception": null,
     "start_time": null,
     "status": "pending"
    },
    "tags": []
   },
   "outputs": [],
   "source": [
    "maxlen = 5  # Maximum length of input sequence\n",
    "step = 3  # Step size for creating input sequences\n",
    "sentences = []  # List to store input sequences\n",
    "next_words = []  # List to store next words"
   ]
  },
  {
   "cell_type": "code",
   "execution_count": null,
   "id": "e8749d74",
   "metadata": {
    "_cell_guid": "05d6452f-cf7d-437c-a624-6df01d71bdd4",
    "_uuid": "c6cdbe1d-5f08-4c7f-a347-e0ef382193b2",
    "collapsed": false,
    "execution": {
     "iopub.execute_input": "2024-05-10T14:27:57.110300Z",
     "iopub.status.busy": "2024-05-10T14:27:57.109989Z",
     "iopub.status.idle": "2024-05-10T14:27:57.124540Z",
     "shell.execute_reply": "2024-05-10T14:27:57.123651Z",
     "shell.execute_reply.started": "2024-05-10T14:27:57.110272Z"
    },
    "jupyter": {
     "outputs_hidden": false
    },
    "papermill": {
     "duration": null,
     "end_time": null,
     "exception": null,
     "start_time": null,
     "status": "pending"
    },
    "tags": []
   },
   "outputs": [],
   "source": [
    "corpus = clear.split()\n",
    "corpus[:6]"
   ]
  },
  {
   "cell_type": "code",
   "execution_count": null,
   "id": "06b3f00e",
   "metadata": {
    "_cell_guid": "aeac5cea-78f9-4672-a99a-9bab73334767",
    "_uuid": "db25d1c1-d5a1-4d3f-9b85-8999fbeff6d0",
    "collapsed": false,
    "execution": {
     "iopub.execute_input": "2024-05-10T14:27:57.126526Z",
     "iopub.status.busy": "2024-05-10T14:27:57.125741Z",
     "iopub.status.idle": "2024-05-10T14:27:57.153694Z",
     "shell.execute_reply": "2024-05-10T14:27:57.152801Z",
     "shell.execute_reply.started": "2024-05-10T14:27:57.126495Z"
    },
    "jupyter": {
     "outputs_hidden": false
    },
    "papermill": {
     "duration": null,
     "end_time": null,
     "exception": null,
     "start_time": null,
     "status": "pending"
    },
    "tags": []
   },
   "outputs": [],
   "source": [
    "for i in range(0, len(corpus) - maxlen, step):\n",
    "    sentences.append(corpus[i:i + maxlen])\n",
    "    next_words.append(corpus[i + maxlen])\n"
   ]
  },
  {
   "cell_type": "code",
   "execution_count": null,
   "id": "73337a72",
   "metadata": {
    "_cell_guid": "3e1c6026-07a1-46bc-960b-6ff36fabba43",
    "_uuid": "4b1200c1-63cf-409e-b3d1-9f7430c43bfd",
    "collapsed": false,
    "execution": {
     "iopub.execute_input": "2024-05-10T14:27:57.155544Z",
     "iopub.status.busy": "2024-05-10T14:27:57.154969Z",
     "iopub.status.idle": "2024-05-10T14:27:57.163968Z",
     "shell.execute_reply": "2024-05-10T14:27:57.163226Z",
     "shell.execute_reply.started": "2024-05-10T14:27:57.155512Z"
    },
    "jupyter": {
     "outputs_hidden": false
    },
    "papermill": {
     "duration": null,
     "end_time": null,
     "exception": null,
     "start_time": null,
     "status": "pending"
    },
    "tags": []
   },
   "outputs": [],
   "source": [
    "len(sentences)"
   ]
  },
  {
   "cell_type": "code",
   "execution_count": null,
   "id": "7a4a73a3",
   "metadata": {
    "_cell_guid": "136a837c-8463-4a23-90ec-97e6ddaf8ba1",
    "_uuid": "9d9582a0-fd10-4817-bf98-8aae7a6e032d",
    "collapsed": false,
    "execution": {
     "iopub.execute_input": "2024-05-10T14:27:57.165231Z",
     "iopub.status.busy": "2024-05-10T14:27:57.164995Z",
     "iopub.status.idle": "2024-05-10T14:27:57.174009Z",
     "shell.execute_reply": "2024-05-10T14:27:57.173187Z",
     "shell.execute_reply.started": "2024-05-10T14:27:57.165211Z"
    },
    "jupyter": {
     "outputs_hidden": false
    },
    "papermill": {
     "duration": null,
     "end_time": null,
     "exception": null,
     "start_time": null,
     "status": "pending"
    },
    "tags": []
   },
   "outputs": [],
   "source": [
    "print(\"X_train : \" , sentences[0] , \"\\nY_train : \" , next_words[0])"
   ]
  },
  {
   "cell_type": "code",
   "execution_count": null,
   "id": "34964dd7",
   "metadata": {
    "_cell_guid": "7f3fb9b6-732a-45c6-afe2-ce2a9ba30358",
    "_uuid": "68525dc0-12f6-4de5-b2c7-2c589ed7b689",
    "collapsed": false,
    "execution": {
     "iopub.execute_input": "2024-05-10T14:27:57.175666Z",
     "iopub.status.busy": "2024-05-10T14:27:57.175098Z",
     "iopub.status.idle": "2024-05-10T14:28:15.610306Z",
     "shell.execute_reply": "2024-05-10T14:28:15.609515Z",
     "shell.execute_reply.started": "2024-05-10T14:27:57.175642Z"
    },
    "jupyter": {
     "outputs_hidden": false
    },
    "papermill": {
     "duration": null,
     "end_time": null,
     "exception": null,
     "start_time": null,
     "status": "pending"
    },
    "tags": []
   },
   "outputs": [],
   "source": [
    "from gensim.test.utils import common_texts\n",
    "from gensim.models import Word2Vec\n",
    "model = Word2Vec(sentences= sentences, vector_size=100, window=3, min_count=1, workers=4)\n",
    "model.save(\"word2vec.model\")\n",
    "model = Word2Vec.load(\"word2vec.model\")"
   ]
  },
  {
   "cell_type": "code",
   "execution_count": null,
   "id": "34ea45db",
   "metadata": {
    "execution": {
     "iopub.execute_input": "2024-05-10T14:28:15.611791Z",
     "iopub.status.busy": "2024-05-10T14:28:15.611508Z",
     "iopub.status.idle": "2024-05-10T14:28:15.618586Z",
     "shell.execute_reply": "2024-05-10T14:28:15.617719Z",
     "shell.execute_reply.started": "2024-05-10T14:28:15.611765Z"
    },
    "papermill": {
     "duration": null,
     "end_time": null,
     "exception": null,
     "start_time": null,
     "status": "pending"
    },
    "tags": []
   },
   "outputs": [],
   "source": [
    "sentences[0]"
   ]
  },
  {
   "cell_type": "code",
   "execution_count": null,
   "id": "3bda194e",
   "metadata": {
    "_cell_guid": "e46c54b4-babf-47e7-bee0-b03fced00ea1",
    "_uuid": "14b132f5-6434-4fce-9e63-7aec5912f619",
    "collapsed": false,
    "execution": {
     "iopub.execute_input": "2024-05-10T14:28:15.620053Z",
     "iopub.status.busy": "2024-05-10T14:28:15.619740Z",
     "iopub.status.idle": "2024-05-10T14:28:16.278393Z",
     "shell.execute_reply": "2024-05-10T14:28:16.277511Z",
     "shell.execute_reply.started": "2024-05-10T14:28:15.620029Z"
    },
    "jupyter": {
     "outputs_hidden": false
    },
    "papermill": {
     "duration": null,
     "end_time": null,
     "exception": null,
     "start_time": null,
     "status": "pending"
    },
    "tags": []
   },
   "outputs": [],
   "source": [
    "word_vectors = model.wv\n",
    "word_vector_list = []\n",
    "x=[]\n",
    "for sentence in sentences:\n",
    "    sentence_vectors = [word_vectors[word] for word in sentence if word in word_vectors]\n",
    "    x.append(sentence_vectors)\n",
    "\n",
    "print(len(x))\n",
    "print(len(x[0]))\n",
    "\n",
    "word_vectors = model.wv\n",
    "word_vector_list = []\n",
    "y=[]\n",
    "for sentence in next_words:\n",
    "    sentence_vectors = [word_vectors[sentence] if sentence in word_vectors else None]\n",
    "    y.append(sentence_vectors)\n",
    "\n",
    "print(len(y))\n",
    "print(len(y[0]))\n"
   ]
  },
  {
   "cell_type": "code",
   "execution_count": null,
   "id": "1560808e",
   "metadata": {
    "_cell_guid": "bfc8f08a-8b2d-4eba-9eb2-0f925438f718",
    "_uuid": "b8d52d24-8b26-4a4e-9ea0-ccdaceb5bb4d",
    "collapsed": false,
    "execution": {
     "iopub.execute_input": "2024-05-10T14:28:16.279706Z",
     "iopub.status.busy": "2024-05-10T14:28:16.279411Z",
     "iopub.status.idle": "2024-05-10T14:28:16.430265Z",
     "shell.execute_reply": "2024-05-10T14:28:16.429186Z",
     "shell.execute_reply.started": "2024-05-10T14:28:16.279682Z"
    },
    "jupyter": {
     "outputs_hidden": false
    },
    "papermill": {
     "duration": null,
     "end_time": null,
     "exception": null,
     "start_time": null,
     "status": "pending"
    },
    "tags": []
   },
   "outputs": [],
   "source": [
    "y = np.array(y)\n",
    "x = np.array(x)"
   ]
  },
  {
   "cell_type": "code",
   "execution_count": null,
   "id": "77536c8c",
   "metadata": {
    "_cell_guid": "257dce3d-f560-4376-9c79-6551b9dd2d3b",
    "_uuid": "a0ac08bc-65bb-45b8-b500-f98389d79ab9",
    "collapsed": false,
    "execution": {
     "iopub.execute_input": "2024-05-10T14:28:16.432116Z",
     "iopub.status.busy": "2024-05-10T14:28:16.431761Z",
     "iopub.status.idle": "2024-05-10T14:28:16.437258Z",
     "shell.execute_reply": "2024-05-10T14:28:16.436368Z",
     "shell.execute_reply.started": "2024-05-10T14:28:16.432084Z"
    },
    "jupyter": {
     "outputs_hidden": false
    },
    "papermill": {
     "duration": null,
     "end_time": null,
     "exception": null,
     "start_time": null,
     "status": "pending"
    },
    "tags": []
   },
   "outputs": [],
   "source": [
    "print(x.shape)\n",
    "print(y.shape)"
   ]
  },
  {
   "cell_type": "code",
   "execution_count": null,
   "id": "fbb03172",
   "metadata": {
    "execution": {
     "iopub.execute_input": "2024-05-10T14:28:16.438580Z",
     "iopub.status.busy": "2024-05-10T14:28:16.438278Z",
     "iopub.status.idle": "2024-05-10T14:28:16.448136Z",
     "shell.execute_reply": "2024-05-10T14:28:16.447398Z",
     "shell.execute_reply.started": "2024-05-10T14:28:16.438546Z"
    },
    "papermill": {
     "duration": null,
     "end_time": null,
     "exception": null,
     "start_time": null,
     "status": "pending"
    },
    "tags": []
   },
   "outputs": [],
   "source": [
    "x_words = np.zeros((len(sentences), maxlen, len(words)), dtype=bool)  # Initialize input data tensor\n",
    "y_words = np.zeros((len(sentences), len(words)), dtype=bool)  # Initialize target data tensor"
   ]
  },
  {
   "cell_type": "code",
   "execution_count": null,
   "id": "ec29b0d3",
   "metadata": {
    "execution": {
     "iopub.execute_input": "2024-05-10T14:28:16.449409Z",
     "iopub.status.busy": "2024-05-10T14:28:16.449143Z",
     "iopub.status.idle": "2024-05-10T14:28:16.886801Z",
     "shell.execute_reply": "2024-05-10T14:28:16.886000Z",
     "shell.execute_reply.started": "2024-05-10T14:28:16.449386Z"
    },
    "papermill": {
     "duration": null,
     "end_time": null,
     "exception": null,
     "start_time": null,
     "status": "pending"
    },
    "tags": []
   },
   "outputs": [],
   "source": [
    "for i, sentence in enumerate(sentences):\n",
    "    for t, word in enumerate(sentence):\n",
    "        x_words[i, t, words_to_indices[word]] = 1\n",
    "    y_words[i, words_to_indices[next_words[i]]] = 1"
   ]
  },
  {
   "cell_type": "code",
   "execution_count": null,
   "id": "2c5fc2d2",
   "metadata": {
    "execution": {
     "iopub.execute_input": "2024-05-10T14:28:16.888150Z",
     "iopub.status.busy": "2024-05-10T14:28:16.887851Z",
     "iopub.status.idle": "2024-05-10T14:28:16.893089Z",
     "shell.execute_reply": "2024-05-10T14:28:16.892193Z",
     "shell.execute_reply.started": "2024-05-10T14:28:16.888125Z"
    },
    "papermill": {
     "duration": null,
     "end_time": null,
     "exception": null,
     "start_time": null,
     "status": "pending"
    },
    "tags": []
   },
   "outputs": [],
   "source": [
    "print(x_words.shape)\n",
    "print(y_words.shape)"
   ]
  },
  {
   "cell_type": "code",
   "execution_count": null,
   "id": "7f0d0881",
   "metadata": {
    "_cell_guid": "e567215e-cdee-4101-8417-65ae689d41af",
    "_uuid": "d3221f2d-b5b0-44de-8002-542297785368",
    "collapsed": false,
    "execution": {
     "iopub.execute_input": "2024-05-10T14:28:16.894411Z",
     "iopub.status.busy": "2024-05-10T14:28:16.894183Z",
     "iopub.status.idle": "2024-05-10T14:28:16.977723Z",
     "shell.execute_reply": "2024-05-10T14:28:16.976712Z",
     "shell.execute_reply.started": "2024-05-10T14:28:16.894391Z"
    },
    "jupyter": {
     "outputs_hidden": false
    },
    "papermill": {
     "duration": null,
     "end_time": null,
     "exception": null,
     "start_time": null,
     "status": "pending"
    },
    "tags": []
   },
   "outputs": [],
   "source": [
    "from sklearn.model_selection import train_test_split\n",
    "x_train, x_test, y_train, y_test = train_test_split(x, y_words, test_size=0.2, random_state=42)"
   ]
  },
  {
   "cell_type": "code",
   "execution_count": null,
   "id": "f43ec362",
   "metadata": {
    "_cell_guid": "9ec04576-82a9-4f95-85f8-f5c29cbcc530",
    "_uuid": "1499dc5e-0098-47b0-a94d-6c18c2a9d65f",
    "collapsed": false,
    "execution": {
     "iopub.execute_input": "2024-05-10T14:28:16.979139Z",
     "iopub.status.busy": "2024-05-10T14:28:16.978855Z",
     "iopub.status.idle": "2024-05-10T14:28:33.573878Z",
     "shell.execute_reply": "2024-05-10T14:28:33.572830Z",
     "shell.execute_reply.started": "2024-05-10T14:28:16.979115Z"
    },
    "jupyter": {
     "outputs_hidden": false
    },
    "papermill": {
     "duration": null,
     "end_time": null,
     "exception": null,
     "start_time": null,
     "status": "pending"
    },
    "tags": []
   },
   "outputs": [],
   "source": [
    "import tensorflow as tf \n",
    "from tensorflow.keras.layers import LSTM, Dense"
   ]
  },
  {
   "cell_type": "code",
   "execution_count": null,
   "id": "a2931705",
   "metadata": {
    "_cell_guid": "99099cf3-5485-448f-aa2f-da47780ad0d8",
    "_uuid": "ffbe2792-f17e-40a8-af2b-5934cec68414",
    "collapsed": false,
    "execution": {
     "iopub.execute_input": "2024-05-10T14:28:33.579062Z",
     "iopub.status.busy": "2024-05-10T14:28:33.578351Z",
     "iopub.status.idle": "2024-05-10T14:28:33.584908Z",
     "shell.execute_reply": "2024-05-10T14:28:33.583954Z",
     "shell.execute_reply.started": "2024-05-10T14:28:33.579033Z"
    },
    "jupyter": {
     "outputs_hidden": false
    },
    "papermill": {
     "duration": null,
     "end_time": null,
     "exception": null,
     "start_time": null,
     "status": "pending"
    },
    "scrolled": true,
    "tags": []
   },
   "outputs": [],
   "source": [
    "word_vectors[0].shape[0]"
   ]
  },
  {
   "cell_type": "code",
   "execution_count": null,
   "id": "91eb8dcb",
   "metadata": {
    "_cell_guid": "2ae0501e-3a17-4860-8f00-0b9b5914e478",
    "_uuid": "07fb4fe9-e817-46a0-a9a5-e0d864cdbea2",
    "collapsed": false,
    "execution": {
     "iopub.execute_input": "2024-05-10T14:28:33.586847Z",
     "iopub.status.busy": "2024-05-10T14:28:33.586244Z",
     "iopub.status.idle": "2024-05-10T14:28:33.598564Z",
     "shell.execute_reply": "2024-05-10T14:28:33.597675Z",
     "shell.execute_reply.started": "2024-05-10T14:28:33.586815Z"
    },
    "jupyter": {
     "outputs_hidden": false
    },
    "papermill": {
     "duration": null,
     "end_time": null,
     "exception": null,
     "start_time": null,
     "status": "pending"
    },
    "tags": []
   },
   "outputs": [],
   "source": [
    "x[0].shape[0]"
   ]
  },
  {
   "cell_type": "code",
   "execution_count": null,
   "id": "135d34e3",
   "metadata": {
    "execution": {
     "iopub.execute_input": "2024-05-10T14:28:33.600275Z",
     "iopub.status.busy": "2024-05-10T14:28:33.599890Z",
     "iopub.status.idle": "2024-05-10T14:28:33.607031Z",
     "shell.execute_reply": "2024-05-10T14:28:33.606249Z",
     "shell.execute_reply.started": "2024-05-10T14:28:33.600239Z"
    },
    "papermill": {
     "duration": null,
     "end_time": null,
     "exception": null,
     "start_time": null,
     "status": "pending"
    },
    "tags": []
   },
   "outputs": [],
   "source": [
    "from tensorflow.keras.layers import Dense, SimpleRNN\n"
   ]
  },
  {
   "cell_type": "code",
   "execution_count": null,
   "id": "263c2ed2",
   "metadata": {
    "execution": {
     "iopub.execute_input": "2024-05-10T14:28:33.608378Z",
     "iopub.status.busy": "2024-05-10T14:28:33.608110Z",
     "iopub.status.idle": "2024-05-10T14:28:35.177524Z",
     "shell.execute_reply": "2024-05-10T14:28:35.176523Z",
     "shell.execute_reply.started": "2024-05-10T14:28:33.608349Z"
    },
    "papermill": {
     "duration": null,
     "end_time": null,
     "exception": null,
     "start_time": null,
     "status": "pending"
    },
    "tags": []
   },
   "outputs": [],
   "source": [
    "import tensorflow as tf\n",
    "\n",
    "model_rnn = tf.keras.Sequential([\n",
    "    tf.keras.layers.SimpleRNN(128, return_sequences=True, input_shape=(maxlen, word_vectors[0].shape[0])),\n",
    "    tf.keras.layers.Dropout(0.2),  # Adding dropout after the LSTM layer\n",
    "    tf.keras.layers.LSTM(128, return_sequences=True),  # Adding LSTM layer with return_sequences=True\n",
    "    tf.keras.layers.LSTM(128),  # Adding another LSTM layer without return_sequences=True\n",
    "    tf.keras.layers.Dropout(0.2),  # Adding dropout after the LSTM layer\n",
    "    tf.keras.layers.Dense(len(words), activation='softmax')\n",
    "])\n",
    "\n",
    "model_rnn.compile(loss='categorical_crossentropy', optimizer='adam', metrics=['accuracy'])\n",
    "model_rnn.summary()\n"
   ]
  },
  {
   "cell_type": "code",
   "execution_count": null,
   "id": "2fffc33b",
   "metadata": {
    "execution": {
     "iopub.execute_input": "2024-05-10T14:28:35.178871Z",
     "iopub.status.busy": "2024-05-10T14:28:35.178584Z",
     "iopub.status.idle": "2024-05-10T14:41:37.967229Z",
     "shell.execute_reply": "2024-05-10T14:41:37.966236Z",
     "shell.execute_reply.started": "2024-05-10T14:28:35.178838Z"
    },
    "papermill": {
     "duration": null,
     "end_time": null,
     "exception": null,
     "start_time": null,
     "status": "pending"
    },
    "tags": []
   },
   "outputs": [],
   "source": [
    "history = model_rnn.fit(x_train, y_train, epochs=100 , validation_data=(x_test , y_test))"
   ]
  },
  {
   "cell_type": "code",
   "execution_count": null,
   "id": "e3faf1be",
   "metadata": {
    "execution": {
     "iopub.execute_input": "2024-05-10T14:41:37.969143Z",
     "iopub.status.busy": "2024-05-10T14:41:37.968841Z",
     "iopub.status.idle": "2024-05-10T14:41:38.644446Z",
     "shell.execute_reply": "2024-05-10T14:41:38.643506Z",
     "shell.execute_reply.started": "2024-05-10T14:41:37.969117Z"
    },
    "papermill": {
     "duration": null,
     "end_time": null,
     "exception": null,
     "start_time": null,
     "status": "pending"
    },
    "tags": []
   },
   "outputs": [],
   "source": [
    "import matplotlib.pyplot as plt\n",
    "\n",
    "plt.plot(history.history['accuracy'])\n",
    "plt.plot(history.history['val_accuracy'])\n",
    "plt.title('model accuracy')\n",
    "plt.ylabel('accuracy')\n",
    "plt.xlabel('epoch')\n",
    "plt.legend(['train', 'validation'], loc='upper left')\n",
    "plt.show()\n",
    "\n",
    "plt.plot(history.history['loss'])\n",
    "plt.plot(history.history['val_loss'])\n",
    "plt.title('model loss')\n",
    "plt.ylabel('loss')\n",
    "plt.xlabel('epoch')\n",
    "plt.legend(['train', 'validation'], loc='upper left')\n",
    "plt.show()"
   ]
  },
  {
   "cell_type": "code",
   "execution_count": null,
   "id": "936377f3",
   "metadata": {
    "execution": {
     "iopub.execute_input": "2024-05-10T14:41:38.645989Z",
     "iopub.status.busy": "2024-05-10T14:41:38.645636Z",
     "iopub.status.idle": "2024-05-10T14:41:39.795073Z",
     "shell.execute_reply": "2024-05-10T14:41:39.794088Z",
     "shell.execute_reply.started": "2024-05-10T14:41:38.645957Z"
    },
    "papermill": {
     "duration": null,
     "end_time": null,
     "exception": null,
     "start_time": null,
     "status": "pending"
    },
    "tags": []
   },
   "outputs": [],
   "source": [
    "loss, accuracy = model_rnn.evaluate(x_test,y_test)\n",
    "print('Testing Accuracy is {} '.format(accuracy*100))"
   ]
  }
 ],
 "metadata": {
  "kaggle": {
   "accelerator": "nvidiaTeslaT4",
   "dataSources": [],
   "dockerImageVersionId": 30699,
   "isGpuEnabled": true,
   "isInternetEnabled": true,
   "language": "python",
   "sourceType": "notebook"
  },
  "kernelspec": {
   "display_name": "Python 3",
   "language": "python",
   "name": "python3"
  },
  "language_info": {
   "codemirror_mode": {
    "name": "ipython",
    "version": 3
   },
   "file_extension": ".py",
   "mimetype": "text/x-python",
   "name": "python",
   "nbconvert_exporter": "python",
   "pygments_lexer": "ipython3",
   "version": "3.10.13"
  },
  "papermill": {
   "default_parameters": {},
   "duration": 22.915602,
   "end_time": "2024-05-10T16:03:03.308267",
   "environment_variables": {},
   "exception": true,
   "input_path": "__notebook__.ipynb",
   "output_path": "__notebook__.ipynb",
   "parameters": {},
   "start_time": "2024-05-10T16:02:40.392665",
   "version": "2.5.0"
  }
 },
 "nbformat": 4,
 "nbformat_minor": 5
}
