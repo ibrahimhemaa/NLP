{
 "cells": [
  {
   "cell_type": "code",
   "execution_count": 1,
   "id": "9d7ba920",
   "metadata": {
    "execution": {
     "iopub.execute_input": "2024-05-17T22:46:55.770693Z",
     "iopub.status.busy": "2024-05-17T22:46:55.770394Z",
     "iopub.status.idle": "2024-05-17T22:47:11.249214Z",
     "shell.execute_reply": "2024-05-17T22:47:11.248121Z"
    },
    "papermill": {
     "duration": 15.490728,
     "end_time": "2024-05-17T22:47:11.251757",
     "exception": false,
     "start_time": "2024-05-17T22:46:55.761029",
     "status": "completed"
    },
    "tags": []
   },
   "outputs": [
    {
     "name": "stdout",
     "output_type": "stream",
     "text": [
      "Collecting wikipedia\r\n",
      "  Downloading wikipedia-1.4.0.tar.gz (27 kB)\r\n",
      "  Preparing metadata (setup.py) ... \u001b[?25l-\b \bdone\r\n",
      "\u001b[?25hRequirement already satisfied: beautifulsoup4 in /opt/conda/lib/python3.10/site-packages (from wikipedia) (4.12.2)\r\n",
      "Requirement already satisfied: requests<3.0.0,>=2.0.0 in /opt/conda/lib/python3.10/site-packages (from wikipedia) (2.31.0)\r\n",
      "Requirement already satisfied: charset-normalizer<4,>=2 in /opt/conda/lib/python3.10/site-packages (from requests<3.0.0,>=2.0.0->wikipedia) (3.3.2)\r\n",
      "Requirement already satisfied: idna<4,>=2.5 in /opt/conda/lib/python3.10/site-packages (from requests<3.0.0,>=2.0.0->wikipedia) (3.6)\r\n",
      "Requirement already satisfied: urllib3<3,>=1.21.1 in /opt/conda/lib/python3.10/site-packages (from requests<3.0.0,>=2.0.0->wikipedia) (1.26.18)\r\n",
      "Requirement already satisfied: certifi>=2017.4.17 in /opt/conda/lib/python3.10/site-packages (from requests<3.0.0,>=2.0.0->wikipedia) (2024.2.2)\r\n",
      "Requirement already satisfied: soupsieve>1.2 in /opt/conda/lib/python3.10/site-packages (from beautifulsoup4->wikipedia) (2.5)\r\n",
      "Building wheels for collected packages: wikipedia\r\n",
      "  Building wheel for wikipedia (setup.py) ... \u001b[?25l-\b \b\\\b \bdone\r\n",
      "\u001b[?25h  Created wheel for wikipedia: filename=wikipedia-1.4.0-py3-none-any.whl size=11678 sha256=0fc3e6808c9043c9cc7fc42868687709243340ea882cfac1a1e30f9d1db9d7b4\r\n",
      "  Stored in directory: /root/.cache/pip/wheels/5e/b6/c5/93f3dec388ae76edc830cb42901bb0232504dfc0df02fc50de\r\n",
      "Successfully built wikipedia\r\n",
      "Installing collected packages: wikipedia\r\n",
      "Successfully installed wikipedia-1.4.0\r\n",
      "Note: you may need to restart the kernel to use updated packages.\n"
     ]
    }
   ],
   "source": [
    "pip install wikipedia"
   ]
  },
  {
   "cell_type": "code",
   "execution_count": 2,
   "id": "c5d87668",
   "metadata": {
    "execution": {
     "iopub.execute_input": "2024-05-17T22:47:11.270824Z",
     "iopub.status.busy": "2024-05-17T22:47:11.270499Z",
     "iopub.status.idle": "2024-05-17T22:47:47.849124Z",
     "shell.execute_reply": "2024-05-17T22:47:47.848201Z"
    },
    "papermill": {
     "duration": 36.598459,
     "end_time": "2024-05-17T22:47:47.859224",
     "exception": false,
     "start_time": "2024-05-17T22:47:11.260765",
     "status": "completed"
    },
    "tags": []
   },
   "outputs": [
    {
     "name": "stdout",
     "output_type": "stream",
     "text": [
      "Page 'Machine learning' does not exist.\n",
      "Combined Content:\n",
      "Deep learning is the subset of machine learning methods based on neural networks with representation learning. The adjective \"deep\" refers to the use of multiple layers in the network. Methods used can be either supervised, semi-supervised or unsupervised.\n",
      "Deep-learning architectures such as deep neural networks, deep belief networks, recurrent neural networks, convolutional neural networks and transformers have been applied to fields including computer vision, speech recognition, natural langua\n"
     ]
    }
   ],
   "source": [
    "import wikipedia\n",
    "\n",
    "# Set a custom user agent to comply with Wikipedia's policy\n",
    "wikipedia.set_user_agent(\"My Wikipedia Scraping Bot (youremail@example.com)\")\n",
    "\n",
    "# List of Wikipedia page titles\n",
    "page_titles = [\n",
    "    \"Machine learning\",\n",
    "    \"Deep learning\",\n",
    "    \"Natural Language Processing\", \n",
    "    \"Recurrent neural network\", \n",
    "    \"Convolutional neural network\", \n",
    "]\n",
    "# Dictionary to store page titles and their content\n",
    "documents = {}\n",
    "\n",
    "# Number of pages to fetch for each document topic\n",
    "num_pages_per_topic = 10\n",
    "\n",
    "# Fetch content for each page\n",
    "for title in page_titles:\n",
    "    try:\n",
    "        # Fetch the page content\n",
    "        pages = wikipedia.search(title, results=num_pages_per_topic, suggestion=False)\n",
    "\n",
    "        # Store the title and content in the dictionary\n",
    "        documents[title] = \"\\n\".join([wikipedia.page(page).content for page in pages])\n",
    "    except wikipedia.exceptions.PageError:\n",
    "        print(\"Page '{}' does not exist.\".format(title))\n",
    "    except wikipedia.exceptions.DisambiguationError as e:\n",
    "        print(\"Page '{}' is a disambiguation page. Skipping.\".format(title))\n",
    "\n",
    "# Combine all content into one string\n",
    "all_content = \"\\n\".join(documents.values())\n",
    "\n",
    "# Print the combined content\n",
    "print(\"Combined Content:\")\n",
    "print(all_content[:500])  # Print only the first 500 characters for demonstration\n"
   ]
  },
  {
   "cell_type": "code",
   "execution_count": 3,
   "id": "92ce9ee0",
   "metadata": {
    "execution": {
     "iopub.execute_input": "2024-05-17T22:47:47.878517Z",
     "iopub.status.busy": "2024-05-17T22:47:47.878121Z",
     "iopub.status.idle": "2024-05-17T22:47:47.885422Z",
     "shell.execute_reply": "2024-05-17T22:47:47.884584Z"
    },
    "papermill": {
     "duration": 0.019187,
     "end_time": "2024-05-17T22:47:47.887342",
     "exception": false,
     "start_time": "2024-05-17T22:47:47.868155",
     "status": "completed"
    },
    "tags": []
   },
   "outputs": [
    {
     "data": {
      "text/plain": [
       "1085195"
      ]
     },
     "execution_count": 3,
     "metadata": {},
     "output_type": "execute_result"
    }
   ],
   "source": [
    "len(all_content)"
   ]
  },
  {
   "cell_type": "code",
   "execution_count": 4,
   "id": "5054acde",
   "metadata": {
    "execution": {
     "iopub.execute_input": "2024-05-17T22:47:47.906386Z",
     "iopub.status.busy": "2024-05-17T22:47:47.906110Z",
     "iopub.status.idle": "2024-05-17T22:47:55.398535Z",
     "shell.execute_reply": "2024-05-17T22:47:55.397777Z"
    },
    "papermill": {
     "duration": 7.504373,
     "end_time": "2024-05-17T22:47:55.400756",
     "exception": false,
     "start_time": "2024-05-17T22:47:47.896383",
     "status": "completed"
    },
    "tags": []
   },
   "outputs": [],
   "source": [
    "import re\n",
    "import numpy as np\n",
    "import nltk\n",
    "import spacy\n",
    "\n",
    "import matplotlib.pyplot as plt\n",
    "\n",
    "from spacy.cli import download\n",
    "from spacy import load\n",
    "import warnings\n",
    "\n",
    "import nltk\n",
    "from nltk.tokenize import word_tokenize, sent_tokenize\n",
    "from nltk.corpus import stopwords\n",
    "from nltk.stem import WordNetLemmatizer\n",
    "from nltk.stem import PorterStemmer"
   ]
  },
  {
   "cell_type": "code",
   "execution_count": 5,
   "id": "5cdd9220",
   "metadata": {
    "execution": {
     "iopub.execute_input": "2024-05-17T22:47:55.420431Z",
     "iopub.status.busy": "2024-05-17T22:47:55.419998Z",
     "iopub.status.idle": "2024-05-17T22:47:56.245424Z",
     "shell.execute_reply": "2024-05-17T22:47:56.244586Z"
    },
    "papermill": {
     "duration": 0.837299,
     "end_time": "2024-05-17T22:47:56.247347",
     "exception": false,
     "start_time": "2024-05-17T22:47:55.410048",
     "status": "completed"
    },
    "tags": []
   },
   "outputs": [
    {
     "name": "stdout",
     "output_type": "stream",
     "text": [
      "[nltk_data] Downloading package stopwords to /usr/share/nltk_data...\n",
      "[nltk_data]   Package stopwords is already up-to-date!\n",
      "[nltk_data] Downloading package omw-1.4 to /usr/share/nltk_data...\n",
      "[nltk_data] Downloading package wordnet2022 to /usr/share/nltk_data...\n",
      "[nltk_data]   Unzipping corpora/wordnet2022.zip.\n"
     ]
    },
    {
     "data": {
      "text/plain": [
       "True"
      ]
     },
     "execution_count": 5,
     "metadata": {},
     "output_type": "execute_result"
    }
   ],
   "source": [
    "nltk.download('stopwords')\n",
    "nltk.download('omw-1.4')\n",
    "nltk.download('wordnet2022')"
   ]
  },
  {
   "cell_type": "code",
   "execution_count": 6,
   "id": "c34aa7c0",
   "metadata": {
    "execution": {
     "iopub.execute_input": "2024-05-17T22:47:56.268263Z",
     "iopub.status.busy": "2024-05-17T22:47:56.267691Z",
     "iopub.status.idle": "2024-05-17T22:47:56.277577Z",
     "shell.execute_reply": "2024-05-17T22:47:56.276749Z"
    },
    "papermill": {
     "duration": 0.022857,
     "end_time": "2024-05-17T22:47:56.279527",
     "exception": false,
     "start_time": "2024-05-17T22:47:56.256670",
     "status": "completed"
    },
    "tags": []
   },
   "outputs": [],
   "source": [
    "class preprocessing:\n",
    "    def __init__(self,text):\n",
    "        self.text=text\n",
    "        self.words=None\n",
    "    def clear(self):\n",
    "        clean = re.compile('<.*?>')\n",
    "        self.text =  re.sub(clean, '', self.text)\n",
    "        self.text= re.sub(r\"[^a-zA-Z]\",\" \",self.text)\n",
    "        self.text = re.sub(r'\\s+', ' ', self.text)\n",
    "    def Normalization(self):\n",
    "        self.text=self.text.lower()\n",
    "#         print(self.text)\n",
    "    def Tokenization(self):\n",
    "        self.words = word_tokenize(self.text)\n",
    "#         print(self.words)\n",
    "    def del_stop_words(self):\n",
    "        stop_words = set(stopwords.words('english'))\n",
    "        self.words=[word for word in self.words if (word not in stop_words)]\n",
    "        \n",
    "    def stemming(self):\n",
    "        stemmer = PorterStemmer()\n",
    "        self.words = [stemmer.stem(word) for word in self.words]\n",
    "    def unique_words(self):\n",
    "        self.words = list(set(self.words))\n",
    "        return self.words\n",
    "    def return_string(self):\n",
    "        return ' '.join(self.words)\n",
    "    def del_char (self):\n",
    "        self.words=[word for word in self.words if (len(word)>1)]\n",
    "        return self.words"
   ]
  },
  {
   "cell_type": "code",
   "execution_count": 7,
   "id": "1d2ae334",
   "metadata": {
    "execution": {
     "iopub.execute_input": "2024-05-17T22:47:56.299070Z",
     "iopub.status.busy": "2024-05-17T22:47:56.298622Z",
     "iopub.status.idle": "2024-05-17T22:47:56.303268Z",
     "shell.execute_reply": "2024-05-17T22:47:56.302485Z"
    },
    "papermill": {
     "duration": 0.016432,
     "end_time": "2024-05-17T22:47:56.305191",
     "exception": false,
     "start_time": "2024-05-17T22:47:56.288759",
     "status": "completed"
    },
    "tags": []
   },
   "outputs": [],
   "source": [
    "def clean_document (document):\n",
    "    cleaner = preprocessing(document)\n",
    "    cleaner.clear()\n",
    "    cleaner.Tokenization()\n",
    "    cleaner.Normalization()\n",
    "    cleaner.del_stop_words()\n",
    "    cleaner.stemming()\n",
    "    cleaner.del_char()\n",
    "    output = cleaner.return_string()\n",
    "    return output"
   ]
  },
  {
   "cell_type": "code",
   "execution_count": 8,
   "id": "9ef13828",
   "metadata": {
    "execution": {
     "iopub.execute_input": "2024-05-17T22:47:56.324311Z",
     "iopub.status.busy": "2024-05-17T22:47:56.324041Z",
     "iopub.status.idle": "2024-05-17T22:48:00.609519Z",
     "shell.execute_reply": "2024-05-17T22:48:00.608165Z"
    },
    "papermill": {
     "duration": 4.298661,
     "end_time": "2024-05-17T22:48:00.612928",
     "exception": false,
     "start_time": "2024-05-17T22:47:56.314267",
     "status": "completed"
    },
    "tags": []
   },
   "outputs": [],
   "source": [
    "clear = clean_document(all_content)"
   ]
  },
  {
   "cell_type": "code",
   "execution_count": 9,
   "id": "07dd1ee9",
   "metadata": {
    "execution": {
     "iopub.execute_input": "2024-05-17T22:48:00.635935Z",
     "iopub.status.busy": "2024-05-17T22:48:00.635565Z",
     "iopub.status.idle": "2024-05-17T22:48:00.641902Z",
     "shell.execute_reply": "2024-05-17T22:48:00.640891Z"
    },
    "papermill": {
     "duration": 0.021126,
     "end_time": "2024-05-17T22:48:00.644541",
     "exception": false,
     "start_time": "2024-05-17T22:48:00.623415",
     "status": "completed"
    },
    "tags": []
   },
   "outputs": [
    {
     "data": {
      "text/plain": [
       "'deep learn subset machin learn method base neural network represent learn the adject deep refer use multipl layer network method use either supervis semi supervis unsupervis deep learn architectur deep neural network deep belief network recurr neural network convolut neural network transform appli field includ comput vision speech recognit natur languag process machin translat bioinformat drug design medic imag analysi climat scienc materi inspect board game program produc result compar case surpass human expert perform earli form neural network inspir inform process distribut commun node biolog system particular human brain howev current neural network intend model brain function organ gener seen low qualiti model purpos overview most modern deep learn model base multi layer neural network convolut neural network transform although also includ proposit formula latent variabl organ layer wise deep gener model node deep belief network deep boltzmann machin fundament deep learn refer class machin learn algorithm hierarchi layer use transform input data slightli abstract composit represent for exampl imag recognit model raw input may imag repres tensor pixel the first represent layer may attempt identifi basic shape line circl second layer may compos encod arrang edg third layer may encod nose eye fourth layer may recogn imag contain face importantli deep learn process learn featur optim place level prior deep learn machin learn techniqu often involv hand craft featur engin tran'"
      ]
     },
     "execution_count": 9,
     "metadata": {},
     "output_type": "execute_result"
    }
   ],
   "source": [
    "clear[:1500]"
   ]
  },
  {
   "cell_type": "code",
   "execution_count": 10,
   "id": "36023130",
   "metadata": {
    "execution": {
     "iopub.execute_input": "2024-05-17T22:48:00.672828Z",
     "iopub.status.busy": "2024-05-17T22:48:00.672497Z",
     "iopub.status.idle": "2024-05-17T22:48:00.688699Z",
     "shell.execute_reply": "2024-05-17T22:48:00.687574Z"
    },
    "papermill": {
     "duration": 0.034736,
     "end_time": "2024-05-17T22:48:00.692923",
     "exception": false,
     "start_time": "2024-05-17T22:48:00.658187",
     "status": "completed"
    },
    "tags": []
   },
   "outputs": [],
   "source": [
    "chars = sorted(set(clear))  # Unique characters in input text\n",
    "chars_to_indices = dict((c, i) for i, c in enumerate(chars))  # Character to index mapping\n",
    "indices_to_chars = dict((i, c) for i, c in enumerate(chars))  # Index to character mapping\n"
   ]
  },
  {
   "cell_type": "code",
   "execution_count": 11,
   "id": "439e1d3d",
   "metadata": {
    "execution": {
     "iopub.execute_input": "2024-05-17T22:48:00.717004Z",
     "iopub.status.busy": "2024-05-17T22:48:00.716731Z",
     "iopub.status.idle": "2024-05-17T22:48:00.724392Z",
     "shell.execute_reply": "2024-05-17T22:48:00.723599Z"
    },
    "papermill": {
     "duration": 0.020028,
     "end_time": "2024-05-17T22:48:00.726337",
     "exception": false,
     "start_time": "2024-05-17T22:48:00.706309",
     "status": "completed"
    },
    "tags": []
   },
   "outputs": [
    {
     "data": {
      "text/plain": [
       "{0: ' ',\n",
       " 1: 'A',\n",
       " 2: 'B',\n",
       " 3: 'C',\n",
       " 4: 'D',\n",
       " 5: 'E',\n",
       " 6: 'F',\n",
       " 7: 'G',\n",
       " 8: 'H',\n",
       " 9: 'I',\n",
       " 10: 'K',\n",
       " 11: 'L',\n",
       " 12: 'M',\n",
       " 13: 'N',\n",
       " 14: 'O',\n",
       " 15: 'P',\n",
       " 16: 'Q',\n",
       " 17: 'R',\n",
       " 18: 'S',\n",
       " 19: 'T',\n",
       " 20: 'U',\n",
       " 21: 'V',\n",
       " 22: 'W',\n",
       " 23: 'X',\n",
       " 24: 'Y',\n",
       " 25: 'a',\n",
       " 26: 'b',\n",
       " 27: 'c',\n",
       " 28: 'd',\n",
       " 29: 'e',\n",
       " 30: 'f',\n",
       " 31: 'g',\n",
       " 32: 'h',\n",
       " 33: 'i',\n",
       " 34: 'j',\n",
       " 35: 'k',\n",
       " 36: 'l',\n",
       " 37: 'm',\n",
       " 38: 'n',\n",
       " 39: 'o',\n",
       " 40: 'p',\n",
       " 41: 'q',\n",
       " 42: 'r',\n",
       " 43: 's',\n",
       " 44: 't',\n",
       " 45: 'u',\n",
       " 46: 'v',\n",
       " 47: 'w',\n",
       " 48: 'x',\n",
       " 49: 'y',\n",
       " 50: 'z'}"
      ]
     },
     "execution_count": 11,
     "metadata": {},
     "output_type": "execute_result"
    }
   ],
   "source": [
    "indices_to_chars"
   ]
  },
  {
   "cell_type": "code",
   "execution_count": 12,
   "id": "c2a052be",
   "metadata": {
    "execution": {
     "iopub.execute_input": "2024-05-17T22:48:00.746302Z",
     "iopub.status.busy": "2024-05-17T22:48:00.746015Z",
     "iopub.status.idle": "2024-05-17T22:48:00.749901Z",
     "shell.execute_reply": "2024-05-17T22:48:00.749144Z"
    },
    "papermill": {
     "duration": 0.015977,
     "end_time": "2024-05-17T22:48:00.751702",
     "exception": false,
     "start_time": "2024-05-17T22:48:00.735725",
     "status": "completed"
    },
    "tags": []
   },
   "outputs": [],
   "source": [
    "maxlen = 5  # Maximum length of input sequence\n",
    "step = 3  # Step size for creating input sequences\n",
    "sentences = []  # List to store input sequences\n",
    "next_chars = []  # List to store next characters"
   ]
  },
  {
   "cell_type": "code",
   "execution_count": 13,
   "id": "32714032",
   "metadata": {
    "execution": {
     "iopub.execute_input": "2024-05-17T22:48:00.771658Z",
     "iopub.status.busy": "2024-05-17T22:48:00.771396Z",
     "iopub.status.idle": "2024-05-17T22:48:00.915312Z",
     "shell.execute_reply": "2024-05-17T22:48:00.914569Z"
    },
    "papermill": {
     "duration": 0.15617,
     "end_time": "2024-05-17T22:48:00.917395",
     "exception": false,
     "start_time": "2024-05-17T22:48:00.761225",
     "status": "completed"
    },
    "tags": []
   },
   "outputs": [],
   "source": [
    "for i in range(0, len(clear) - maxlen, step):\n",
    "    sentences.append(clear[i:i + maxlen])\n",
    "    next_chars.append(clear[i + maxlen])"
   ]
  },
  {
   "cell_type": "code",
   "execution_count": 14,
   "id": "fd32ed0c",
   "metadata": {
    "execution": {
     "iopub.execute_input": "2024-05-17T22:48:00.939001Z",
     "iopub.status.busy": "2024-05-17T22:48:00.938748Z",
     "iopub.status.idle": "2024-05-17T22:48:00.944126Z",
     "shell.execute_reply": "2024-05-17T22:48:00.943288Z"
    },
    "papermill": {
     "duration": 0.017517,
     "end_time": "2024-05-17T22:48:00.945966",
     "exception": false,
     "start_time": "2024-05-17T22:48:00.928449",
     "status": "completed"
    },
    "tags": []
   },
   "outputs": [
    {
     "data": {
      "text/plain": [
       "['deep ', 'p lea', 'earn ', 'n sub', 'ubset']"
      ]
     },
     "execution_count": 14,
     "metadata": {},
     "output_type": "execute_result"
    }
   ],
   "source": [
    "sentences[:5]"
   ]
  },
  {
   "cell_type": "code",
   "execution_count": 15,
   "id": "9b3bd4ec",
   "metadata": {
    "execution": {
     "iopub.execute_input": "2024-05-17T22:48:00.965915Z",
     "iopub.status.busy": "2024-05-17T22:48:00.965683Z",
     "iopub.status.idle": "2024-05-17T22:48:00.969971Z",
     "shell.execute_reply": "2024-05-17T22:48:00.969196Z"
    },
    "papermill": {
     "duration": 0.016288,
     "end_time": "2024-05-17T22:48:00.971806",
     "exception": false,
     "start_time": "2024-05-17T22:48:00.955518",
     "status": "completed"
    },
    "tags": []
   },
   "outputs": [],
   "source": [
    "x_char = np.zeros((len(sentences), maxlen, len(chars)), dtype=bool)  # Initialize input data tensor\n",
    "y_char = np.zeros((len(sentences), len(chars)), dtype=bool)  # Initialize target data tensor\n"
   ]
  },
  {
   "cell_type": "code",
   "execution_count": 16,
   "id": "e37365fd",
   "metadata": {
    "execution": {
     "iopub.execute_input": "2024-05-17T22:48:00.992069Z",
     "iopub.status.busy": "2024-05-17T22:48:00.991555Z",
     "iopub.status.idle": "2024-05-17T22:48:01.713422Z",
     "shell.execute_reply": "2024-05-17T22:48:01.712452Z"
    },
    "papermill": {
     "duration": 0.734552,
     "end_time": "2024-05-17T22:48:01.715907",
     "exception": false,
     "start_time": "2024-05-17T22:48:00.981355",
     "status": "completed"
    },
    "tags": []
   },
   "outputs": [],
   "source": [
    "for i, sentence in enumerate(sentences):\n",
    "    for t, char in enumerate(sentence):\n",
    "        x_char[i, t, chars_to_indices[char]] = 1\n",
    "    y_char[i, chars_to_indices[next_chars[i]]] = 1"
   ]
  },
  {
   "cell_type": "code",
   "execution_count": 17,
   "id": "7c2ded92",
   "metadata": {
    "execution": {
     "iopub.execute_input": "2024-05-17T22:48:01.736646Z",
     "iopub.status.busy": "2024-05-17T22:48:01.736353Z",
     "iopub.status.idle": "2024-05-17T22:48:01.794550Z",
     "shell.execute_reply": "2024-05-17T22:48:01.793547Z"
    },
    "papermill": {
     "duration": 0.071117,
     "end_time": "2024-05-17T22:48:01.796899",
     "exception": false,
     "start_time": "2024-05-17T22:48:01.725782",
     "status": "completed"
    },
    "tags": []
   },
   "outputs": [],
   "source": [
    "from sklearn.model_selection import train_test_split\n",
    "x_train, x_test, y_train, y_test = train_test_split(x_char, y_char, test_size=0.2, random_state=42)\n"
   ]
  },
  {
   "cell_type": "code",
   "execution_count": 18,
   "id": "a460e13f",
   "metadata": {
    "execution": {
     "iopub.execute_input": "2024-05-17T22:48:01.817972Z",
     "iopub.status.busy": "2024-05-17T22:48:01.817413Z",
     "iopub.status.idle": "2024-05-17T22:48:12.911304Z",
     "shell.execute_reply": "2024-05-17T22:48:12.910562Z"
    },
    "papermill": {
     "duration": 11.106763,
     "end_time": "2024-05-17T22:48:12.913606",
     "exception": false,
     "start_time": "2024-05-17T22:48:01.806843",
     "status": "completed"
    },
    "tags": []
   },
   "outputs": [
    {
     "name": "stderr",
     "output_type": "stream",
     "text": [
      "2024-05-17 22:48:03.449124: E external/local_xla/xla/stream_executor/cuda/cuda_dnn.cc:9261] Unable to register cuDNN factory: Attempting to register factory for plugin cuDNN when one has already been registered\n",
      "2024-05-17 22:48:03.449215: E external/local_xla/xla/stream_executor/cuda/cuda_fft.cc:607] Unable to register cuFFT factory: Attempting to register factory for plugin cuFFT when one has already been registered\n",
      "2024-05-17 22:48:03.567057: E external/local_xla/xla/stream_executor/cuda/cuda_blas.cc:1515] Unable to register cuBLAS factory: Attempting to register factory for plugin cuBLAS when one has already been registered\n"
     ]
    }
   ],
   "source": [
    "import tensorflow as tf "
   ]
  },
  {
   "cell_type": "code",
   "execution_count": 19,
   "id": "75ad55fe",
   "metadata": {
    "execution": {
     "iopub.execute_input": "2024-05-17T22:48:12.934793Z",
     "iopub.status.busy": "2024-05-17T22:48:12.934233Z",
     "iopub.status.idle": "2024-05-17T22:48:12.939872Z",
     "shell.execute_reply": "2024-05-17T22:48:12.939220Z"
    },
    "papermill": {
     "duration": 0.018155,
     "end_time": "2024-05-17T22:48:12.941778",
     "exception": false,
     "start_time": "2024-05-17T22:48:12.923623",
     "status": "completed"
    },
    "tags": []
   },
   "outputs": [],
   "source": [
    "from tensorflow.keras.layers import Dense, SimpleRNN\n"
   ]
  },
  {
   "cell_type": "code",
   "execution_count": 20,
   "id": "99c54974",
   "metadata": {
    "execution": {
     "iopub.execute_input": "2024-05-17T22:48:12.961973Z",
     "iopub.status.busy": "2024-05-17T22:48:12.961727Z",
     "iopub.status.idle": "2024-05-17T22:48:14.080234Z",
     "shell.execute_reply": "2024-05-17T22:48:14.079371Z"
    },
    "papermill": {
     "duration": 1.130865,
     "end_time": "2024-05-17T22:48:14.082173",
     "exception": false,
     "start_time": "2024-05-17T22:48:12.951308",
     "status": "completed"
    },
    "tags": []
   },
   "outputs": [
    {
     "name": "stderr",
     "output_type": "stream",
     "text": [
      "/opt/conda/lib/python3.10/site-packages/keras/src/layers/rnn/rnn.py:204: UserWarning: Do not pass an `input_shape`/`input_dim` argument to a layer. When using Sequential models, prefer using an `Input(shape)` object as the first layer in the model instead.\n",
      "  super().__init__(**kwargs)\n"
     ]
    },
    {
     "data": {
      "text/html": [
       "<pre style=\"white-space:pre;overflow-x:auto;line-height:normal;font-family:Menlo,'DejaVu Sans Mono',consolas,'Courier New',monospace\"><span style=\"font-weight: bold\">Model: \"sequential\"</span>\n",
       "</pre>\n"
      ],
      "text/plain": [
       "\u001b[1mModel: \"sequential\"\u001b[0m\n"
      ]
     },
     "metadata": {},
     "output_type": "display_data"
    },
    {
     "data": {
      "text/html": [
       "<pre style=\"white-space:pre;overflow-x:auto;line-height:normal;font-family:Menlo,'DejaVu Sans Mono',consolas,'Courier New',monospace\">┏━━━━━━━━━━━━━━━━━━━━━━━━━━━━━━━━━┳━━━━━━━━━━━━━━━━━━━━━━━━┳━━━━━━━━━━━━━━━┓\n",
       "┃<span style=\"font-weight: bold\"> Layer (type)                    </span>┃<span style=\"font-weight: bold\"> Output Shape           </span>┃<span style=\"font-weight: bold\">       Param # </span>┃\n",
       "┡━━━━━━━━━━━━━━━━━━━━━━━━━━━━━━━━━╇━━━━━━━━━━━━━━━━━━━━━━━━╇━━━━━━━━━━━━━━━┩\n",
       "│ simple_rnn (<span style=\"color: #0087ff; text-decoration-color: #0087ff\">SimpleRNN</span>)          │ (<span style=\"color: #00d7ff; text-decoration-color: #00d7ff\">None</span>, <span style=\"color: #00af00; text-decoration-color: #00af00\">5</span>, <span style=\"color: #00af00; text-decoration-color: #00af00\">128</span>)         │        <span style=\"color: #00af00; text-decoration-color: #00af00\">23,040</span> │\n",
       "├─────────────────────────────────┼────────────────────────┼───────────────┤\n",
       "│ dropout (<span style=\"color: #0087ff; text-decoration-color: #0087ff\">Dropout</span>)               │ (<span style=\"color: #00d7ff; text-decoration-color: #00d7ff\">None</span>, <span style=\"color: #00af00; text-decoration-color: #00af00\">5</span>, <span style=\"color: #00af00; text-decoration-color: #00af00\">128</span>)         │             <span style=\"color: #00af00; text-decoration-color: #00af00\">0</span> │\n",
       "├─────────────────────────────────┼────────────────────────┼───────────────┤\n",
       "│ lstm (<span style=\"color: #0087ff; text-decoration-color: #0087ff\">LSTM</span>)                     │ (<span style=\"color: #00d7ff; text-decoration-color: #00d7ff\">None</span>, <span style=\"color: #00af00; text-decoration-color: #00af00\">5</span>, <span style=\"color: #00af00; text-decoration-color: #00af00\">128</span>)         │       <span style=\"color: #00af00; text-decoration-color: #00af00\">131,584</span> │\n",
       "├─────────────────────────────────┼────────────────────────┼───────────────┤\n",
       "│ lstm_1 (<span style=\"color: #0087ff; text-decoration-color: #0087ff\">LSTM</span>)                   │ (<span style=\"color: #00d7ff; text-decoration-color: #00d7ff\">None</span>, <span style=\"color: #00af00; text-decoration-color: #00af00\">128</span>)            │       <span style=\"color: #00af00; text-decoration-color: #00af00\">131,584</span> │\n",
       "├─────────────────────────────────┼────────────────────────┼───────────────┤\n",
       "│ dropout_1 (<span style=\"color: #0087ff; text-decoration-color: #0087ff\">Dropout</span>)             │ (<span style=\"color: #00d7ff; text-decoration-color: #00d7ff\">None</span>, <span style=\"color: #00af00; text-decoration-color: #00af00\">128</span>)            │             <span style=\"color: #00af00; text-decoration-color: #00af00\">0</span> │\n",
       "├─────────────────────────────────┼────────────────────────┼───────────────┤\n",
       "│ dense (<span style=\"color: #0087ff; text-decoration-color: #0087ff\">Dense</span>)                   │ (<span style=\"color: #00d7ff; text-decoration-color: #00d7ff\">None</span>, <span style=\"color: #00af00; text-decoration-color: #00af00\">51</span>)             │         <span style=\"color: #00af00; text-decoration-color: #00af00\">6,579</span> │\n",
       "└─────────────────────────────────┴────────────────────────┴───────────────┘\n",
       "</pre>\n"
      ],
      "text/plain": [
       "┏━━━━━━━━━━━━━━━━━━━━━━━━━━━━━━━━━┳━━━━━━━━━━━━━━━━━━━━━━━━┳━━━━━━━━━━━━━━━┓\n",
       "┃\u001b[1m \u001b[0m\u001b[1mLayer (type)                   \u001b[0m\u001b[1m \u001b[0m┃\u001b[1m \u001b[0m\u001b[1mOutput Shape          \u001b[0m\u001b[1m \u001b[0m┃\u001b[1m \u001b[0m\u001b[1m      Param #\u001b[0m\u001b[1m \u001b[0m┃\n",
       "┡━━━━━━━━━━━━━━━━━━━━━━━━━━━━━━━━━╇━━━━━━━━━━━━━━━━━━━━━━━━╇━━━━━━━━━━━━━━━┩\n",
       "│ simple_rnn (\u001b[38;5;33mSimpleRNN\u001b[0m)          │ (\u001b[38;5;45mNone\u001b[0m, \u001b[38;5;34m5\u001b[0m, \u001b[38;5;34m128\u001b[0m)         │        \u001b[38;5;34m23,040\u001b[0m │\n",
       "├─────────────────────────────────┼────────────────────────┼───────────────┤\n",
       "│ dropout (\u001b[38;5;33mDropout\u001b[0m)               │ (\u001b[38;5;45mNone\u001b[0m, \u001b[38;5;34m5\u001b[0m, \u001b[38;5;34m128\u001b[0m)         │             \u001b[38;5;34m0\u001b[0m │\n",
       "├─────────────────────────────────┼────────────────────────┼───────────────┤\n",
       "│ lstm (\u001b[38;5;33mLSTM\u001b[0m)                     │ (\u001b[38;5;45mNone\u001b[0m, \u001b[38;5;34m5\u001b[0m, \u001b[38;5;34m128\u001b[0m)         │       \u001b[38;5;34m131,584\u001b[0m │\n",
       "├─────────────────────────────────┼────────────────────────┼───────────────┤\n",
       "│ lstm_1 (\u001b[38;5;33mLSTM\u001b[0m)                   │ (\u001b[38;5;45mNone\u001b[0m, \u001b[38;5;34m128\u001b[0m)            │       \u001b[38;5;34m131,584\u001b[0m │\n",
       "├─────────────────────────────────┼────────────────────────┼───────────────┤\n",
       "│ dropout_1 (\u001b[38;5;33mDropout\u001b[0m)             │ (\u001b[38;5;45mNone\u001b[0m, \u001b[38;5;34m128\u001b[0m)            │             \u001b[38;5;34m0\u001b[0m │\n",
       "├─────────────────────────────────┼────────────────────────┼───────────────┤\n",
       "│ dense (\u001b[38;5;33mDense\u001b[0m)                   │ (\u001b[38;5;45mNone\u001b[0m, \u001b[38;5;34m51\u001b[0m)             │         \u001b[38;5;34m6,579\u001b[0m │\n",
       "└─────────────────────────────────┴────────────────────────┴───────────────┘\n"
      ]
     },
     "metadata": {},
     "output_type": "display_data"
    },
    {
     "data": {
      "text/html": [
       "<pre style=\"white-space:pre;overflow-x:auto;line-height:normal;font-family:Menlo,'DejaVu Sans Mono',consolas,'Courier New',monospace\"><span style=\"font-weight: bold\"> Total params: </span><span style=\"color: #00af00; text-decoration-color: #00af00\">292,787</span> (1.12 MB)\n",
       "</pre>\n"
      ],
      "text/plain": [
       "\u001b[1m Total params: \u001b[0m\u001b[38;5;34m292,787\u001b[0m (1.12 MB)\n"
      ]
     },
     "metadata": {},
     "output_type": "display_data"
    },
    {
     "data": {
      "text/html": [
       "<pre style=\"white-space:pre;overflow-x:auto;line-height:normal;font-family:Menlo,'DejaVu Sans Mono',consolas,'Courier New',monospace\"><span style=\"font-weight: bold\"> Trainable params: </span><span style=\"color: #00af00; text-decoration-color: #00af00\">292,787</span> (1.12 MB)\n",
       "</pre>\n"
      ],
      "text/plain": [
       "\u001b[1m Trainable params: \u001b[0m\u001b[38;5;34m292,787\u001b[0m (1.12 MB)\n"
      ]
     },
     "metadata": {},
     "output_type": "display_data"
    },
    {
     "data": {
      "text/html": [
       "<pre style=\"white-space:pre;overflow-x:auto;line-height:normal;font-family:Menlo,'DejaVu Sans Mono',consolas,'Courier New',monospace\"><span style=\"font-weight: bold\"> Non-trainable params: </span><span style=\"color: #00af00; text-decoration-color: #00af00\">0</span> (0.00 B)\n",
       "</pre>\n"
      ],
      "text/plain": [
       "\u001b[1m Non-trainable params: \u001b[0m\u001b[38;5;34m0\u001b[0m (0.00 B)\n"
      ]
     },
     "metadata": {},
     "output_type": "display_data"
    }
   ],
   "source": [
    "model_rnn = tf.keras.Sequential([\n",
    "    tf.keras.layers.SimpleRNN(128, return_sequences=True, input_shape=(maxlen, len(chars))),\n",
    "    tf.keras.layers.Dropout(0.2),  # Adding dropout after the LSTM layer\n",
    "    tf.keras.layers.LSTM(128, return_sequences=True),  # Adding LSTM layer with return_sequences=True\n",
    "    tf.keras.layers.LSTM(128),  # Adding another LSTM layer without return_sequences=True\n",
    "    tf.keras.layers.Dropout(0.2),  # Adding dropout after the LSTM layer\n",
    "    tf.keras.layers.Dense(len(chars), activation='softmax')\n",
    "])\n",
    "\n",
    "model_rnn.compile(\n",
    "    loss='categorical_crossentropy', \n",
    "    optimizer='adam', \n",
    "    metrics=['accuracy' , 'recall' , 'precision' , 'f1_score']\n",
    ")\n",
    "\n",
    "\n",
    "model_rnn.summary()\n"
   ]
  },
  {
   "cell_type": "code",
   "execution_count": 21,
   "id": "cf8a093d",
   "metadata": {
    "execution": {
     "iopub.execute_input": "2024-05-17T22:48:14.105387Z",
     "iopub.status.busy": "2024-05-17T22:48:14.104886Z",
     "iopub.status.idle": "2024-05-17T23:13:42.790231Z",
     "shell.execute_reply": "2024-05-17T23:13:42.789139Z"
    },
    "papermill": {
     "duration": 1528.699472,
     "end_time": "2024-05-17T23:13:42.792594",
     "exception": false,
     "start_time": "2024-05-17T22:48:14.093122",
     "status": "completed"
    },
    "tags": []
   },
   "outputs": [
    {
     "name": "stdout",
     "output_type": "stream",
     "text": [
      "Epoch 1/100\n",
      "\u001b[1m1239/1239\u001b[0m \u001b[32m━━━━━━━━━━━━━━━━━━━━\u001b[0m\u001b[37m\u001b[0m \u001b[1m21s\u001b[0m 12ms/step - accuracy: 0.2088 - f1_score: 0.0344 - loss: 2.7648 - precision: 0.5713 - recall: 0.0458 - val_accuracy: 0.4065 - val_f1_score: 0.1385 - val_loss: 1.9889 - val_precision: 0.8059 - val_recall: 0.1932\n",
      "Epoch 2/100\n",
      "\u001b[1m1239/1239\u001b[0m \u001b[32m━━━━━━━━━━━━━━━━━━━━\u001b[0m\u001b[37m\u001b[0m \u001b[1m15s\u001b[0m 12ms/step - accuracy: 0.4308 - f1_score: 0.1576 - loss: 1.9184 - precision: 0.7858 - recall: 0.2389 - val_accuracy: 0.5267 - val_f1_score: 0.2114 - val_loss: 1.6042 - val_precision: 0.8311 - val_recall: 0.3635\n",
      "Epoch 3/100\n",
      "\u001b[1m1239/1239\u001b[0m \u001b[32m━━━━━━━━━━━━━━━━━━━━\u001b[0m\u001b[37m\u001b[0m \u001b[1m15s\u001b[0m 12ms/step - accuracy: 0.5243 - f1_score: 0.2105 - loss: 1.6023 - precision: 0.8170 - recall: 0.3737 - val_accuracy: 0.5695 - val_f1_score: 0.2360 - val_loss: 1.4439 - val_precision: 0.8317 - val_recall: 0.4411\n",
      "Epoch 4/100\n",
      "\u001b[1m1239/1239\u001b[0m \u001b[32m━━━━━━━━━━━━━━━━━━━━\u001b[0m\u001b[37m\u001b[0m \u001b[1m15s\u001b[0m 12ms/step - accuracy: 0.5653 - f1_score: 0.2414 - loss: 1.4540 - precision: 0.8289 - recall: 0.4350 - val_accuracy: 0.5883 - val_f1_score: 0.2703 - val_loss: 1.3665 - val_precision: 0.8427 - val_recall: 0.4733\n",
      "Epoch 5/100\n",
      "\u001b[1m1239/1239\u001b[0m \u001b[32m━━━━━━━━━━━━━━━━━━━━\u001b[0m\u001b[37m\u001b[0m \u001b[1m20s\u001b[0m 12ms/step - accuracy: 0.5805 - f1_score: 0.2606 - loss: 1.3844 - precision: 0.8318 - recall: 0.4621 - val_accuracy: 0.6002 - val_f1_score: 0.2838 - val_loss: 1.3225 - val_precision: 0.8375 - val_recall: 0.4967\n",
      "Epoch 6/100\n",
      "\u001b[1m1239/1239\u001b[0m \u001b[32m━━━━━━━━━━━━━━━━━━━━\u001b[0m\u001b[37m\u001b[0m \u001b[1m15s\u001b[0m 12ms/step - accuracy: 0.5951 - f1_score: 0.2709 - loss: 1.3311 - precision: 0.8357 - recall: 0.4818 - val_accuracy: 0.6079 - val_f1_score: 0.2815 - val_loss: 1.2915 - val_precision: 0.8369 - val_recall: 0.5115\n",
      "Epoch 7/100\n",
      "\u001b[1m1239/1239\u001b[0m \u001b[32m━━━━━━━━━━━━━━━━━━━━\u001b[0m\u001b[37m\u001b[0m \u001b[1m14s\u001b[0m 12ms/step - accuracy: 0.6016 - f1_score: 0.2889 - loss: 1.2944 - precision: 0.8379 - recall: 0.4939 - val_accuracy: 0.6132 - val_f1_score: 0.2971 - val_loss: 1.2739 - val_precision: 0.8376 - val_recall: 0.5195\n",
      "Epoch 8/100\n",
      "\u001b[1m1239/1239\u001b[0m \u001b[32m━━━━━━━━━━━━━━━━━━━━\u001b[0m\u001b[37m\u001b[0m \u001b[1m15s\u001b[0m 12ms/step - accuracy: 0.6107 - f1_score: 0.3038 - loss: 1.2627 - precision: 0.8396 - recall: 0.5057 - val_accuracy: 0.6177 - val_f1_score: 0.2901 - val_loss: 1.2545 - val_precision: 0.8415 - val_recall: 0.5239\n",
      "Epoch 9/100\n",
      "\u001b[1m1239/1239\u001b[0m \u001b[32m━━━━━━━━━━━━━━━━━━━━\u001b[0m\u001b[37m\u001b[0m \u001b[1m15s\u001b[0m 12ms/step - accuracy: 0.6191 - f1_score: 0.2999 - loss: 1.2307 - precision: 0.8420 - recall: 0.5156 - val_accuracy: 0.6178 - val_f1_score: 0.2995 - val_loss: 1.2477 - val_precision: 0.8416 - val_recall: 0.5257\n",
      "Epoch 10/100\n",
      "\u001b[1m1239/1239\u001b[0m \u001b[32m━━━━━━━━━━━━━━━━━━━━\u001b[0m\u001b[37m\u001b[0m \u001b[1m15s\u001b[0m 12ms/step - accuracy: 0.6203 - f1_score: 0.3013 - loss: 1.2201 - precision: 0.8403 - recall: 0.5174 - val_accuracy: 0.6242 - val_f1_score: 0.3225 - val_loss: 1.2315 - val_precision: 0.8398 - val_recall: 0.5291\n",
      "Epoch 11/100\n",
      "\u001b[1m1239/1239\u001b[0m \u001b[32m━━━━━━━━━━━━━━━━━━━━\u001b[0m\u001b[37m\u001b[0m \u001b[1m15s\u001b[0m 12ms/step - accuracy: 0.6277 - f1_score: 0.3191 - loss: 1.1982 - precision: 0.8449 - recall: 0.5246 - val_accuracy: 0.6230 - val_f1_score: 0.3114 - val_loss: 1.2304 - val_precision: 0.8351 - val_recall: 0.5364\n",
      "Epoch 12/100\n",
      "\u001b[1m1239/1239\u001b[0m \u001b[32m━━━━━━━━━━━━━━━━━━━━\u001b[0m\u001b[37m\u001b[0m \u001b[1m15s\u001b[0m 12ms/step - accuracy: 0.6287 - f1_score: 0.3234 - loss: 1.1876 - precision: 0.8458 - recall: 0.5301 - val_accuracy: 0.6261 - val_f1_score: 0.3188 - val_loss: 1.2186 - val_precision: 0.8414 - val_recall: 0.5364\n",
      "Epoch 13/100\n",
      "\u001b[1m1239/1239\u001b[0m \u001b[32m━━━━━━━━━━━━━━━━━━━━\u001b[0m\u001b[37m\u001b[0m \u001b[1m14s\u001b[0m 12ms/step - accuracy: 0.6345 - f1_score: 0.3269 - loss: 1.1722 - precision: 0.8463 - recall: 0.5343 - val_accuracy: 0.6260 - val_f1_score: 0.3319 - val_loss: 1.2178 - val_precision: 0.8345 - val_recall: 0.5423\n",
      "Epoch 14/100\n",
      "\u001b[1m1239/1239\u001b[0m \u001b[32m━━━━━━━━━━━━━━━━━━━━\u001b[0m\u001b[37m\u001b[0m \u001b[1m15s\u001b[0m 12ms/step - accuracy: 0.6372 - f1_score: 0.3290 - loss: 1.1576 - precision: 0.8453 - recall: 0.5386 - val_accuracy: 0.6300 - val_f1_score: 0.3363 - val_loss: 1.2112 - val_precision: 0.8442 - val_recall: 0.5368\n",
      "Epoch 15/100\n",
      "\u001b[1m1239/1239\u001b[0m \u001b[32m━━━━━━━━━━━━━━━━━━━━\u001b[0m\u001b[37m\u001b[0m \u001b[1m15s\u001b[0m 12ms/step - accuracy: 0.6409 - f1_score: 0.3665 - loss: 1.1456 - precision: 0.8482 - recall: 0.5410 - val_accuracy: 0.6310 - val_f1_score: 0.3216 - val_loss: 1.2088 - val_precision: 0.8370 - val_recall: 0.5447\n",
      "Epoch 16/100\n",
      "\u001b[1m1239/1239\u001b[0m \u001b[32m━━━━━━━━━━━━━━━━━━━━\u001b[0m\u001b[37m\u001b[0m \u001b[1m15s\u001b[0m 12ms/step - accuracy: 0.6417 - f1_score: 0.3344 - loss: 1.1363 - precision: 0.8485 - recall: 0.5431 - val_accuracy: 0.6330 - val_f1_score: 0.3422 - val_loss: 1.2006 - val_precision: 0.8420 - val_recall: 0.5459\n",
      "Epoch 17/100\n",
      "\u001b[1m1239/1239\u001b[0m \u001b[32m━━━━━━━━━━━━━━━━━━━━\u001b[0m\u001b[37m\u001b[0m \u001b[1m15s\u001b[0m 12ms/step - accuracy: 0.6436 - f1_score: 0.3403 - loss: 1.1273 - precision: 0.8497 - recall: 0.5458 - val_accuracy: 0.6332 - val_f1_score: 0.3345 - val_loss: 1.2019 - val_precision: 0.8401 - val_recall: 0.5501\n",
      "Epoch 18/100\n",
      "\u001b[1m1239/1239\u001b[0m \u001b[32m━━━━━━━━━━━━━━━━━━━━\u001b[0m\u001b[37m\u001b[0m \u001b[1m15s\u001b[0m 12ms/step - accuracy: 0.6475 - f1_score: 0.3694 - loss: 1.1204 - precision: 0.8509 - recall: 0.5494 - val_accuracy: 0.6337 - val_f1_score: 0.3241 - val_loss: 1.1971 - val_precision: 0.8392 - val_recall: 0.5495\n",
      "Epoch 19/100\n",
      "\u001b[1m1239/1239\u001b[0m \u001b[32m━━━━━━━━━━━━━━━━━━━━\u001b[0m\u001b[37m\u001b[0m \u001b[1m15s\u001b[0m 12ms/step - accuracy: 0.6473 - f1_score: 0.3516 - loss: 1.1115 - precision: 0.8508 - recall: 0.5513 - val_accuracy: 0.6361 - val_f1_score: 0.3333 - val_loss: 1.1962 - val_precision: 0.8363 - val_recall: 0.5510\n",
      "Epoch 20/100\n",
      "\u001b[1m1239/1239\u001b[0m \u001b[32m━━━━━━━━━━━━━━━━━━━━\u001b[0m\u001b[37m\u001b[0m \u001b[1m21s\u001b[0m 12ms/step - accuracy: 0.6509 - f1_score: 0.3609 - loss: 1.1019 - precision: 0.8508 - recall: 0.5534 - val_accuracy: 0.6364 - val_f1_score: 0.3409 - val_loss: 1.1911 - val_precision: 0.8361 - val_recall: 0.5542\n",
      "Epoch 21/100\n",
      "\u001b[1m1239/1239\u001b[0m \u001b[32m━━━━━━━━━━━━━━━━━━━━\u001b[0m\u001b[37m\u001b[0m \u001b[1m15s\u001b[0m 12ms/step - accuracy: 0.6574 - f1_score: 0.3724 - loss: 1.0822 - precision: 0.8537 - recall: 0.5626 - val_accuracy: 0.6362 - val_f1_score: 0.3384 - val_loss: 1.1922 - val_precision: 0.8395 - val_recall: 0.5541\n",
      "Epoch 22/100\n",
      "\u001b[1m1239/1239\u001b[0m \u001b[32m━━━━━━━━━━━━━━━━━━━━\u001b[0m\u001b[37m\u001b[0m \u001b[1m15s\u001b[0m 12ms/step - accuracy: 0.6596 - f1_score: 0.3709 - loss: 1.0786 - precision: 0.8540 - recall: 0.5628 - val_accuracy: 0.6362 - val_f1_score: 0.3419 - val_loss: 1.1923 - val_precision: 0.8388 - val_recall: 0.5556\n",
      "Epoch 23/100\n",
      "\u001b[1m1239/1239\u001b[0m \u001b[32m━━━━━━━━━━━━━━━━━━━━\u001b[0m\u001b[37m\u001b[0m \u001b[1m15s\u001b[0m 12ms/step - accuracy: 0.6547 - f1_score: 0.3538 - loss: 1.0823 - precision: 0.8503 - recall: 0.5601 - val_accuracy: 0.6383 - val_f1_score: 0.3404 - val_loss: 1.1900 - val_precision: 0.8361 - val_recall: 0.5574\n",
      "Epoch 24/100\n",
      "\u001b[1m1239/1239\u001b[0m \u001b[32m━━━━━━━━━━━━━━━━━━━━\u001b[0m\u001b[37m\u001b[0m \u001b[1m15s\u001b[0m 12ms/step - accuracy: 0.6595 - f1_score: 0.3901 - loss: 1.0759 - precision: 0.8539 - recall: 0.5649 - val_accuracy: 0.6387 - val_f1_score: 0.3461 - val_loss: 1.1902 - val_precision: 0.8371 - val_recall: 0.5561\n",
      "Epoch 25/100\n",
      "\u001b[1m1239/1239\u001b[0m \u001b[32m━━━━━━━━━━━━━━━━━━━━\u001b[0m\u001b[37m\u001b[0m \u001b[1m15s\u001b[0m 12ms/step - accuracy: 0.6614 - f1_score: 0.3836 - loss: 1.0676 - precision: 0.8554 - recall: 0.5666 - val_accuracy: 0.6394 - val_f1_score: 0.3478 - val_loss: 1.1844 - val_precision: 0.8371 - val_recall: 0.5600\n",
      "Epoch 26/100\n",
      "\u001b[1m1239/1239\u001b[0m \u001b[32m━━━━━━━━━━━━━━━━━━━━\u001b[0m\u001b[37m\u001b[0m \u001b[1m15s\u001b[0m 12ms/step - accuracy: 0.6613 - f1_score: 0.3918 - loss: 1.0593 - precision: 0.8538 - recall: 0.5684 - val_accuracy: 0.6406 - val_f1_score: 0.3470 - val_loss: 1.1832 - val_precision: 0.8347 - val_recall: 0.5615\n",
      "Epoch 27/100\n",
      "\u001b[1m1239/1239\u001b[0m \u001b[32m━━━━━━━━━━━━━━━━━━━━\u001b[0m\u001b[37m\u001b[0m \u001b[1m15s\u001b[0m 12ms/step - accuracy: 0.6621 - f1_score: 0.4206 - loss: 1.0556 - precision: 0.8516 - recall: 0.5678 - val_accuracy: 0.6426 - val_f1_score: 0.3469 - val_loss: 1.1829 - val_precision: 0.8358 - val_recall: 0.5617\n",
      "Epoch 28/100\n",
      "\u001b[1m1239/1239\u001b[0m \u001b[32m━━━━━━━━━━━━━━━━━━━━\u001b[0m\u001b[37m\u001b[0m \u001b[1m15s\u001b[0m 12ms/step - accuracy: 0.6654 - f1_score: 0.3919 - loss: 1.0466 - precision: 0.8547 - recall: 0.5727 - val_accuracy: 0.6413 - val_f1_score: 0.3537 - val_loss: 1.1855 - val_precision: 0.8347 - val_recall: 0.5613\n",
      "Epoch 29/100\n",
      "\u001b[1m1239/1239\u001b[0m \u001b[32m━━━━━━━━━━━━━━━━━━━━\u001b[0m\u001b[37m\u001b[0m \u001b[1m15s\u001b[0m 12ms/step - accuracy: 0.6680 - f1_score: 0.4072 - loss: 1.0431 - precision: 0.8541 - recall: 0.5720 - val_accuracy: 0.6398 - val_f1_score: 0.3503 - val_loss: 1.1852 - val_precision: 0.8325 - val_recall: 0.5631\n",
      "Epoch 30/100\n",
      "\u001b[1m1239/1239\u001b[0m \u001b[32m━━━━━━━━━━━━━━━━━━━━\u001b[0m\u001b[37m\u001b[0m \u001b[1m15s\u001b[0m 12ms/step - accuracy: 0.6668 - f1_score: 0.4123 - loss: 1.0367 - precision: 0.8540 - recall: 0.5750 - val_accuracy: 0.6390 - val_f1_score: 0.3505 - val_loss: 1.1866 - val_precision: 0.8352 - val_recall: 0.5597\n",
      "Epoch 31/100\n",
      "\u001b[1m1239/1239\u001b[0m \u001b[32m━━━━━━━━━━━━━━━━━━━━\u001b[0m\u001b[37m\u001b[0m \u001b[1m15s\u001b[0m 12ms/step - accuracy: 0.6686 - f1_score: 0.4249 - loss: 1.0364 - precision: 0.8564 - recall: 0.5750 - val_accuracy: 0.6418 - val_f1_score: 0.3575 - val_loss: 1.1839 - val_precision: 0.8317 - val_recall: 0.5660\n",
      "Epoch 32/100\n",
      "\u001b[1m1239/1239\u001b[0m \u001b[32m━━━━━━━━━━━━━━━━━━━━\u001b[0m\u001b[37m\u001b[0m \u001b[1m15s\u001b[0m 12ms/step - accuracy: 0.6697 - f1_score: 0.3947 - loss: 1.0302 - precision: 0.8551 - recall: 0.5770 - val_accuracy: 0.6402 - val_f1_score: 0.3492 - val_loss: 1.1850 - val_precision: 0.8260 - val_recall: 0.5669\n",
      "Epoch 33/100\n",
      "\u001b[1m1239/1239\u001b[0m \u001b[32m━━━━━━━━━━━━━━━━━━━━\u001b[0m\u001b[37m\u001b[0m \u001b[1m15s\u001b[0m 12ms/step - accuracy: 0.6701 - f1_score: 0.4236 - loss: 1.0282 - precision: 0.8543 - recall: 0.5781 - val_accuracy: 0.6435 - val_f1_score: 0.3571 - val_loss: 1.1883 - val_precision: 0.8339 - val_recall: 0.5670\n",
      "Epoch 34/100\n",
      "\u001b[1m1239/1239\u001b[0m \u001b[32m━━━━━━━━━━━━━━━━━━━━\u001b[0m\u001b[37m\u001b[0m \u001b[1m15s\u001b[0m 12ms/step - accuracy: 0.6710 - f1_score: 0.4270 - loss: 1.0234 - precision: 0.8539 - recall: 0.5776 - val_accuracy: 0.6429 - val_f1_score: 0.3533 - val_loss: 1.1846 - val_precision: 0.8291 - val_recall: 0.5686\n",
      "Epoch 35/100\n",
      "\u001b[1m1239/1239\u001b[0m \u001b[32m━━━━━━━━━━━━━━━━━━━━\u001b[0m\u001b[37m\u001b[0m \u001b[1m15s\u001b[0m 12ms/step - accuracy: 0.6729 - f1_score: 0.4174 - loss: 1.0188 - precision: 0.8546 - recall: 0.5809 - val_accuracy: 0.6436 - val_f1_score: 0.3561 - val_loss: 1.1798 - val_precision: 0.8328 - val_recall: 0.5640\n",
      "Epoch 36/100\n",
      "\u001b[1m1239/1239\u001b[0m \u001b[32m━━━━━━━━━━━━━━━━━━━━\u001b[0m\u001b[37m\u001b[0m \u001b[1m15s\u001b[0m 12ms/step - accuracy: 0.6725 - f1_score: 0.4151 - loss: 1.0175 - precision: 0.8549 - recall: 0.5807 - val_accuracy: 0.6410 - val_f1_score: 0.3543 - val_loss: 1.1901 - val_precision: 0.8299 - val_recall: 0.5671\n",
      "Epoch 37/100\n",
      "\u001b[1m1239/1239\u001b[0m \u001b[32m━━━━━━━━━━━━━━━━━━━━\u001b[0m\u001b[37m\u001b[0m \u001b[1m15s\u001b[0m 12ms/step - accuracy: 0.6759 - f1_score: 0.4209 - loss: 1.0088 - precision: 0.8561 - recall: 0.5850 - val_accuracy: 0.6451 - val_f1_score: 0.3541 - val_loss: 1.1844 - val_precision: 0.8288 - val_recall: 0.5692\n",
      "Epoch 38/100\n",
      "\u001b[1m1239/1239\u001b[0m \u001b[32m━━━━━━━━━━━━━━━━━━━━\u001b[0m\u001b[37m\u001b[0m \u001b[1m15s\u001b[0m 12ms/step - accuracy: 0.6721 - f1_score: 0.4502 - loss: 1.0147 - precision: 0.8540 - recall: 0.5809 - val_accuracy: 0.6414 - val_f1_score: 0.3544 - val_loss: 1.1890 - val_precision: 0.8265 - val_recall: 0.5698\n",
      "Epoch 39/100\n",
      "\u001b[1m1239/1239\u001b[0m \u001b[32m━━━━━━━━━━━━━━━━━━━━\u001b[0m\u001b[37m\u001b[0m \u001b[1m15s\u001b[0m 12ms/step - accuracy: 0.6770 - f1_score: 0.4292 - loss: 1.0016 - precision: 0.8560 - recall: 0.5868 - val_accuracy: 0.6442 - val_f1_score: 0.3569 - val_loss: 1.1892 - val_precision: 0.8229 - val_recall: 0.5708\n",
      "Epoch 40/100\n",
      "\u001b[1m1239/1239\u001b[0m \u001b[32m━━━━━━━━━━━━━━━━━━━━\u001b[0m\u001b[37m\u001b[0m \u001b[1m15s\u001b[0m 12ms/step - accuracy: 0.6762 - f1_score: 0.4425 - loss: 1.0021 - precision: 0.8549 - recall: 0.5863 - val_accuracy: 0.6435 - val_f1_score: 0.3529 - val_loss: 1.1864 - val_precision: 0.8284 - val_recall: 0.5718\n",
      "Epoch 41/100\n",
      "\u001b[1m1239/1239\u001b[0m \u001b[32m━━━━━━━━━━━━━━━━━━━━\u001b[0m\u001b[37m\u001b[0m \u001b[1m15s\u001b[0m 12ms/step - accuracy: 0.6750 - f1_score: 0.3989 - loss: 1.0030 - precision: 0.8545 - recall: 0.5854 - val_accuracy: 0.6461 - val_f1_score: 0.3538 - val_loss: 1.1859 - val_precision: 0.8267 - val_recall: 0.5739\n",
      "Epoch 42/100\n",
      "\u001b[1m1239/1239\u001b[0m \u001b[32m━━━━━━━━━━━━━━━━━━━━\u001b[0m\u001b[37m\u001b[0m \u001b[1m15s\u001b[0m 12ms/step - accuracy: 0.6781 - f1_score: 0.4670 - loss: 1.0006 - precision: 0.8560 - recall: 0.5877 - val_accuracy: 0.6415 - val_f1_score: 0.3559 - val_loss: 1.1899 - val_precision: 0.8262 - val_recall: 0.5686\n",
      "Epoch 43/100\n",
      "\u001b[1m1239/1239\u001b[0m \u001b[32m━━━━━━━━━━━━━━━━━━━━\u001b[0m\u001b[37m\u001b[0m \u001b[1m15s\u001b[0m 12ms/step - accuracy: 0.6777 - f1_score: 0.4229 - loss: 0.9954 - precision: 0.8568 - recall: 0.5878 - val_accuracy: 0.6440 - val_f1_score: 0.3574 - val_loss: 1.1914 - val_precision: 0.8239 - val_recall: 0.5717\n",
      "Epoch 44/100\n",
      "\u001b[1m1239/1239\u001b[0m \u001b[32m━━━━━━━━━━━━━━━━━━━━\u001b[0m\u001b[37m\u001b[0m \u001b[1m15s\u001b[0m 12ms/step - accuracy: 0.6781 - f1_score: 0.4209 - loss: 0.9898 - precision: 0.8536 - recall: 0.5890 - val_accuracy: 0.6441 - val_f1_score: 0.3593 - val_loss: 1.1859 - val_precision: 0.8280 - val_recall: 0.5703\n",
      "Epoch 45/100\n",
      "\u001b[1m1239/1239\u001b[0m \u001b[32m━━━━━━━━━━━━━━━━━━━━\u001b[0m\u001b[37m\u001b[0m \u001b[1m15s\u001b[0m 12ms/step - accuracy: 0.6777 - f1_score: 0.4397 - loss: 0.9909 - precision: 0.8555 - recall: 0.5879 - val_accuracy: 0.6462 - val_f1_score: 0.3551 - val_loss: 1.1876 - val_precision: 0.8303 - val_recall: 0.5725\n",
      "Epoch 46/100\n",
      "\u001b[1m1239/1239\u001b[0m \u001b[32m━━━━━━━━━━━━━━━━━━━━\u001b[0m\u001b[37m\u001b[0m \u001b[1m15s\u001b[0m 12ms/step - accuracy: 0.6809 - f1_score: 0.4505 - loss: 0.9848 - precision: 0.8589 - recall: 0.5916 - val_accuracy: 0.6453 - val_f1_score: 0.3581 - val_loss: 1.1889 - val_precision: 0.8288 - val_recall: 0.5727\n",
      "Epoch 47/100\n",
      "\u001b[1m1239/1239\u001b[0m \u001b[32m━━━━━━━━━━━━━━━━━━━━\u001b[0m\u001b[37m\u001b[0m \u001b[1m15s\u001b[0m 12ms/step - accuracy: 0.6828 - f1_score: 0.4640 - loss: 0.9784 - precision: 0.8566 - recall: 0.5930 - val_accuracy: 0.6440 - val_f1_score: 0.3597 - val_loss: 1.1938 - val_precision: 0.8232 - val_recall: 0.5744\n",
      "Epoch 48/100\n",
      "\u001b[1m1239/1239\u001b[0m \u001b[32m━━━━━━━━━━━━━━━━━━━━\u001b[0m\u001b[37m\u001b[0m \u001b[1m15s\u001b[0m 12ms/step - accuracy: 0.6807 - f1_score: 0.4379 - loss: 0.9834 - precision: 0.8546 - recall: 0.5931 - val_accuracy: 0.6444 - val_f1_score: 0.3563 - val_loss: 1.1909 - val_precision: 0.8211 - val_recall: 0.5759\n",
      "Epoch 49/100\n",
      "\u001b[1m1239/1239\u001b[0m \u001b[32m━━━━━━━━━━━━━━━━━━━━\u001b[0m\u001b[37m\u001b[0m \u001b[1m15s\u001b[0m 12ms/step - accuracy: 0.6834 - f1_score: 0.4479 - loss: 0.9762 - precision: 0.8568 - recall: 0.5953 - val_accuracy: 0.6442 - val_f1_score: 0.3566 - val_loss: 1.1908 - val_precision: 0.8219 - val_recall: 0.5741\n",
      "Epoch 50/100\n",
      "\u001b[1m1239/1239\u001b[0m \u001b[32m━━━━━━━━━━━━━━━━━━━━\u001b[0m\u001b[37m\u001b[0m \u001b[1m15s\u001b[0m 12ms/step - accuracy: 0.6827 - f1_score: 0.4456 - loss: 0.9781 - precision: 0.8568 - recall: 0.5938 - val_accuracy: 0.6456 - val_f1_score: 0.3541 - val_loss: 1.1887 - val_precision: 0.8283 - val_recall: 0.5752\n",
      "Epoch 51/100\n",
      "\u001b[1m1239/1239\u001b[0m \u001b[32m━━━━━━━━━━━━━━━━━━━━\u001b[0m\u001b[37m\u001b[0m \u001b[1m15s\u001b[0m 12ms/step - accuracy: 0.6830 - f1_score: 0.4352 - loss: 0.9763 - precision: 0.8564 - recall: 0.5952 - val_accuracy: 0.6457 - val_f1_score: 0.3572 - val_loss: 1.1906 - val_precision: 0.8228 - val_recall: 0.5784\n",
      "Epoch 52/100\n",
      "\u001b[1m1239/1239\u001b[0m \u001b[32m━━━━━━━━━━━━━━━━━━━━\u001b[0m\u001b[37m\u001b[0m \u001b[1m15s\u001b[0m 12ms/step - accuracy: 0.6865 - f1_score: 0.4833 - loss: 0.9663 - precision: 0.8582 - recall: 0.5984 - val_accuracy: 0.6447 - val_f1_score: 0.3583 - val_loss: 1.1941 - val_precision: 0.8211 - val_recall: 0.5785\n",
      "Epoch 53/100\n",
      "\u001b[1m1239/1239\u001b[0m \u001b[32m━━━━━━━━━━━━━━━━━━━━\u001b[0m\u001b[37m\u001b[0m \u001b[1m15s\u001b[0m 12ms/step - accuracy: 0.6859 - f1_score: 0.4508 - loss: 0.9660 - precision: 0.8576 - recall: 0.5982 - val_accuracy: 0.6455 - val_f1_score: 0.3573 - val_loss: 1.1881 - val_precision: 0.8247 - val_recall: 0.5772\n",
      "Epoch 54/100\n",
      "\u001b[1m1239/1239\u001b[0m \u001b[32m━━━━━━━━━━━━━━━━━━━━\u001b[0m\u001b[37m\u001b[0m \u001b[1m15s\u001b[0m 12ms/step - accuracy: 0.6824 - f1_score: 0.4295 - loss: 0.9721 - precision: 0.8555 - recall: 0.5961 - val_accuracy: 0.6465 - val_f1_score: 0.3625 - val_loss: 1.1918 - val_precision: 0.8205 - val_recall: 0.5767\n",
      "Epoch 55/100\n",
      "\u001b[1m1239/1239\u001b[0m \u001b[32m━━━━━━━━━━━━━━━━━━━━\u001b[0m\u001b[37m\u001b[0m \u001b[1m15s\u001b[0m 12ms/step - accuracy: 0.6879 - f1_score: 0.4659 - loss: 0.9608 - precision: 0.8580 - recall: 0.6000 - val_accuracy: 0.6483 - val_f1_score: 0.3609 - val_loss: 1.1891 - val_precision: 0.8250 - val_recall: 0.5771\n",
      "Epoch 56/100\n",
      "\u001b[1m1239/1239\u001b[0m \u001b[32m━━━━━━━━━━━━━━━━━━━━\u001b[0m\u001b[37m\u001b[0m \u001b[1m15s\u001b[0m 12ms/step - accuracy: 0.6861 - f1_score: 0.4441 - loss: 0.9646 - precision: 0.8564 - recall: 0.5986 - val_accuracy: 0.6458 - val_f1_score: 0.3581 - val_loss: 1.1894 - val_precision: 0.8230 - val_recall: 0.5767\n",
      "Epoch 57/100\n",
      "\u001b[1m1239/1239\u001b[0m \u001b[32m━━━━━━━━━━━━━━━━━━━━\u001b[0m\u001b[37m\u001b[0m \u001b[1m21s\u001b[0m 12ms/step - accuracy: 0.6847 - f1_score: 0.4186 - loss: 0.9655 - precision: 0.8574 - recall: 0.5984 - val_accuracy: 0.6462 - val_f1_score: 0.3625 - val_loss: 1.1907 - val_precision: 0.8220 - val_recall: 0.5784\n",
      "Epoch 58/100\n",
      "\u001b[1m1239/1239\u001b[0m \u001b[32m━━━━━━━━━━━━━━━━━━━━\u001b[0m\u001b[37m\u001b[0m \u001b[1m15s\u001b[0m 12ms/step - accuracy: 0.6882 - f1_score: 0.4283 - loss: 0.9571 - precision: 0.8597 - recall: 0.6019 - val_accuracy: 0.6462 - val_f1_score: 0.3551 - val_loss: 1.1916 - val_precision: 0.8244 - val_recall: 0.5770\n",
      "Epoch 59/100\n",
      "\u001b[1m1239/1239\u001b[0m \u001b[32m━━━━━━━━━━━━━━━━━━━━\u001b[0m\u001b[37m\u001b[0m \u001b[1m15s\u001b[0m 12ms/step - accuracy: 0.6861 - f1_score: 0.4533 - loss: 0.9649 - precision: 0.8564 - recall: 0.5987 - val_accuracy: 0.6459 - val_f1_score: 0.3615 - val_loss: 1.1979 - val_precision: 0.8156 - val_recall: 0.5798\n",
      "Epoch 60/100\n",
      "\u001b[1m1239/1239\u001b[0m \u001b[32m━━━━━━━━━━━━━━━━━━━━\u001b[0m\u001b[37m\u001b[0m \u001b[1m15s\u001b[0m 12ms/step - accuracy: 0.6883 - f1_score: 0.4378 - loss: 0.9559 - precision: 0.8566 - recall: 0.6028 - val_accuracy: 0.6472 - val_f1_score: 0.3568 - val_loss: 1.1974 - val_precision: 0.8211 - val_recall: 0.5806\n",
      "Epoch 61/100\n",
      "\u001b[1m1239/1239\u001b[0m \u001b[32m━━━━━━━━━━━━━━━━━━━━\u001b[0m\u001b[37m\u001b[0m \u001b[1m15s\u001b[0m 12ms/step - accuracy: 0.6869 - f1_score: 0.4333 - loss: 0.9601 - precision: 0.8567 - recall: 0.6010 - val_accuracy: 0.6458 - val_f1_score: 0.3537 - val_loss: 1.1988 - val_precision: 0.8234 - val_recall: 0.5762\n",
      "Epoch 62/100\n",
      "\u001b[1m1239/1239\u001b[0m \u001b[32m━━━━━━━━━━━━━━━━━━━━\u001b[0m\u001b[37m\u001b[0m \u001b[1m15s\u001b[0m 12ms/step - accuracy: 0.6889 - f1_score: 0.4137 - loss: 0.9511 - precision: 0.8571 - recall: 0.6031 - val_accuracy: 0.6466 - val_f1_score: 0.3605 - val_loss: 1.1984 - val_precision: 0.8232 - val_recall: 0.5764\n",
      "Epoch 63/100\n",
      "\u001b[1m1239/1239\u001b[0m \u001b[32m━━━━━━━━━━━━━━━━━━━━\u001b[0m\u001b[37m\u001b[0m \u001b[1m15s\u001b[0m 12ms/step - accuracy: 0.6876 - f1_score: 0.4187 - loss: 0.9578 - precision: 0.8570 - recall: 0.5999 - val_accuracy: 0.6482 - val_f1_score: 0.3608 - val_loss: 1.1954 - val_precision: 0.8215 - val_recall: 0.5803\n",
      "Epoch 64/100\n",
      "\u001b[1m1239/1239\u001b[0m \u001b[32m━━━━━━━━━━━━━━━━━━━━\u001b[0m\u001b[37m\u001b[0m \u001b[1m21s\u001b[0m 12ms/step - accuracy: 0.6882 - f1_score: 0.4239 - loss: 0.9582 - precision: 0.8579 - recall: 0.6029 - val_accuracy: 0.6475 - val_f1_score: 0.3608 - val_loss: 1.1973 - val_precision: 0.8174 - val_recall: 0.5818\n",
      "Epoch 65/100\n",
      "\u001b[1m1239/1239\u001b[0m \u001b[32m━━━━━━━━━━━━━━━━━━━━\u001b[0m\u001b[37m\u001b[0m \u001b[1m15s\u001b[0m 12ms/step - accuracy: 0.6897 - f1_score: 0.4660 - loss: 0.9481 - precision: 0.8571 - recall: 0.6043 - val_accuracy: 0.6448 - val_f1_score: 0.3585 - val_loss: 1.2027 - val_precision: 0.8164 - val_recall: 0.5755\n",
      "Epoch 66/100\n",
      "\u001b[1m1239/1239\u001b[0m \u001b[32m━━━━━━━━━━━━━━━━━━━━\u001b[0m\u001b[37m\u001b[0m \u001b[1m15s\u001b[0m 12ms/step - accuracy: 0.6897 - f1_score: 0.4681 - loss: 0.9516 - precision: 0.8588 - recall: 0.6049 - val_accuracy: 0.6489 - val_f1_score: 0.3644 - val_loss: 1.1934 - val_precision: 0.8231 - val_recall: 0.5780\n",
      "Epoch 67/100\n",
      "\u001b[1m1239/1239\u001b[0m \u001b[32m━━━━━━━━━━━━━━━━━━━━\u001b[0m\u001b[37m\u001b[0m \u001b[1m15s\u001b[0m 12ms/step - accuracy: 0.6907 - f1_score: 0.4403 - loss: 0.9455 - precision: 0.8588 - recall: 0.6055 - val_accuracy: 0.6484 - val_f1_score: 0.3650 - val_loss: 1.1965 - val_precision: 0.8199 - val_recall: 0.5800\n",
      "Epoch 68/100\n",
      "\u001b[1m1239/1239\u001b[0m \u001b[32m━━━━━━━━━━━━━━━━━━━━\u001b[0m\u001b[37m\u001b[0m \u001b[1m15s\u001b[0m 12ms/step - accuracy: 0.6929 - f1_score: 0.4519 - loss: 0.9398 - precision: 0.8599 - recall: 0.6070 - val_accuracy: 0.6475 - val_f1_score: 0.3648 - val_loss: 1.1943 - val_precision: 0.8207 - val_recall: 0.5807\n",
      "Epoch 69/100\n",
      "\u001b[1m1239/1239\u001b[0m \u001b[32m━━━━━━━━━━━━━━━━━━━━\u001b[0m\u001b[37m\u001b[0m \u001b[1m15s\u001b[0m 12ms/step - accuracy: 0.6890 - f1_score: 0.4608 - loss: 0.9465 - precision: 0.8577 - recall: 0.6030 - val_accuracy: 0.6484 - val_f1_score: 0.3596 - val_loss: 1.1948 - val_precision: 0.8202 - val_recall: 0.5808\n",
      "Epoch 70/100\n",
      "\u001b[1m1239/1239\u001b[0m \u001b[32m━━━━━━━━━━━━━━━━━━━━\u001b[0m\u001b[37m\u001b[0m \u001b[1m15s\u001b[0m 12ms/step - accuracy: 0.6896 - f1_score: 0.4637 - loss: 0.9454 - precision: 0.8583 - recall: 0.6041 - val_accuracy: 0.6481 - val_f1_score: 0.3658 - val_loss: 1.1997 - val_precision: 0.8201 - val_recall: 0.5817\n",
      "Epoch 71/100\n",
      "\u001b[1m1239/1239\u001b[0m \u001b[32m━━━━━━━━━━━━━━━━━━━━\u001b[0m\u001b[37m\u001b[0m \u001b[1m15s\u001b[0m 12ms/step - accuracy: 0.6924 - f1_score: 0.4780 - loss: 0.9395 - precision: 0.8577 - recall: 0.6056 - val_accuracy: 0.6482 - val_f1_score: 0.3596 - val_loss: 1.2019 - val_precision: 0.8173 - val_recall: 0.5825\n",
      "Epoch 72/100\n",
      "\u001b[1m1239/1239\u001b[0m \u001b[32m━━━━━━━━━━━━━━━━━━━━\u001b[0m\u001b[37m\u001b[0m \u001b[1m15s\u001b[0m 12ms/step - accuracy: 0.6899 - f1_score: 0.4579 - loss: 0.9446 - precision: 0.8559 - recall: 0.6064 - val_accuracy: 0.6483 - val_f1_score: 0.3604 - val_loss: 1.1988 - val_precision: 0.8186 - val_recall: 0.5832\n",
      "Epoch 73/100\n",
      "\u001b[1m1239/1239\u001b[0m \u001b[32m━━━━━━━━━━━━━━━━━━━━\u001b[0m\u001b[37m\u001b[0m \u001b[1m15s\u001b[0m 12ms/step - accuracy: 0.6924 - f1_score: 0.4445 - loss: 0.9315 - precision: 0.8583 - recall: 0.6098 - val_accuracy: 0.6470 - val_f1_score: 0.3611 - val_loss: 1.2019 - val_precision: 0.8203 - val_recall: 0.5809\n",
      "Epoch 74/100\n",
      "\u001b[1m1239/1239\u001b[0m \u001b[32m━━━━━━━━━━━━━━━━━━━━\u001b[0m\u001b[37m\u001b[0m \u001b[1m15s\u001b[0m 12ms/step - accuracy: 0.6947 - f1_score: 0.4381 - loss: 0.9308 - precision: 0.8583 - recall: 0.6108 - val_accuracy: 0.6478 - val_f1_score: 0.3641 - val_loss: 1.1974 - val_precision: 0.8183 - val_recall: 0.5832\n",
      "Epoch 75/100\n",
      "\u001b[1m1239/1239\u001b[0m \u001b[32m━━━━━━━━━━━━━━━━━━━━\u001b[0m\u001b[37m\u001b[0m \u001b[1m15s\u001b[0m 12ms/step - accuracy: 0.6938 - f1_score: 0.4850 - loss: 0.9333 - precision: 0.8608 - recall: 0.6095 - val_accuracy: 0.6471 - val_f1_score: 0.3588 - val_loss: 1.1989 - val_precision: 0.8204 - val_recall: 0.5822\n",
      "Epoch 76/100\n",
      "\u001b[1m1239/1239\u001b[0m \u001b[32m━━━━━━━━━━━━━━━━━━━━\u001b[0m\u001b[37m\u001b[0m \u001b[1m15s\u001b[0m 12ms/step - accuracy: 0.6920 - f1_score: 0.4454 - loss: 0.9356 - precision: 0.8575 - recall: 0.6087 - val_accuracy: 0.6481 - val_f1_score: 0.3647 - val_loss: 1.1989 - val_precision: 0.8176 - val_recall: 0.5824\n",
      "Epoch 77/100\n",
      "\u001b[1m1239/1239\u001b[0m \u001b[32m━━━━━━━━━━━━━━━━━━━━\u001b[0m\u001b[37m\u001b[0m \u001b[1m15s\u001b[0m 12ms/step - accuracy: 0.6932 - f1_score: 0.4576 - loss: 0.9312 - precision: 0.8571 - recall: 0.6106 - val_accuracy: 0.6487 - val_f1_score: 0.3564 - val_loss: 1.1953 - val_precision: 0.8194 - val_recall: 0.5804\n",
      "Epoch 78/100\n",
      "\u001b[1m1239/1239\u001b[0m \u001b[32m━━━━━━━━━━━━━━━━━━━━\u001b[0m\u001b[37m\u001b[0m \u001b[1m15s\u001b[0m 12ms/step - accuracy: 0.6935 - f1_score: 0.4560 - loss: 0.9341 - precision: 0.8581 - recall: 0.6083 - val_accuracy: 0.6474 - val_f1_score: 0.3590 - val_loss: 1.2042 - val_precision: 0.8157 - val_recall: 0.5818\n",
      "Epoch 79/100\n",
      "\u001b[1m1239/1239\u001b[0m \u001b[32m━━━━━━━━━━━━━━━━━━━━\u001b[0m\u001b[37m\u001b[0m \u001b[1m15s\u001b[0m 12ms/step - accuracy: 0.6922 - f1_score: 0.4367 - loss: 0.9333 - precision: 0.8563 - recall: 0.6084 - val_accuracy: 0.6479 - val_f1_score: 0.3617 - val_loss: 1.2072 - val_precision: 0.8154 - val_recall: 0.5816\n",
      "Epoch 80/100\n",
      "\u001b[1m1239/1239\u001b[0m \u001b[32m━━━━━━━━━━━━━━━━━━━━\u001b[0m\u001b[37m\u001b[0m \u001b[1m15s\u001b[0m 12ms/step - accuracy: 0.6934 - f1_score: 0.4510 - loss: 0.9324 - precision: 0.8552 - recall: 0.6089 - val_accuracy: 0.6483 - val_f1_score: 0.3607 - val_loss: 1.2039 - val_precision: 0.8153 - val_recall: 0.5838\n",
      "Epoch 81/100\n",
      "\u001b[1m1239/1239\u001b[0m \u001b[32m━━━━━━━━━━━━━━━━━━━━\u001b[0m\u001b[37m\u001b[0m \u001b[1m15s\u001b[0m 12ms/step - accuracy: 0.6940 - f1_score: 0.4682 - loss: 0.9291 - precision: 0.8569 - recall: 0.6111 - val_accuracy: 0.6495 - val_f1_score: 0.3609 - val_loss: 1.2053 - val_precision: 0.8167 - val_recall: 0.5836\n",
      "Epoch 82/100\n",
      "\u001b[1m1239/1239\u001b[0m \u001b[32m━━━━━━━━━━━━━━━━━━━━\u001b[0m\u001b[37m\u001b[0m \u001b[1m15s\u001b[0m 12ms/step - accuracy: 0.6938 - f1_score: 0.4690 - loss: 0.9265 - precision: 0.8573 - recall: 0.6119 - val_accuracy: 0.6487 - val_f1_score: 0.3605 - val_loss: 1.2043 - val_precision: 0.8162 - val_recall: 0.5828\n",
      "Epoch 83/100\n",
      "\u001b[1m1239/1239\u001b[0m \u001b[32m━━━━━━━━━━━━━━━━━━━━\u001b[0m\u001b[37m\u001b[0m \u001b[1m15s\u001b[0m 12ms/step - accuracy: 0.6968 - f1_score: 0.4846 - loss: 0.9230 - precision: 0.8597 - recall: 0.6135 - val_accuracy: 0.6458 - val_f1_score: 0.3566 - val_loss: 1.2027 - val_precision: 0.8137 - val_recall: 0.5799\n",
      "Epoch 84/100\n",
      "\u001b[1m1239/1239\u001b[0m \u001b[32m━━━━━━━━━━━━━━━━━━━━\u001b[0m\u001b[37m\u001b[0m \u001b[1m15s\u001b[0m 12ms/step - accuracy: 0.6961 - f1_score: 0.4548 - loss: 0.9246 - precision: 0.8599 - recall: 0.6131 - val_accuracy: 0.6470 - val_f1_score: 0.3621 - val_loss: 1.2035 - val_precision: 0.8170 - val_recall: 0.5833\n",
      "Epoch 85/100\n",
      "\u001b[1m1239/1239\u001b[0m \u001b[32m━━━━━━━━━━━━━━━━━━━━\u001b[0m\u001b[37m\u001b[0m \u001b[1m16s\u001b[0m 13ms/step - accuracy: 0.6957 - f1_score: 0.4770 - loss: 0.9217 - precision: 0.8592 - recall: 0.6136 - val_accuracy: 0.6469 - val_f1_score: 0.3589 - val_loss: 1.2063 - val_precision: 0.8146 - val_recall: 0.5831\n",
      "Epoch 86/100\n",
      "\u001b[1m1239/1239\u001b[0m \u001b[32m━━━━━━━━━━━━━━━━━━━━\u001b[0m\u001b[37m\u001b[0m \u001b[1m15s\u001b[0m 12ms/step - accuracy: 0.6950 - f1_score: 0.4639 - loss: 0.9225 - precision: 0.8563 - recall: 0.6112 - val_accuracy: 0.6472 - val_f1_score: 0.3558 - val_loss: 1.2111 - val_precision: 0.8117 - val_recall: 0.5836\n",
      "Epoch 87/100\n",
      "\u001b[1m1239/1239\u001b[0m \u001b[32m━━━━━━━━━━━━━━━━━━━━\u001b[0m\u001b[37m\u001b[0m \u001b[1m15s\u001b[0m 12ms/step - accuracy: 0.6955 - f1_score: 0.4683 - loss: 0.9256 - precision: 0.8590 - recall: 0.6127 - val_accuracy: 0.6479 - val_f1_score: 0.3615 - val_loss: 1.2086 - val_precision: 0.8136 - val_recall: 0.5855\n",
      "Epoch 88/100\n",
      "\u001b[1m1239/1239\u001b[0m \u001b[32m━━━━━━━━━━━━━━━━━━━━\u001b[0m\u001b[37m\u001b[0m \u001b[1m15s\u001b[0m 12ms/step - accuracy: 0.6964 - f1_score: 0.4742 - loss: 0.9200 - precision: 0.8588 - recall: 0.6146 - val_accuracy: 0.6487 - val_f1_score: 0.3604 - val_loss: 1.2044 - val_precision: 0.8165 - val_recall: 0.5845\n",
      "Epoch 89/100\n",
      "\u001b[1m1239/1239\u001b[0m \u001b[32m━━━━━━━━━━━━━━━━━━━━\u001b[0m\u001b[37m\u001b[0m \u001b[1m15s\u001b[0m 12ms/step - accuracy: 0.6990 - f1_score: 0.4401 - loss: 0.9171 - precision: 0.8593 - recall: 0.6171 - val_accuracy: 0.6473 - val_f1_score: 0.3649 - val_loss: 1.2053 - val_precision: 0.8153 - val_recall: 0.5829\n",
      "Epoch 90/100\n",
      "\u001b[1m1239/1239\u001b[0m \u001b[32m━━━━━━━━━━━━━━━━━━━━\u001b[0m\u001b[37m\u001b[0m \u001b[1m15s\u001b[0m 12ms/step - accuracy: 0.6964 - f1_score: 0.4484 - loss: 0.9187 - precision: 0.8594 - recall: 0.6143 - val_accuracy: 0.6494 - val_f1_score: 0.3587 - val_loss: 1.2074 - val_precision: 0.8164 - val_recall: 0.5840\n",
      "Epoch 91/100\n",
      "\u001b[1m1239/1239\u001b[0m \u001b[32m━━━━━━━━━━━━━━━━━━━━\u001b[0m\u001b[37m\u001b[0m \u001b[1m15s\u001b[0m 12ms/step - accuracy: 0.6985 - f1_score: 0.4627 - loss: 0.9184 - precision: 0.8589 - recall: 0.6160 - val_accuracy: 0.6491 - val_f1_score: 0.3653 - val_loss: 1.2091 - val_precision: 0.8165 - val_recall: 0.5836\n",
      "Epoch 92/100\n",
      "\u001b[1m1239/1239\u001b[0m \u001b[32m━━━━━━━━━━━━━━━━━━━━\u001b[0m\u001b[37m\u001b[0m \u001b[1m20s\u001b[0m 12ms/step - accuracy: 0.6988 - f1_score: 0.4641 - loss: 0.9137 - precision: 0.8584 - recall: 0.6153 - val_accuracy: 0.6463 - val_f1_score: 0.3614 - val_loss: 1.2113 - val_precision: 0.8095 - val_recall: 0.5849\n",
      "Epoch 93/100\n",
      "\u001b[1m1239/1239\u001b[0m \u001b[32m━━━━━━━━━━━━━━━━━━━━\u001b[0m\u001b[37m\u001b[0m \u001b[1m15s\u001b[0m 12ms/step - accuracy: 0.6974 - f1_score: 0.4708 - loss: 0.9147 - precision: 0.8582 - recall: 0.6163 - val_accuracy: 0.6481 - val_f1_score: 0.3596 - val_loss: 1.2080 - val_precision: 0.8161 - val_recall: 0.5844\n",
      "Epoch 94/100\n",
      "\u001b[1m1239/1239\u001b[0m \u001b[32m━━━━━━━━━━━━━━━━━━━━\u001b[0m\u001b[37m\u001b[0m \u001b[1m15s\u001b[0m 12ms/step - accuracy: 0.6970 - f1_score: 0.4589 - loss: 0.9141 - precision: 0.8578 - recall: 0.6150 - val_accuracy: 0.6476 - val_f1_score: 0.3619 - val_loss: 1.2060 - val_precision: 0.8139 - val_recall: 0.5837\n",
      "Epoch 95/100\n",
      "\u001b[1m1239/1239\u001b[0m \u001b[32m━━━━━━━━━━━━━━━━━━━━\u001b[0m\u001b[37m\u001b[0m \u001b[1m21s\u001b[0m 12ms/step - accuracy: 0.6975 - f1_score: 0.4969 - loss: 0.9113 - precision: 0.8587 - recall: 0.6165 - val_accuracy: 0.6490 - val_f1_score: 0.3603 - val_loss: 1.2076 - val_precision: 0.8135 - val_recall: 0.5866\n",
      "Epoch 96/100\n",
      "\u001b[1m1239/1239\u001b[0m \u001b[32m━━━━━━━━━━━━━━━━━━━━\u001b[0m\u001b[37m\u001b[0m \u001b[1m15s\u001b[0m 12ms/step - accuracy: 0.6991 - f1_score: 0.5055 - loss: 0.9112 - precision: 0.8589 - recall: 0.6176 - val_accuracy: 0.6483 - val_f1_score: 0.3596 - val_loss: 1.2098 - val_precision: 0.8148 - val_recall: 0.5817\n",
      "Epoch 97/100\n",
      "\u001b[1m1239/1239\u001b[0m \u001b[32m━━━━━━━━━━━━━━━━━━━━\u001b[0m\u001b[37m\u001b[0m \u001b[1m15s\u001b[0m 12ms/step - accuracy: 0.6957 - f1_score: 0.4631 - loss: 0.9147 - precision: 0.8582 - recall: 0.6138 - val_accuracy: 0.6491 - val_f1_score: 0.3588 - val_loss: 1.2095 - val_precision: 0.8110 - val_recall: 0.5874\n",
      "Epoch 98/100\n",
      "\u001b[1m1239/1239\u001b[0m \u001b[32m━━━━━━━━━━━━━━━━━━━━\u001b[0m\u001b[37m\u001b[0m \u001b[1m15s\u001b[0m 12ms/step - accuracy: 0.6989 - f1_score: 0.4825 - loss: 0.9080 - precision: 0.8587 - recall: 0.6187 - val_accuracy: 0.6484 - val_f1_score: 0.3652 - val_loss: 1.2112 - val_precision: 0.8138 - val_recall: 0.5859\n",
      "Epoch 99/100\n",
      "\u001b[1m1239/1239\u001b[0m \u001b[32m━━━━━━━━━━━━━━━━━━━━\u001b[0m\u001b[37m\u001b[0m \u001b[1m15s\u001b[0m 12ms/step - accuracy: 0.6956 - f1_score: 0.4604 - loss: 0.9158 - precision: 0.8564 - recall: 0.6158 - val_accuracy: 0.6506 - val_f1_score: 0.3618 - val_loss: 1.2132 - val_precision: 0.8160 - val_recall: 0.5865\n",
      "Epoch 100/100\n",
      "\u001b[1m1239/1239\u001b[0m \u001b[32m━━━━━━━━━━━━━━━━━━━━\u001b[0m\u001b[37m\u001b[0m \u001b[1m15s\u001b[0m 12ms/step - accuracy: 0.6972 - f1_score: 0.4597 - loss: 0.9123 - precision: 0.8584 - recall: 0.6172 - val_accuracy: 0.6498 - val_f1_score: 0.3614 - val_loss: 1.2125 - val_precision: 0.8119 - val_recall: 0.5856\n"
     ]
    }
   ],
   "source": [
    "history = model_rnn.fit(x_train, y_train, batch_size = 128 , epochs=100 , validation_data=(x_test , y_test))"
   ]
  },
  {
   "cell_type": "code",
   "execution_count": 22,
   "id": "07ea882e",
   "metadata": {
    "execution": {
     "iopub.execute_input": "2024-05-17T23:13:47.212810Z",
     "iopub.status.busy": "2024-05-17T23:13:47.211947Z",
     "iopub.status.idle": "2024-05-17T23:13:47.778221Z",
     "shell.execute_reply": "2024-05-17T23:13:47.777258Z"
    },
    "papermill": {
     "duration": 2.718741,
     "end_time": "2024-05-17T23:13:47.780405",
     "exception": false,
     "start_time": "2024-05-17T23:13:45.061664",
     "status": "completed"
    },
    "tags": []
   },
   "outputs": [
    {
     "data": {
      "image/png": "[encoded data removed]",
      "text/plain": [
       "<Figure size 640x480 with 1 Axes>"
      ]
     },
     "metadata": {},
     "output_type": "display_data"
    },
    {
     "data": {
      "image/png": "[encoded data removed]",
      "text/plain": [
       "<Figure size 640x480 with 1 Axes>"
      ]
     },
     "metadata": {},
     "output_type": "display_data"
    }
   ],
   "source": [
    "plt.plot(history.history['accuracy'])\n",
    "plt.plot(history.history['val_accuracy'])\n",
    "plt.title('model accuracy')\n",
    "plt.ylabel('accuracy')\n",
    "plt.xlabel('epoch')\n",
    "plt.legend(['train', 'validation'], loc='upper left')\n",
    "plt.show()\n",
    "\n",
    "plt.plot(history.history['loss'])\n",
    "plt.plot(history.history['val_loss'])\n",
    "plt.title('model loss')\n",
    "plt.ylabel('loss')\n",
    "plt.xlabel('epoch')\n",
    "plt.legend(['train', 'validation'], loc='upper left')\n",
    "plt.show()"
   ]
  },
  {
   "cell_type": "code",
   "execution_count": 23,
   "id": "ca6f19fc",
   "metadata": {
    "execution": {
     "iopub.execute_input": "2024-05-17T23:13:52.049908Z",
     "iopub.status.busy": "2024-05-17T23:13:52.049550Z",
     "iopub.status.idle": "2024-05-17T23:13:58.825608Z",
     "shell.execute_reply": "2024-05-17T23:13:58.824717Z"
    },
    "papermill": {
     "duration": 8.920111,
     "end_time": "2024-05-17T23:13:58.827495",
     "exception": false,
     "start_time": "2024-05-17T23:13:49.907384",
     "status": "completed"
    },
    "tags": []
   },
   "outputs": [
    {
     "name": "stdout",
     "output_type": "stream",
     "text": [
      "\u001b[1m1239/1239\u001b[0m \u001b[32m━━━━━━━━━━━━━━━━━━━━\u001b[0m\u001b[37m\u001b[0m \u001b[1m7s\u001b[0m 5ms/step - accuracy: 0.6507 - f1_score: 0.3284 - loss: 1.2057 - precision: 0.8147 - recall: 0.5867\n"
     ]
    }
   ],
   "source": [
    "results = model_rnn.evaluate(x_test,y_test)\n",
    "# print('Testing Accuracy is {} '.format(accuracy*100))"
   ]
  },
  {
   "cell_type": "code",
   "execution_count": 24,
   "id": "07a7e7a3",
   "metadata": {
    "execution": {
     "iopub.execute_input": "2024-05-17T23:14:03.104862Z",
     "iopub.status.busy": "2024-05-17T23:14:03.104007Z",
     "iopub.status.idle": "2024-05-17T23:14:03.109757Z",
     "shell.execute_reply": "2024-05-17T23:14:03.108794Z"
    },
    "papermill": {
     "duration": 2.084795,
     "end_time": "2024-05-17T23:14:03.112561",
     "exception": false,
     "start_time": "2024-05-17T23:14:01.027766",
     "status": "completed"
    },
    "tags": []
   },
   "outputs": [
    {
     "name": "stdout",
     "output_type": "stream",
     "text": [
      "[1.212477207183838, 0.6498081684112549, 0.5855541825294495, 0.8119117021560669, <tf.Tensor: shape=(51,), dtype=float32, numpy=\n",
      "array([0.92022014, 0.        , 0.        , 0.        , 0.        ,\n",
      "       0.        , 0.        , 0.        , 0.6666666 , 0.16666664,\n",
      "       0.        , 0.8571428 , 0.        , 0.        , 0.        ,\n",
      "       0.        , 0.        , 0.        , 0.66666657, 0.72727275,\n",
      "       0.        , 0.        , 0.        , 0.        , 0.        ,\n",
      "       0.5638101 , 0.3987823 , 0.46461535, 0.5136116 , 0.6896642 ,\n",
      "       0.41641635, 0.6709401 , 0.64551723, 0.6034628 , 0.37142852,\n",
      "       0.7712418 , 0.6103363 , 0.49308956, 0.69000584, 0.6434071 ,\n",
      "       0.47829178, 0.35164827, 0.68079144, 0.49732473, 0.6472534 ,\n",
      "       0.6050708 , 0.43266472, 0.57553947, 0.5885416 , 0.64918023,\n",
      "       0.37499997], dtype=float32)>]\n"
     ]
    }
   ],
   "source": [
    "print(results)"
   ]
  },
  {
   "cell_type": "code",
   "execution_count": 25,
   "id": "0779e63f",
   "metadata": {
    "execution": {
     "iopub.execute_input": "2024-05-17T23:14:07.431995Z",
     "iopub.status.busy": "2024-05-17T23:14:07.430739Z",
     "iopub.status.idle": "2024-05-17T23:14:07.788906Z",
     "shell.execute_reply": "2024-05-17T23:14:07.787964Z"
    },
    "papermill": {
     "duration": 2.543933,
     "end_time": "2024-05-17T23:14:07.790876",
     "exception": false,
     "start_time": "2024-05-17T23:14:05.246943",
     "status": "completed"
    },
    "tags": []
   },
   "outputs": [
    {
     "name": "stdout",
     "output_type": "stream",
     "text": [
      "\u001b[1m1/1\u001b[0m \u001b[32m━━━━━━━━━━━━━━━━━━━━\u001b[0m\u001b[37m\u001b[0m \u001b[1m0s\u001b[0m 302ms/step\n",
      "The next character after 'machin ' is predicted to be 'l'\n"
     ]
    }
   ],
   "source": [
    "# Prediction for the next letter\n",
    "def predict_next_char(model, input_text, chars_to_indices, indices_to_chars, maxlen):\n",
    "    input_text = input_text.lower()\n",
    "    input_seq = np.zeros((1, maxlen, len(chars_to_indices)), dtype=bool)\n",
    "    for t, char in enumerate(input_text[-maxlen:]):\n",
    "        if char in chars_to_indices:\n",
    "            input_seq[0, t, chars_to_indices[char]] = 1\n",
    "    \n",
    "    prediction = model.predict(input_seq)\n",
    "    next_index = np.argmax(prediction)\n",
    "    next_char = indices_to_chars[next_index]\n",
    "    \n",
    "    return next_char\n",
    "\n",
    "# Define the input sequence\n",
    "input_text = \"machin \"\n",
    "predicted_char = predict_next_char(model_rnn, input_text, chars_to_indices, indices_to_chars, maxlen)\n",
    "\n",
    "print(f\"The next character after '{input_text}' is predicted to be '{predicted_char}'\")\n"
   ]
  },
  {
   "cell_type": "markdown",
   "id": "bb4f3388",
   "metadata": {
    "papermill": {
     "duration": 2.092297,
     "end_time": "2024-05-17T23:14:12.162822",
     "exception": false,
     "start_time": "2024-05-17T23:14:10.070525",
     "status": "completed"
    },
    "tags": []
   },
   "source": [
    "# # # **SimpleRNN**"
   ]
  },
  {
   "cell_type": "code",
   "execution_count": 26,
   "id": "88ea6aeb",
   "metadata": {
    "execution": {
     "iopub.execute_input": "2024-05-17T23:14:16.407149Z",
     "iopub.status.busy": "2024-05-17T23:14:16.406210Z",
     "iopub.status.idle": "2024-05-17T23:14:16.488328Z",
     "shell.execute_reply": "2024-05-17T23:14:16.487435Z"
    },
    "papermill": {
     "duration": 2.143045,
     "end_time": "2024-05-17T23:14:16.490139",
     "exception": false,
     "start_time": "2024-05-17T23:14:14.347094",
     "status": "completed"
    },
    "tags": []
   },
   "outputs": [
    {
     "data": {
      "text/html": [
       "<pre style=\"white-space:pre;overflow-x:auto;line-height:normal;font-family:Menlo,'DejaVu Sans Mono',consolas,'Courier New',monospace\"><span style=\"font-weight: bold\">Model: \"sequential_1\"</span>\n",
       "</pre>\n"
      ],
      "text/plain": [
       "\u001b[1mModel: \"sequential_1\"\u001b[0m\n"
      ]
     },
     "metadata": {},
     "output_type": "display_data"
    },
    {
     "data": {
      "text/html": [
       "<pre style=\"white-space:pre;overflow-x:auto;line-height:normal;font-family:Menlo,'DejaVu Sans Mono',consolas,'Courier New',monospace\">┏━━━━━━━━━━━━━━━━━━━━━━━━━━━━━━━━━┳━━━━━━━━━━━━━━━━━━━━━━━━┳━━━━━━━━━━━━━━━┓\n",
       "┃<span style=\"font-weight: bold\"> Layer (type)                    </span>┃<span style=\"font-weight: bold\"> Output Shape           </span>┃<span style=\"font-weight: bold\">       Param # </span>┃\n",
       "┡━━━━━━━━━━━━━━━━━━━━━━━━━━━━━━━━━╇━━━━━━━━━━━━━━━━━━━━━━━━╇━━━━━━━━━━━━━━━┩\n",
       "│ simple_rnn_1 (<span style=\"color: #0087ff; text-decoration-color: #0087ff\">SimpleRNN</span>)        │ (<span style=\"color: #00d7ff; text-decoration-color: #00d7ff\">None</span>, <span style=\"color: #00af00; text-decoration-color: #00af00\">5</span>, <span style=\"color: #00af00; text-decoration-color: #00af00\">256</span>)         │        <span style=\"color: #00af00; text-decoration-color: #00af00\">78,848</span> │\n",
       "├─────────────────────────────────┼────────────────────────┼───────────────┤\n",
       "│ dropout_2 (<span style=\"color: #0087ff; text-decoration-color: #0087ff\">Dropout</span>)             │ (<span style=\"color: #00d7ff; text-decoration-color: #00d7ff\">None</span>, <span style=\"color: #00af00; text-decoration-color: #00af00\">5</span>, <span style=\"color: #00af00; text-decoration-color: #00af00\">256</span>)         │             <span style=\"color: #00af00; text-decoration-color: #00af00\">0</span> │\n",
       "├─────────────────────────────────┼────────────────────────┼───────────────┤\n",
       "│ simple_rnn_2 (<span style=\"color: #0087ff; text-decoration-color: #0087ff\">SimpleRNN</span>)        │ (<span style=\"color: #00d7ff; text-decoration-color: #00d7ff\">None</span>, <span style=\"color: #00af00; text-decoration-color: #00af00\">256</span>)            │       <span style=\"color: #00af00; text-decoration-color: #00af00\">131,328</span> │\n",
       "├─────────────────────────────────┼────────────────────────┼───────────────┤\n",
       "│ dropout_3 (<span style=\"color: #0087ff; text-decoration-color: #0087ff\">Dropout</span>)             │ (<span style=\"color: #00d7ff; text-decoration-color: #00d7ff\">None</span>, <span style=\"color: #00af00; text-decoration-color: #00af00\">256</span>)            │             <span style=\"color: #00af00; text-decoration-color: #00af00\">0</span> │\n",
       "├─────────────────────────────────┼────────────────────────┼───────────────┤\n",
       "│ dense_1 (<span style=\"color: #0087ff; text-decoration-color: #0087ff\">Dense</span>)                 │ (<span style=\"color: #00d7ff; text-decoration-color: #00d7ff\">None</span>, <span style=\"color: #00af00; text-decoration-color: #00af00\">51</span>)             │        <span style=\"color: #00af00; text-decoration-color: #00af00\">13,107</span> │\n",
       "└─────────────────────────────────┴────────────────────────┴───────────────┘\n",
       "</pre>\n"
      ],
      "text/plain": [
       "┏━━━━━━━━━━━━━━━━━━━━━━━━━━━━━━━━━┳━━━━━━━━━━━━━━━━━━━━━━━━┳━━━━━━━━━━━━━━━┓\n",
       "┃\u001b[1m \u001b[0m\u001b[1mLayer (type)                   \u001b[0m\u001b[1m \u001b[0m┃\u001b[1m \u001b[0m\u001b[1mOutput Shape          \u001b[0m\u001b[1m \u001b[0m┃\u001b[1m \u001b[0m\u001b[1m      Param #\u001b[0m\u001b[1m \u001b[0m┃\n",
       "┡━━━━━━━━━━━━━━━━━━━━━━━━━━━━━━━━━╇━━━━━━━━━━━━━━━━━━━━━━━━╇━━━━━━━━━━━━━━━┩\n",
       "│ simple_rnn_1 (\u001b[38;5;33mSimpleRNN\u001b[0m)        │ (\u001b[38;5;45mNone\u001b[0m, \u001b[38;5;34m5\u001b[0m, \u001b[38;5;34m256\u001b[0m)         │        \u001b[38;5;34m78,848\u001b[0m │\n",
       "├─────────────────────────────────┼────────────────────────┼───────────────┤\n",
       "│ dropout_2 (\u001b[38;5;33mDropout\u001b[0m)             │ (\u001b[38;5;45mNone\u001b[0m, \u001b[38;5;34m5\u001b[0m, \u001b[38;5;34m256\u001b[0m)         │             \u001b[38;5;34m0\u001b[0m │\n",
       "├─────────────────────────────────┼────────────────────────┼───────────────┤\n",
       "│ simple_rnn_2 (\u001b[38;5;33mSimpleRNN\u001b[0m)        │ (\u001b[38;5;45mNone\u001b[0m, \u001b[38;5;34m256\u001b[0m)            │       \u001b[38;5;34m131,328\u001b[0m │\n",
       "├─────────────────────────────────┼────────────────────────┼───────────────┤\n",
       "│ dropout_3 (\u001b[38;5;33mDropout\u001b[0m)             │ (\u001b[38;5;45mNone\u001b[0m, \u001b[38;5;34m256\u001b[0m)            │             \u001b[38;5;34m0\u001b[0m │\n",
       "├─────────────────────────────────┼────────────────────────┼───────────────┤\n",
       "│ dense_1 (\u001b[38;5;33mDense\u001b[0m)                 │ (\u001b[38;5;45mNone\u001b[0m, \u001b[38;5;34m51\u001b[0m)             │        \u001b[38;5;34m13,107\u001b[0m │\n",
       "└─────────────────────────────────┴────────────────────────┴───────────────┘\n"
      ]
     },
     "metadata": {},
     "output_type": "display_data"
    },
    {
     "data": {
      "text/html": [
       "<pre style=\"white-space:pre;overflow-x:auto;line-height:normal;font-family:Menlo,'DejaVu Sans Mono',consolas,'Courier New',monospace\"><span style=\"font-weight: bold\"> Total params: </span><span style=\"color: #00af00; text-decoration-color: #00af00\">223,283</span> (872.20 KB)\n",
       "</pre>\n"
      ],
      "text/plain": [
       "\u001b[1m Total params: \u001b[0m\u001b[38;5;34m223,283\u001b[0m (872.20 KB)\n"
      ]
     },
     "metadata": {},
     "output_type": "display_data"
    },
    {
     "data": {
      "text/html": [
       "<pre style=\"white-space:pre;overflow-x:auto;line-height:normal;font-family:Menlo,'DejaVu Sans Mono',consolas,'Courier New',monospace\"><span style=\"font-weight: bold\"> Trainable params: </span><span style=\"color: #00af00; text-decoration-color: #00af00\">223,283</span> (872.20 KB)\n",
       "</pre>\n"
      ],
      "text/plain": [
       "\u001b[1m Trainable params: \u001b[0m\u001b[38;5;34m223,283\u001b[0m (872.20 KB)\n"
      ]
     },
     "metadata": {},
     "output_type": "display_data"
    },
    {
     "data": {
      "text/html": [
       "<pre style=\"white-space:pre;overflow-x:auto;line-height:normal;font-family:Menlo,'DejaVu Sans Mono',consolas,'Courier New',monospace\"><span style=\"font-weight: bold\"> Non-trainable params: </span><span style=\"color: #00af00; text-decoration-color: #00af00\">0</span> (0.00 B)\n",
       "</pre>\n"
      ],
      "text/plain": [
       "\u001b[1m Non-trainable params: \u001b[0m\u001b[38;5;34m0\u001b[0m (0.00 B)\n"
      ]
     },
     "metadata": {},
     "output_type": "display_data"
    }
   ],
   "source": [
    "from tensorflow.keras.layers import SimpleRNN, Dropout, Dense  # Add the necessary import\n",
    "\n",
    "# Define a stronger SimpleRNN model\n",
    "model_simple_rnn = tf.keras.Sequential([\n",
    "    SimpleRNN(256, return_sequences=True, input_shape=(maxlen, len(chars))),\n",
    "    Dropout(0.3),\n",
    "    SimpleRNN(256),\n",
    "    Dropout(0.3),\n",
    "    Dense(len(chars), activation='softmax')\n",
    "])\n",
    "\n",
    "# Compile the model\n",
    "model_simple_rnn.compile(\n",
    "    loss='categorical_crossentropy',\n",
    "    optimizer='adam',\n",
    "    metrics=['accuracy']\n",
    ")\n",
    "\n",
    "# Summary of the new model\n",
    "model_simple_rnn.summary()\n"
   ]
  },
  {
   "cell_type": "code",
   "execution_count": 27,
   "id": "52a80104",
   "metadata": {
    "execution": {
     "iopub.execute_input": "2024-05-17T23:14:20.734514Z",
     "iopub.status.busy": "2024-05-17T23:14:20.734154Z",
     "iopub.status.idle": "2024-05-17T23:22:00.167482Z",
     "shell.execute_reply": "2024-05-17T23:22:00.166549Z"
    },
    "papermill": {
     "duration": 463.745083,
     "end_time": "2024-05-17T23:22:02.354780",
     "exception": false,
     "start_time": "2024-05-17T23:14:18.609697",
     "status": "completed"
    },
    "tags": []
   },
   "outputs": [
    {
     "name": "stdout",
     "output_type": "stream",
     "text": [
      "Epoch 1/100\n",
      "\u001b[1m  35/1239\u001b[0m \u001b[37m━━━━━━━━━━━━━━━━━━━━\u001b[0m \u001b[1m5s\u001b[0m 5ms/step - accuracy: 0.1023 - loss: 3.4294"
     ]
    },
    {
     "name": "stderr",
     "output_type": "stream",
     "text": [
      "WARNING: All log messages before absl::InitializeLog() is called are written to STDERR\n",
      "I0000 00:00:1715987667.220277      84 device_compiler.h:186] Compiled cluster using XLA!  This line is logged at most once for the lifetime of the process.\n"
     ]
    },
    {
     "name": "stdout",
     "output_type": "stream",
     "text": [
      "\u001b[1m1239/1239\u001b[0m \u001b[32m━━━━━━━━━━━━━━━━━━━━\u001b[0m\u001b[37m\u001b[0m \u001b[1m16s\u001b[0m 8ms/step - accuracy: 0.2619 - loss: 2.5629 - val_accuracy: 0.3757 - val_loss: 2.1101\n",
      "Epoch 2/100\n",
      "\u001b[1m1239/1239\u001b[0m \u001b[32m━━━━━━━━━━━━━━━━━━━━\u001b[0m\u001b[37m\u001b[0m \u001b[1m5s\u001b[0m 4ms/step - accuracy: 0.3690 - loss: 2.1330 - val_accuracy: 0.4473 - val_loss: 1.8771\n",
      "Epoch 3/100\n",
      "\u001b[1m1239/1239\u001b[0m \u001b[32m━━━━━━━━━━━━━━━━━━━━\u001b[0m\u001b[37m\u001b[0m \u001b[1m4s\u001b[0m 4ms/step - accuracy: 0.4359 - loss: 1.9273 - val_accuracy: 0.5003 - val_loss: 1.7083\n",
      "Epoch 4/100\n",
      "\u001b[1m1239/1239\u001b[0m \u001b[32m━━━━━━━━━━━━━━━━━━━━\u001b[0m\u001b[37m\u001b[0m \u001b[1m4s\u001b[0m 4ms/step - accuracy: 0.4744 - loss: 1.8046 - val_accuracy: 0.5277 - val_loss: 1.6181\n",
      "Epoch 5/100\n",
      "\u001b[1m1239/1239\u001b[0m \u001b[32m━━━━━━━━━━━━━━━━━━━━\u001b[0m\u001b[37m\u001b[0m \u001b[1m5s\u001b[0m 4ms/step - accuracy: 0.4971 - loss: 1.7225 - val_accuracy: 0.5473 - val_loss: 1.5468\n",
      "Epoch 6/100\n",
      "\u001b[1m1239/1239\u001b[0m \u001b[32m━━━━━━━━━━━━━━━━━━━━\u001b[0m\u001b[37m\u001b[0m \u001b[1m4s\u001b[0m 4ms/step - accuracy: 0.5142 - loss: 1.6754 - val_accuracy: 0.5566 - val_loss: 1.5175\n",
      "Epoch 7/100\n",
      "\u001b[1m1239/1239\u001b[0m \u001b[32m━━━━━━━━━━━━━━━━━━━━\u001b[0m\u001b[37m\u001b[0m \u001b[1m4s\u001b[0m 3ms/step - accuracy: 0.5232 - loss: 1.6378 - val_accuracy: 0.5593 - val_loss: 1.4923\n",
      "Epoch 8/100\n",
      "\u001b[1m1239/1239\u001b[0m \u001b[32m━━━━━━━━━━━━━━━━━━━━\u001b[0m\u001b[37m\u001b[0m \u001b[1m4s\u001b[0m 3ms/step - accuracy: 0.5322 - loss: 1.6127 - val_accuracy: 0.5660 - val_loss: 1.4738\n",
      "Epoch 9/100\n",
      "\u001b[1m1239/1239\u001b[0m \u001b[32m━━━━━━━━━━━━━━━━━━━━\u001b[0m\u001b[37m\u001b[0m \u001b[1m4s\u001b[0m 4ms/step - accuracy: 0.5389 - loss: 1.5853 - val_accuracy: 0.5711 - val_loss: 1.4554\n",
      "Epoch 10/100\n",
      "\u001b[1m1239/1239\u001b[0m \u001b[32m━━━━━━━━━━━━━━━━━━━━\u001b[0m\u001b[37m\u001b[0m \u001b[1m4s\u001b[0m 4ms/step - accuracy: 0.5398 - loss: 1.5803 - val_accuracy: 0.5719 - val_loss: 1.4419\n",
      "Epoch 11/100\n",
      "\u001b[1m1239/1239\u001b[0m \u001b[32m━━━━━━━━━━━━━━━━━━━━\u001b[0m\u001b[37m\u001b[0m \u001b[1m4s\u001b[0m 4ms/step - accuracy: 0.5436 - loss: 1.5639 - val_accuracy: 0.5773 - val_loss: 1.4299\n",
      "Epoch 12/100\n",
      "\u001b[1m1239/1239\u001b[0m \u001b[32m━━━━━━━━━━━━━━━━━━━━\u001b[0m\u001b[37m\u001b[0m \u001b[1m5s\u001b[0m 4ms/step - accuracy: 0.5439 - loss: 1.5559 - val_accuracy: 0.5764 - val_loss: 1.4323\n",
      "Epoch 13/100\n",
      "\u001b[1m1239/1239\u001b[0m \u001b[32m━━━━━━━━━━━━━━━━━━━━\u001b[0m\u001b[37m\u001b[0m \u001b[1m5s\u001b[0m 4ms/step - accuracy: 0.5498 - loss: 1.5426 - val_accuracy: 0.5792 - val_loss: 1.4188\n",
      "Epoch 14/100\n",
      "\u001b[1m1239/1239\u001b[0m \u001b[32m━━━━━━━━━━━━━━━━━━━━\u001b[0m\u001b[37m\u001b[0m \u001b[1m4s\u001b[0m 3ms/step - accuracy: 0.5482 - loss: 1.5431 - val_accuracy: 0.5809 - val_loss: 1.4132\n",
      "Epoch 15/100\n",
      "\u001b[1m1239/1239\u001b[0m \u001b[32m━━━━━━━━━━━━━━━━━━━━\u001b[0m\u001b[37m\u001b[0m \u001b[1m4s\u001b[0m 3ms/step - accuracy: 0.5508 - loss: 1.5318 - val_accuracy: 0.5825 - val_loss: 1.4043\n",
      "Epoch 16/100\n",
      "\u001b[1m1239/1239\u001b[0m \u001b[32m━━━━━━━━━━━━━━━━━━━━\u001b[0m\u001b[37m\u001b[0m \u001b[1m4s\u001b[0m 3ms/step - accuracy: 0.5518 - loss: 1.5304 - val_accuracy: 0.5855 - val_loss: 1.3995\n",
      "Epoch 17/100\n",
      "\u001b[1m1239/1239\u001b[0m \u001b[32m━━━━━━━━━━━━━━━━━━━━\u001b[0m\u001b[37m\u001b[0m \u001b[1m4s\u001b[0m 3ms/step - accuracy: 0.5517 - loss: 1.5281 - val_accuracy: 0.5864 - val_loss: 1.3993\n",
      "Epoch 18/100\n",
      "\u001b[1m1239/1239\u001b[0m \u001b[32m━━━━━━━━━━━━━━━━━━━━\u001b[0m\u001b[37m\u001b[0m \u001b[1m4s\u001b[0m 4ms/step - accuracy: 0.5571 - loss: 1.5160 - val_accuracy: 0.5865 - val_loss: 1.4018\n",
      "Epoch 19/100\n",
      "\u001b[1m1239/1239\u001b[0m \u001b[32m━━━━━━━━━━━━━━━━━━━━\u001b[0m\u001b[37m\u001b[0m \u001b[1m4s\u001b[0m 4ms/step - accuracy: 0.5534 - loss: 1.5203 - val_accuracy: 0.5878 - val_loss: 1.3963\n",
      "Epoch 20/100\n",
      "\u001b[1m1239/1239\u001b[0m \u001b[32m━━━━━━━━━━━━━━━━━━━━\u001b[0m\u001b[37m\u001b[0m \u001b[1m5s\u001b[0m 4ms/step - accuracy: 0.5550 - loss: 1.5126 - val_accuracy: 0.5865 - val_loss: 1.3947\n",
      "Epoch 21/100\n",
      "\u001b[1m1239/1239\u001b[0m \u001b[32m━━━━━━━━━━━━━━━━━━━━\u001b[0m\u001b[37m\u001b[0m \u001b[1m5s\u001b[0m 3ms/step - accuracy: 0.5579 - loss: 1.5085 - val_accuracy: 0.5911 - val_loss: 1.3855\n",
      "Epoch 22/100\n",
      "\u001b[1m1239/1239\u001b[0m \u001b[32m━━━━━━━━━━━━━━━━━━━━\u001b[0m\u001b[37m\u001b[0m \u001b[1m4s\u001b[0m 3ms/step - accuracy: 0.5618 - loss: 1.5007 - val_accuracy: 0.5857 - val_loss: 1.3911\n",
      "Epoch 23/100\n",
      "\u001b[1m1239/1239\u001b[0m \u001b[32m━━━━━━━━━━━━━━━━━━━━\u001b[0m\u001b[37m\u001b[0m \u001b[1m4s\u001b[0m 4ms/step - accuracy: 0.5584 - loss: 1.5043 - val_accuracy: 0.5905 - val_loss: 1.3842\n",
      "Epoch 24/100\n",
      "\u001b[1m1239/1239\u001b[0m \u001b[32m━━━━━━━━━━━━━━━━━━━━\u001b[0m\u001b[37m\u001b[0m \u001b[1m4s\u001b[0m 3ms/step - accuracy: 0.5603 - loss: 1.4988 - val_accuracy: 0.5880 - val_loss: 1.3829\n",
      "Epoch 25/100\n",
      "\u001b[1m1239/1239\u001b[0m \u001b[32m━━━━━━━━━━━━━━━━━━━━\u001b[0m\u001b[37m\u001b[0m \u001b[1m4s\u001b[0m 3ms/step - accuracy: 0.5601 - loss: 1.4970 - val_accuracy: 0.5895 - val_loss: 1.3821\n",
      "Epoch 26/100\n",
      "\u001b[1m1239/1239\u001b[0m \u001b[32m━━━━━━━━━━━━━━━━━━━━\u001b[0m\u001b[37m\u001b[0m \u001b[1m4s\u001b[0m 3ms/step - accuracy: 0.5608 - loss: 1.4953 - val_accuracy: 0.5880 - val_loss: 1.3843\n",
      "Epoch 27/100\n",
      "\u001b[1m1239/1239\u001b[0m \u001b[32m━━━━━━━━━━━━━━━━━━━━\u001b[0m\u001b[37m\u001b[0m \u001b[1m5s\u001b[0m 4ms/step - accuracy: 0.5616 - loss: 1.4883 - val_accuracy: 0.5886 - val_loss: 1.3838\n",
      "Epoch 28/100\n",
      "\u001b[1m1239/1239\u001b[0m \u001b[32m━━━━━━━━━━━━━━━━━━━━\u001b[0m\u001b[37m\u001b[0m \u001b[1m4s\u001b[0m 3ms/step - accuracy: 0.5618 - loss: 1.4967 - val_accuracy: 0.5908 - val_loss: 1.3812\n",
      "Epoch 29/100\n",
      "\u001b[1m1239/1239\u001b[0m \u001b[32m━━━━━━━━━━━━━━━━━━━━\u001b[0m\u001b[37m\u001b[0m \u001b[1m4s\u001b[0m 3ms/step - accuracy: 0.5635 - loss: 1.4908 - val_accuracy: 0.5944 - val_loss: 1.3736\n",
      "Epoch 30/100\n",
      "\u001b[1m1239/1239\u001b[0m \u001b[32m━━━━━━━━━━━━━━━━━━━━\u001b[0m\u001b[37m\u001b[0m \u001b[1m4s\u001b[0m 3ms/step - accuracy: 0.5621 - loss: 1.4935 - val_accuracy: 0.5918 - val_loss: 1.3732\n",
      "Epoch 31/100\n",
      "\u001b[1m1239/1239\u001b[0m \u001b[32m━━━━━━━━━━━━━━━━━━━━\u001b[0m\u001b[37m\u001b[0m \u001b[1m4s\u001b[0m 3ms/step - accuracy: 0.5636 - loss: 1.4880 - val_accuracy: 0.5889 - val_loss: 1.3726\n",
      "Epoch 32/100\n",
      "\u001b[1m1239/1239\u001b[0m \u001b[32m━━━━━━━━━━━━━━━━━━━━\u001b[0m\u001b[37m\u001b[0m \u001b[1m4s\u001b[0m 3ms/step - accuracy: 0.5625 - loss: 1.4871 - val_accuracy: 0.5954 - val_loss: 1.3731\n",
      "Epoch 33/100\n",
      "\u001b[1m1239/1239\u001b[0m \u001b[32m━━━━━━━━━━━━━━━━━━━━\u001b[0m\u001b[37m\u001b[0m \u001b[1m4s\u001b[0m 3ms/step - accuracy: 0.5641 - loss: 1.4808 - val_accuracy: 0.5924 - val_loss: 1.3730\n",
      "Epoch 34/100\n",
      "\u001b[1m1239/1239\u001b[0m \u001b[32m━━━━━━━━━━━━━━━━━━━━\u001b[0m\u001b[37m\u001b[0m \u001b[1m4s\u001b[0m 4ms/step - accuracy: 0.5655 - loss: 1.4802 - val_accuracy: 0.5916 - val_loss: 1.3738\n",
      "Epoch 35/100\n",
      "\u001b[1m1239/1239\u001b[0m \u001b[32m━━━━━━━━━━━━━━━━━━━━\u001b[0m\u001b[37m\u001b[0m \u001b[1m5s\u001b[0m 4ms/step - accuracy: 0.5632 - loss: 1.4822 - val_accuracy: 0.5917 - val_loss: 1.3754\n",
      "Epoch 36/100\n",
      "\u001b[1m1239/1239\u001b[0m \u001b[32m━━━━━━━━━━━━━━━━━━━━\u001b[0m\u001b[37m\u001b[0m \u001b[1m4s\u001b[0m 4ms/step - accuracy: 0.5659 - loss: 1.4825 - val_accuracy: 0.5900 - val_loss: 1.3783\n",
      "Epoch 37/100\n",
      "\u001b[1m1239/1239\u001b[0m \u001b[32m━━━━━━━━━━━━━━━━━━━━\u001b[0m\u001b[37m\u001b[0m \u001b[1m4s\u001b[0m 3ms/step - accuracy: 0.5669 - loss: 1.4728 - val_accuracy: 0.5903 - val_loss: 1.3774\n",
      "Epoch 38/100\n",
      "\u001b[1m1239/1239\u001b[0m \u001b[32m━━━━━━━━━━━━━━━━━━━━\u001b[0m\u001b[37m\u001b[0m \u001b[1m4s\u001b[0m 3ms/step - accuracy: 0.5662 - loss: 1.4814 - val_accuracy: 0.5944 - val_loss: 1.3722\n",
      "Epoch 39/100\n",
      "\u001b[1m1239/1239\u001b[0m \u001b[32m━━━━━━━━━━━━━━━━━━━━\u001b[0m\u001b[37m\u001b[0m \u001b[1m4s\u001b[0m 3ms/step - accuracy: 0.5636 - loss: 1.4850 - val_accuracy: 0.5953 - val_loss: 1.3657\n",
      "Epoch 40/100\n",
      "\u001b[1m1239/1239\u001b[0m \u001b[32m━━━━━━━━━━━━━━━━━━━━\u001b[0m\u001b[37m\u001b[0m \u001b[1m4s\u001b[0m 3ms/step - accuracy: 0.5644 - loss: 1.4817 - val_accuracy: 0.5952 - val_loss: 1.3602\n",
      "Epoch 41/100\n",
      "\u001b[1m1239/1239\u001b[0m \u001b[32m━━━━━━━━━━━━━━━━━━━━\u001b[0m\u001b[37m\u001b[0m \u001b[1m5s\u001b[0m 4ms/step - accuracy: 0.5638 - loss: 1.4831 - val_accuracy: 0.5918 - val_loss: 1.3676\n",
      "Epoch 42/100\n",
      "\u001b[1m1239/1239\u001b[0m \u001b[32m━━━━━━━━━━━━━━━━━━━━\u001b[0m\u001b[37m\u001b[0m \u001b[1m5s\u001b[0m 4ms/step - accuracy: 0.5669 - loss: 1.4695 - val_accuracy: 0.5917 - val_loss: 1.3744\n",
      "Epoch 43/100\n",
      "\u001b[1m1239/1239\u001b[0m \u001b[32m━━━━━━━━━━━━━━━━━━━━\u001b[0m\u001b[37m\u001b[0m \u001b[1m4s\u001b[0m 4ms/step - accuracy: 0.5664 - loss: 1.4754 - val_accuracy: 0.5912 - val_loss: 1.3730\n",
      "Epoch 44/100\n",
      "\u001b[1m1239/1239\u001b[0m \u001b[32m━━━━━━━━━━━━━━━━━━━━\u001b[0m\u001b[37m\u001b[0m \u001b[1m4s\u001b[0m 3ms/step - accuracy: 0.5639 - loss: 1.4831 - val_accuracy: 0.5920 - val_loss: 1.3680\n",
      "Epoch 45/100\n",
      "\u001b[1m1239/1239\u001b[0m \u001b[32m━━━━━━━━━━━━━━━━━━━━\u001b[0m\u001b[37m\u001b[0m \u001b[1m4s\u001b[0m 3ms/step - accuracy: 0.5662 - loss: 1.4804 - val_accuracy: 0.5936 - val_loss: 1.3709\n",
      "Epoch 46/100\n",
      "\u001b[1m1239/1239\u001b[0m \u001b[32m━━━━━━━━━━━━━━━━━━━━\u001b[0m\u001b[37m\u001b[0m \u001b[1m4s\u001b[0m 3ms/step - accuracy: 0.5642 - loss: 1.4781 - val_accuracy: 0.5928 - val_loss: 1.3686\n",
      "Epoch 47/100\n",
      "\u001b[1m1239/1239\u001b[0m \u001b[32m━━━━━━━━━━━━━━━━━━━━\u001b[0m\u001b[37m\u001b[0m \u001b[1m4s\u001b[0m 3ms/step - accuracy: 0.5657 - loss: 1.4843 - val_accuracy: 0.5959 - val_loss: 1.3670\n",
      "Epoch 48/100\n",
      "\u001b[1m1239/1239\u001b[0m \u001b[32m━━━━━━━━━━━━━━━━━━━━\u001b[0m\u001b[37m\u001b[0m \u001b[1m4s\u001b[0m 3ms/step - accuracy: 0.5708 - loss: 1.4579 - val_accuracy: 0.5931 - val_loss: 1.3703\n",
      "Epoch 49/100\n",
      "\u001b[1m1239/1239\u001b[0m \u001b[32m━━━━━━━━━━━━━━━━━━━━\u001b[0m\u001b[37m\u001b[0m \u001b[1m5s\u001b[0m 4ms/step - accuracy: 0.5655 - loss: 1.4743 - val_accuracy: 0.5927 - val_loss: 1.3732\n",
      "Epoch 50/100\n",
      "\u001b[1m1239/1239\u001b[0m \u001b[32m━━━━━━━━━━━━━━━━━━━━\u001b[0m\u001b[37m\u001b[0m \u001b[1m4s\u001b[0m 4ms/step - accuracy: 0.5651 - loss: 1.4781 - val_accuracy: 0.5944 - val_loss: 1.3666\n",
      "Epoch 51/100\n",
      "\u001b[1m1239/1239\u001b[0m \u001b[32m━━━━━━━━━━━━━━━━━━━━\u001b[0m\u001b[37m\u001b[0m \u001b[1m4s\u001b[0m 3ms/step - accuracy: 0.5639 - loss: 1.4798 - val_accuracy: 0.5908 - val_loss: 1.3726\n",
      "Epoch 52/100\n",
      "\u001b[1m1239/1239\u001b[0m \u001b[32m━━━━━━━━━━━━━━━━━━━━\u001b[0m\u001b[37m\u001b[0m \u001b[1m4s\u001b[0m 3ms/step - accuracy: 0.5655 - loss: 1.4723 - val_accuracy: 0.5933 - val_loss: 1.3667\n",
      "Epoch 53/100\n",
      "\u001b[1m1239/1239\u001b[0m \u001b[32m━━━━━━━━━━━━━━━━━━━━\u001b[0m\u001b[37m\u001b[0m \u001b[1m4s\u001b[0m 3ms/step - accuracy: 0.5656 - loss: 1.4757 - val_accuracy: 0.5888 - val_loss: 1.3785\n",
      "Epoch 54/100\n",
      "\u001b[1m1239/1239\u001b[0m \u001b[32m━━━━━━━━━━━━━━━━━━━━\u001b[0m\u001b[37m\u001b[0m \u001b[1m4s\u001b[0m 3ms/step - accuracy: 0.5664 - loss: 1.4762 - val_accuracy: 0.5968 - val_loss: 1.3607\n",
      "Epoch 55/100\n",
      "\u001b[1m1239/1239\u001b[0m \u001b[32m━━━━━━━━━━━━━━━━━━━━\u001b[0m\u001b[37m\u001b[0m \u001b[1m4s\u001b[0m 3ms/step - accuracy: 0.5672 - loss: 1.4765 - val_accuracy: 0.5925 - val_loss: 1.3708\n",
      "Epoch 56/100\n",
      "\u001b[1m1239/1239\u001b[0m \u001b[32m━━━━━━━━━━━━━━━━━━━━\u001b[0m\u001b[37m\u001b[0m \u001b[1m5s\u001b[0m 4ms/step - accuracy: 0.5644 - loss: 1.4842 - val_accuracy: 0.5940 - val_loss: 1.3671\n",
      "Epoch 57/100\n",
      "\u001b[1m1239/1239\u001b[0m \u001b[32m━━━━━━━━━━━━━━━━━━━━\u001b[0m\u001b[37m\u001b[0m \u001b[1m5s\u001b[0m 4ms/step - accuracy: 0.5657 - loss: 1.4740 - val_accuracy: 0.5948 - val_loss: 1.3730\n",
      "Epoch 58/100\n",
      "\u001b[1m1239/1239\u001b[0m \u001b[32m━━━━━━━━━━━━━━━━━━━━\u001b[0m\u001b[37m\u001b[0m \u001b[1m4s\u001b[0m 3ms/step - accuracy: 0.5639 - loss: 1.4773 - val_accuracy: 0.5927 - val_loss: 1.3634\n",
      "Epoch 59/100\n",
      "\u001b[1m1239/1239\u001b[0m \u001b[32m━━━━━━━━━━━━━━━━━━━━\u001b[0m\u001b[37m\u001b[0m \u001b[1m4s\u001b[0m 3ms/step - accuracy: 0.5667 - loss: 1.4726 - val_accuracy: 0.5935 - val_loss: 1.3703\n",
      "Epoch 60/100\n",
      "\u001b[1m1239/1239\u001b[0m \u001b[32m━━━━━━━━━━━━━━━━━━━━\u001b[0m\u001b[37m\u001b[0m \u001b[1m4s\u001b[0m 3ms/step - accuracy: 0.5625 - loss: 1.4861 - val_accuracy: 0.5903 - val_loss: 1.3706\n",
      "Epoch 61/100\n",
      "\u001b[1m1239/1239\u001b[0m \u001b[32m━━━━━━━━━━━━━━━━━━━━\u001b[0m\u001b[37m\u001b[0m \u001b[1m4s\u001b[0m 3ms/step - accuracy: 0.5641 - loss: 1.4771 - val_accuracy: 0.5932 - val_loss: 1.3731\n",
      "Epoch 62/100\n",
      "\u001b[1m1239/1239\u001b[0m \u001b[32m━━━━━━━━━━━━━━━━━━━━\u001b[0m\u001b[37m\u001b[0m \u001b[1m4s\u001b[0m 3ms/step - accuracy: 0.5654 - loss: 1.4786 - val_accuracy: 0.5949 - val_loss: 1.3645\n",
      "Epoch 63/100\n",
      "\u001b[1m1239/1239\u001b[0m \u001b[32m━━━━━━━━━━━━━━━━━━━━\u001b[0m\u001b[37m\u001b[0m \u001b[1m4s\u001b[0m 4ms/step - accuracy: 0.5636 - loss: 1.4803 - val_accuracy: 0.5932 - val_loss: 1.3659\n",
      "Epoch 64/100\n",
      "\u001b[1m1239/1239\u001b[0m \u001b[32m━━━━━━━━━━━━━━━━━━━━\u001b[0m\u001b[37m\u001b[0m \u001b[1m5s\u001b[0m 4ms/step - accuracy: 0.5645 - loss: 1.4789 - val_accuracy: 0.5910 - val_loss: 1.3716\n",
      "Epoch 65/100\n",
      "\u001b[1m1239/1239\u001b[0m \u001b[32m━━━━━━━━━━━━━━━━━━━━\u001b[0m\u001b[37m\u001b[0m \u001b[1m4s\u001b[0m 3ms/step - accuracy: 0.5663 - loss: 1.4756 - val_accuracy: 0.5926 - val_loss: 1.3711\n",
      "Epoch 66/100\n",
      "\u001b[1m1239/1239\u001b[0m \u001b[32m━━━━━━━━━━━━━━━━━━━━\u001b[0m\u001b[37m\u001b[0m \u001b[1m4s\u001b[0m 3ms/step - accuracy: 0.5655 - loss: 1.4777 - val_accuracy: 0.5947 - val_loss: 1.3754\n",
      "Epoch 67/100\n",
      "\u001b[1m1239/1239\u001b[0m \u001b[32m━━━━━━━━━━━━━━━━━━━━\u001b[0m\u001b[37m\u001b[0m \u001b[1m4s\u001b[0m 3ms/step - accuracy: 0.5630 - loss: 1.4819 - val_accuracy: 0.5913 - val_loss: 1.3708\n",
      "Epoch 68/100\n",
      "\u001b[1m1239/1239\u001b[0m \u001b[32m━━━━━━━━━━━━━━━━━━━━\u001b[0m\u001b[37m\u001b[0m \u001b[1m4s\u001b[0m 3ms/step - accuracy: 0.5626 - loss: 1.4818 - val_accuracy: 0.5946 - val_loss: 1.3675\n",
      "Epoch 69/100\n",
      "\u001b[1m1239/1239\u001b[0m \u001b[32m━━━━━━━━━━━━━━━━━━━━\u001b[0m\u001b[37m\u001b[0m \u001b[1m4s\u001b[0m 4ms/step - accuracy: 0.5638 - loss: 1.4842 - val_accuracy: 0.5914 - val_loss: 1.3693\n",
      "Epoch 70/100\n",
      "\u001b[1m1239/1239\u001b[0m \u001b[32m━━━━━━━━━━━━━━━━━━━━\u001b[0m\u001b[37m\u001b[0m \u001b[1m5s\u001b[0m 4ms/step - accuracy: 0.5652 - loss: 1.4859 - val_accuracy: 0.5932 - val_loss: 1.3658\n",
      "Epoch 71/100\n",
      "\u001b[1m1239/1239\u001b[0m \u001b[32m━━━━━━━━━━━━━━━━━━━━\u001b[0m\u001b[37m\u001b[0m \u001b[1m4s\u001b[0m 3ms/step - accuracy: 0.5627 - loss: 1.4802 - val_accuracy: 0.5909 - val_loss: 1.3726\n",
      "Epoch 72/100\n",
      "\u001b[1m1239/1239\u001b[0m \u001b[32m━━━━━━━━━━━━━━━━━━━━\u001b[0m\u001b[37m\u001b[0m \u001b[1m5s\u001b[0m 4ms/step - accuracy: 0.5632 - loss: 1.4820 - val_accuracy: 0.5934 - val_loss: 1.3750\n",
      "Epoch 73/100\n",
      "\u001b[1m1239/1239\u001b[0m \u001b[32m━━━━━━━━━━━━━━━━━━━━\u001b[0m\u001b[37m\u001b[0m \u001b[1m4s\u001b[0m 4ms/step - accuracy: 0.5651 - loss: 1.4771 - val_accuracy: 0.5929 - val_loss: 1.3745\n",
      "Epoch 74/100\n",
      "\u001b[1m1239/1239\u001b[0m \u001b[32m━━━━━━━━━━━━━━━━━━━━\u001b[0m\u001b[37m\u001b[0m \u001b[1m4s\u001b[0m 4ms/step - accuracy: 0.5633 - loss: 1.4805 - val_accuracy: 0.5896 - val_loss: 1.3789\n",
      "Epoch 75/100\n",
      "\u001b[1m1239/1239\u001b[0m \u001b[32m━━━━━━━━━━━━━━━━━━━━\u001b[0m\u001b[37m\u001b[0m \u001b[1m4s\u001b[0m 4ms/step - accuracy: 0.5604 - loss: 1.4923 - val_accuracy: 0.5949 - val_loss: 1.3750\n",
      "Epoch 76/100\n",
      "\u001b[1m1239/1239\u001b[0m \u001b[32m━━━━━━━━━━━━━━━━━━━━\u001b[0m\u001b[37m\u001b[0m \u001b[1m4s\u001b[0m 3ms/step - accuracy: 0.5631 - loss: 1.4828 - val_accuracy: 0.5927 - val_loss: 1.3742\n",
      "Epoch 77/100\n",
      "\u001b[1m1239/1239\u001b[0m \u001b[32m━━━━━━━━━━━━━━━━━━━━\u001b[0m\u001b[37m\u001b[0m \u001b[1m5s\u001b[0m 4ms/step - accuracy: 0.5634 - loss: 1.4871 - val_accuracy: 0.5947 - val_loss: 1.3642\n",
      "Epoch 78/100\n",
      "\u001b[1m1239/1239\u001b[0m \u001b[32m━━━━━━━━━━━━━━━━━━━━\u001b[0m\u001b[37m\u001b[0m \u001b[1m5s\u001b[0m 4ms/step - accuracy: 0.5634 - loss: 1.4850 - val_accuracy: 0.5946 - val_loss: 1.3707\n",
      "Epoch 79/100\n",
      "\u001b[1m1239/1239\u001b[0m \u001b[32m━━━━━━━━━━━━━━━━━━━━\u001b[0m\u001b[37m\u001b[0m \u001b[1m5s\u001b[0m 4ms/step - accuracy: 0.5644 - loss: 1.4799 - val_accuracy: 0.5939 - val_loss: 1.3781\n",
      "Epoch 80/100\n",
      "\u001b[1m1239/1239\u001b[0m \u001b[32m━━━━━━━━━━━━━━━━━━━━\u001b[0m\u001b[37m\u001b[0m \u001b[1m4s\u001b[0m 3ms/step - accuracy: 0.5591 - loss: 1.4983 - val_accuracy: 0.5907 - val_loss: 1.3723\n",
      "Epoch 81/100\n",
      "\u001b[1m1239/1239\u001b[0m \u001b[32m━━━━━━━━━━━━━━━━━━━━\u001b[0m\u001b[37m\u001b[0m \u001b[1m4s\u001b[0m 3ms/step - accuracy: 0.5613 - loss: 1.4880 - val_accuracy: 0.5933 - val_loss: 1.3671\n",
      "Epoch 82/100\n",
      "\u001b[1m1239/1239\u001b[0m \u001b[32m━━━━━━━━━━━━━━━━━━━━\u001b[0m\u001b[37m\u001b[0m \u001b[1m4s\u001b[0m 3ms/step - accuracy: 0.5613 - loss: 1.4924 - val_accuracy: 0.5941 - val_loss: 1.3688\n",
      "Epoch 83/100\n",
      "\u001b[1m1239/1239\u001b[0m \u001b[32m━━━━━━━━━━━━━━━━━━━━\u001b[0m\u001b[37m\u001b[0m \u001b[1m4s\u001b[0m 3ms/step - accuracy: 0.5600 - loss: 1.4877 - val_accuracy: 0.5897 - val_loss: 1.3726\n",
      "Epoch 84/100\n",
      "\u001b[1m1239/1239\u001b[0m \u001b[32m━━━━━━━━━━━━━━━━━━━━\u001b[0m\u001b[37m\u001b[0m \u001b[1m5s\u001b[0m 4ms/step - accuracy: 0.5611 - loss: 1.4882 - val_accuracy: 0.5902 - val_loss: 1.3764\n",
      "Epoch 85/100\n",
      "\u001b[1m1239/1239\u001b[0m \u001b[32m━━━━━━━━━━━━━━━━━━━━\u001b[0m\u001b[37m\u001b[0m \u001b[1m4s\u001b[0m 3ms/step - accuracy: 0.5614 - loss: 1.4845 - val_accuracy: 0.5918 - val_loss: 1.3764\n",
      "Epoch 86/100\n",
      "\u001b[1m1239/1239\u001b[0m \u001b[32m━━━━━━━━━━━━━━━━━━━━\u001b[0m\u001b[37m\u001b[0m \u001b[1m4s\u001b[0m 4ms/step - accuracy: 0.5630 - loss: 1.4845 - val_accuracy: 0.5913 - val_loss: 1.3727\n",
      "Epoch 87/100\n",
      "\u001b[1m1239/1239\u001b[0m \u001b[32m━━━━━━━━━━━━━━━━━━━━\u001b[0m\u001b[37m\u001b[0m \u001b[1m5s\u001b[0m 4ms/step - accuracy: 0.5635 - loss: 1.4831 - val_accuracy: 0.5906 - val_loss: 1.3715\n",
      "Epoch 88/100\n",
      "\u001b[1m1239/1239\u001b[0m \u001b[32m━━━━━━━━━━━━━━━━━━━━\u001b[0m\u001b[37m\u001b[0m \u001b[1m4s\u001b[0m 3ms/step - accuracy: 0.5606 - loss: 1.4932 - val_accuracy: 0.5906 - val_loss: 1.3762\n",
      "Epoch 89/100\n",
      "\u001b[1m1239/1239\u001b[0m \u001b[32m━━━━━━━━━━━━━━━━━━━━\u001b[0m\u001b[37m\u001b[0m \u001b[1m4s\u001b[0m 3ms/step - accuracy: 0.5606 - loss: 1.4902 - val_accuracy: 0.5904 - val_loss: 1.3718\n",
      "Epoch 90/100\n",
      "\u001b[1m1239/1239\u001b[0m \u001b[32m━━━━━━━━━━━━━━━━━━━━\u001b[0m\u001b[37m\u001b[0m \u001b[1m4s\u001b[0m 3ms/step - accuracy: 0.5604 - loss: 1.4875 - val_accuracy: 0.5880 - val_loss: 1.3867\n",
      "Epoch 91/100\n",
      "\u001b[1m1239/1239\u001b[0m \u001b[32m━━━━━━━━━━━━━━━━━━━━\u001b[0m\u001b[37m\u001b[0m \u001b[1m5s\u001b[0m 4ms/step - accuracy: 0.5583 - loss: 1.4961 - val_accuracy: 0.5915 - val_loss: 1.3751\n",
      "Epoch 92/100\n",
      "\u001b[1m1239/1239\u001b[0m \u001b[32m━━━━━━━━━━━━━━━━━━━━\u001b[0m\u001b[37m\u001b[0m \u001b[1m4s\u001b[0m 3ms/step - accuracy: 0.5607 - loss: 1.4936 - val_accuracy: 0.5888 - val_loss: 1.3836\n",
      "Epoch 93/100\n",
      "\u001b[1m1239/1239\u001b[0m \u001b[32m━━━━━━━━━━━━━━━━━━━━\u001b[0m\u001b[37m\u001b[0m \u001b[1m4s\u001b[0m 3ms/step - accuracy: 0.5611 - loss: 1.4934 - val_accuracy: 0.5913 - val_loss: 1.3750\n",
      "Epoch 94/100\n",
      "\u001b[1m1239/1239\u001b[0m \u001b[32m━━━━━━━━━━━━━━━━━━━━\u001b[0m\u001b[37m\u001b[0m \u001b[1m5s\u001b[0m 4ms/step - accuracy: 0.5624 - loss: 1.4924 - val_accuracy: 0.5913 - val_loss: 1.3778\n",
      "Epoch 95/100\n",
      "\u001b[1m1239/1239\u001b[0m \u001b[32m━━━━━━━━━━━━━━━━━━━━\u001b[0m\u001b[37m\u001b[0m \u001b[1m4s\u001b[0m 4ms/step - accuracy: 0.5588 - loss: 1.4948 - val_accuracy: 0.5884 - val_loss: 1.3858\n",
      "Epoch 96/100\n",
      "\u001b[1m1239/1239\u001b[0m \u001b[32m━━━━━━━━━━━━━━━━━━━━\u001b[0m\u001b[37m\u001b[0m \u001b[1m4s\u001b[0m 3ms/step - accuracy: 0.5606 - loss: 1.4960 - val_accuracy: 0.5909 - val_loss: 1.3801\n",
      "Epoch 97/100\n",
      "\u001b[1m1239/1239\u001b[0m \u001b[32m━━━━━━━━━━━━━━━━━━━━\u001b[0m\u001b[37m\u001b[0m \u001b[1m4s\u001b[0m 3ms/step - accuracy: 0.5579 - loss: 1.4972 - val_accuracy: 0.5918 - val_loss: 1.3790\n",
      "Epoch 98/100\n",
      "\u001b[1m1239/1239\u001b[0m \u001b[32m━━━━━━━━━━━━━━━━━━━━\u001b[0m\u001b[37m\u001b[0m \u001b[1m5s\u001b[0m 4ms/step - accuracy: 0.5573 - loss: 1.5054 - val_accuracy: 0.5904 - val_loss: 1.3751\n",
      "Epoch 99/100\n",
      "\u001b[1m1239/1239\u001b[0m \u001b[32m━━━━━━━━━━━━━━━━━━━━\u001b[0m\u001b[37m\u001b[0m \u001b[1m4s\u001b[0m 4ms/step - accuracy: 0.5588 - loss: 1.5004 - val_accuracy: 0.5908 - val_loss: 1.3760\n",
      "Epoch 100/100\n",
      "\u001b[1m1239/1239\u001b[0m \u001b[32m━━━━━━━━━━━━━━━━━━━━\u001b[0m\u001b[37m\u001b[0m \u001b[1m4s\u001b[0m 3ms/step - accuracy: 0.5598 - loss: 1.4946 - val_accuracy: 0.5867 - val_loss: 1.3765\n"
     ]
    },
    {
     "data": {
      "image/png": "[encoded data removed]",
      "text/plain": [
       "<Figure size 640x480 with 1 Axes>"
      ]
     },
     "metadata": {},
     "output_type": "display_data"
    },
    {
     "data": {
      "image/png": "[encoded data removed]",
      "text/plain": [
       "<Figure size 640x480 with 1 Axes>"
      ]
     },
     "metadata": {},
     "output_type": "display_data"
    },
    {
     "name": "stdout",
     "output_type": "stream",
     "text": [
      "\u001b[1m1239/1239\u001b[0m \u001b[32m━━━━━━━━━━━━━━━━━━━━\u001b[0m\u001b[37m\u001b[0m \u001b[1m3s\u001b[0m 2ms/step - accuracy: 0.5888 - loss: 1.3661\n",
      "Testing results for SimpleRNN model: [1.3765268325805664, 0.5867403745651245]\n"
     ]
    }
   ],
   "source": [
    "# Train the new SimpleRNN model\n",
    "history_simple_rnn = model_simple_rnn.fit(x_train, y_train, batch_size=128, epochs=100, validation_data=(x_test, y_test))\n",
    "\n",
    "# Plot accuracy\n",
    "plt.plot(history_simple_rnn.history['accuracy'])\n",
    "plt.plot(history_simple_rnn.history['val_accuracy'])\n",
    "plt.title('SimpleRNN Model Accuracy')\n",
    "plt.ylabel('accuracy')\n",
    "plt.xlabel('epoch')\n",
    "plt.legend(['train', 'validation'], loc='upper left')\n",
    "plt.show()\n",
    "\n",
    "# Plot loss\n",
    "plt.plot(history_simple_rnn.history['loss'])\n",
    "plt.plot(history_simple_rnn.history['val_loss'])\n",
    "plt.title('SimpleRNN Model Loss')\n",
    "plt.ylabel('loss')\n",
    "plt.xlabel('epoch')\n",
    "plt.legend(['train', 'validation'], loc='upper left')\n",
    "plt.show()\n",
    "\n",
    "# Evaluate the new model\n",
    "results_simple_rnn = model_simple_rnn.evaluate(x_test, y_test)\n",
    "print('Testing results for SimpleRNN model:', results_simple_rnn)\n"
   ]
  },
  {
   "cell_type": "code",
   "execution_count": 28,
   "id": "d4a962b4",
   "metadata": {
    "execution": {
     "iopub.execute_input": "2024-05-17T23:22:07.952509Z",
     "iopub.status.busy": "2024-05-17T23:22:07.952155Z",
     "iopub.status.idle": "2024-05-17T23:22:08.578533Z",
     "shell.execute_reply": "2024-05-17T23:22:08.577607Z"
    },
    "papermill": {
     "duration": 3.431619,
     "end_time": "2024-05-17T23:22:08.580423",
     "exception": false,
     "start_time": "2024-05-17T23:22:05.148804",
     "status": "completed"
    },
    "tags": []
   },
   "outputs": [
    {
     "name": "stdout",
     "output_type": "stream",
     "text": [
      "\u001b[1m1/1\u001b[0m \u001b[32m━━━━━━━━━━━━━━━━━━━━\u001b[0m\u001b[37m\u001b[0m \u001b[1m1s\u001b[0m 576ms/step\n",
      "The next character after 'natur ' is predicted to be 'l' using the SimpleRNN model\n"
     ]
    }
   ],
   "source": [
    "# Prediction for the next letter using the SimpleRNN model\n",
    "predicted_char_simple_rnn = predict_next_char(model_simple_rnn, \"natur \", chars_to_indices, indices_to_chars, maxlen)\n",
    "\n",
    "print(f\"The next character after 'natur ' is predicted to be '{predicted_char_simple_rnn}' using the SimpleRNN model\")\n"
   ]
  }
 ],
 "metadata": {
  "kaggle": {
   "accelerator": "nvidiaTeslaT4",
   "dataSources": [],
   "dockerImageVersionId": 30699,
   "isGpuEnabled": true,
   "isInternetEnabled": true,
   "language": "python",
   "sourceType": "notebook"
  },
  "kernelspec": {
   "display_name": "Python 3",
   "language": "python",
   "name": "python3"
  },
  "language_info": {
   "codemirror_mode": {
    "name": "ipython",
    "version": 3
   },
   "file_extension": ".py",
   "mimetype": "text/x-python",
   "name": "python",
   "nbconvert_exporter": "python",
   "pygments_lexer": "ipython3",
   "version": "3.10.13"
  },
  "papermill": {
   "default_parameters": {},
   "duration": 2121.063872,
   "end_time": "2024-05-17T23:22:14.214707",
   "environment_variables": {},
   "exception": null,
   "input_path": "__notebook__.ipynb",
   "output_path": "__notebook__.ipynb",
   "parameters": {},
   "start_time": "2024-05-17T22:46:53.150835",
   "version": "2.5.0"
  }
 },
 "nbformat": 4,
 "nbformat_minor": 5
}
